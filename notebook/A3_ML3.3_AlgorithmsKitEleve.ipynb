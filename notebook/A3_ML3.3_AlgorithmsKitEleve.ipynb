{
 "cells": [
  {
   "attachments": {},
   "cell_type": "markdown",
   "metadata": {},
   "source": [
    "# Dataset "
   ]
  },
  {
   "attachments": {},
   "cell_type": "markdown",
   "metadata": {},
   "source": [
    "https://www.kaggle.com/mariaren/covid19-healthy-diet-dataset"
   ]
  },
  {
   "attachments": {},
   "cell_type": "markdown",
   "metadata": {},
   "source": [
    "# Problem definition "
   ]
  },
  {
   "attachments": {},
   "cell_type": "markdown",
   "metadata": {},
   "source": [
    "We chose a dataset combining different types of food, world population obesity and undernourished rate, and global covid cases count from around the world.\n",
    "\n",
    "The idea is to understand how a healthy eating style could help combat the coronavirus, distinguishing the diet patterns from countries with lower COVID infection rate.\n",
    "\n",
    "Our goal here is to provide diet recommendations based on our findings.\n",
    "\n",
    "Each dataset provides different diet measure different categories of food, depending on what we want to focus on, so we have\n",
    "\n",
    "- fat quantity,\n",
    "- energy intake (kcal),\n",
    "- food supply quantity (kg),\n",
    "- protein for different categories of food\n",
    "\n",
    "To which have been added:\n",
    "\n",
    "- obesity rate\n",
    "- undernourished rate\n",
    "- the most up to date confirmed/deaths/recovered/active cases.\n",
    "\n",
    "We are going to focus on the fat quantity dataset."
   ]
  },
  {
   "cell_type": "markdown",
   "metadata": {},
   "source": [
    "#### Lib and config"
   ]
  },
  {
   "cell_type": "code",
   "execution_count": 15,
   "metadata": {},
   "outputs": [],
   "source": [
    "import numpy as np\n",
    "import pandas as pd\n",
    "\n",
    "from sklearn.datasets import load_iris\n",
    "import matplotlib.pyplot as plt\n",
    "\n",
    "import plotly.express as px \n",
    "\n",
    "from sklearn.cluster import KMeans\n",
    "\n",
    "from sklearn import tree\n",
    "from sklearn.tree import DecisionTreeClassifier\n",
    "from sklearn.ensemble import RandomForestClassifier\n",
    "from sklearn.linear_model import LinearRegression\n",
    "from sklearn.model_selection import learning_curve\n",
    "from sklearn.tree import export_graphviz, plot_tree\n",
    "from sklearn import metrics\n",
    "from sklearn.preprocessing import StandardScaler\n",
    "from sklearn.model_selection import train_test_split\n",
    "from sklearn.model_selection import KFold\n",
    "from sklearn.metrics import mean_squared_error\n",
    "from sklearn.svm import LinearSVC, SVC, SVR"
   ]
  },
  {
   "cell_type": "markdown",
   "metadata": {},
   "source": [
    "#### Functions"
   ]
  },
  {
   "cell_type": "code",
   "execution_count": 2,
   "metadata": {},
   "outputs": [],
   "source": [
    "def table_variable_attributes(df : pd.DataFrame) -> pd.DataFrame:  \n",
    "    \"\"\"Création table avec attributs des variables et % de valeurs manquantes\"\"\"  \n",
    "    df_temp = (pd.DataFrame(  \n",
    "        {  \n",
    "            'variable' : df.isna().describe(include=\"all\").columns,  \n",
    "            'count' : df.isna().describe(include=\"all\").loc['count'].astype(float),  \n",
    "            'unique' : df.isna().describe(include=\"all\").loc['unique'].astype(float),  \n",
    "            'top' : df.isna().describe(include=\"all\").loc['top'].astype(str),  \n",
    "            'freq_top' : df.isna().describe(include=\"all\").loc['freq'].astype(float)  \n",
    "            # \"unique\" dit s'il y a des na ou pas dans la colonne (1=pas de NA, 2 = présence de Na)  \n",
    "            # \"count\" nous donne le nb de lignes total  \n",
    "            # \"freq\" nous donne le nb de lignes du \"top\"  \n",
    "        }  \n",
    "    )  \n",
    "    .assign(percent_top=lambda df : df['freq_top']/df['count'])  \n",
    "    .reset_index()  \n",
    "    .assign(percent_na = lambda df : [df.loc[:,'percent_top'][row] if df['top'][row]=='True' else 1-df['percent_top'][row] for row in df.index] )  \n",
    "    .drop(columns=['percent_top', 'index', 'unique', 'top', 'freq_top'])  \n",
    "    .assign(percent_na=lambda df : round(df['percent_na']*100, 0),  \n",
    "            count=lambda df : df['count'].astype(int))  \n",
    "    .assign(type_variable = df.dtypes.astype(str).tolist())  \n",
    "    )  \n",
    "    return df_temp  "
   ]
  },
  {
   "cell_type": "markdown",
   "metadata": {},
   "source": [
    "#### Data loading"
   ]
  },
  {
   "attachments": {},
   "cell_type": "markdown",
   "metadata": {},
   "source": [
    "Let's start by loading the data"
   ]
  },
  {
   "cell_type": "code",
   "execution_count": 3,
   "metadata": {},
   "outputs": [
    {
     "data": {
      "text/html": [
       "<div>\n",
       "<style scoped>\n",
       "    .dataframe tbody tr th:only-of-type {\n",
       "        vertical-align: middle;\n",
       "    }\n",
       "\n",
       "    .dataframe tbody tr th {\n",
       "        vertical-align: top;\n",
       "    }\n",
       "\n",
       "    .dataframe thead th {\n",
       "        text-align: right;\n",
       "    }\n",
       "</style>\n",
       "<table border=\"1\" class=\"dataframe\">\n",
       "  <thead>\n",
       "    <tr style=\"text-align: right;\">\n",
       "      <th></th>\n",
       "      <th>Country</th>\n",
       "      <th>Alcoholic Beverages</th>\n",
       "      <th>Animal Products</th>\n",
       "      <th>Animal fats</th>\n",
       "      <th>Aquatic Products, Other</th>\n",
       "      <th>Cereals - Excluding Beer</th>\n",
       "      <th>Eggs</th>\n",
       "      <th>Fish, Seafood</th>\n",
       "      <th>Fruits - Excluding Wine</th>\n",
       "      <th>Meat</th>\n",
       "      <th>...</th>\n",
       "      <th>Vegetable Oils</th>\n",
       "      <th>Vegetables</th>\n",
       "      <th>Obesity</th>\n",
       "      <th>Undernourished</th>\n",
       "      <th>Confirmed</th>\n",
       "      <th>Deaths</th>\n",
       "      <th>Recovered</th>\n",
       "      <th>Active</th>\n",
       "      <th>Population</th>\n",
       "      <th>Unit (all except Population)</th>\n",
       "    </tr>\n",
       "  </thead>\n",
       "  <tbody>\n",
       "    <tr>\n",
       "      <th>0</th>\n",
       "      <td>Afghanistan</td>\n",
       "      <td>0.0000</td>\n",
       "      <td>21.6397</td>\n",
       "      <td>6.2224</td>\n",
       "      <td>0.0</td>\n",
       "      <td>8.0353</td>\n",
       "      <td>0.6859</td>\n",
       "      <td>0.0327</td>\n",
       "      <td>0.4246</td>\n",
       "      <td>6.1244</td>\n",
       "      <td>...</td>\n",
       "      <td>17.0831</td>\n",
       "      <td>0.3593</td>\n",
       "      <td>4.5</td>\n",
       "      <td>29.8</td>\n",
       "      <td>0.125149</td>\n",
       "      <td>0.005058</td>\n",
       "      <td>0.098263</td>\n",
       "      <td>0.021827</td>\n",
       "      <td>38928000.0</td>\n",
       "      <td>%</td>\n",
       "    </tr>\n",
       "    <tr>\n",
       "      <th>1</th>\n",
       "      <td>Albania</td>\n",
       "      <td>0.0000</td>\n",
       "      <td>32.0002</td>\n",
       "      <td>3.4172</td>\n",
       "      <td>0.0</td>\n",
       "      <td>2.6734</td>\n",
       "      <td>1.6448</td>\n",
       "      <td>0.1445</td>\n",
       "      <td>0.6418</td>\n",
       "      <td>8.7428</td>\n",
       "      <td>...</td>\n",
       "      <td>9.2443</td>\n",
       "      <td>0.6503</td>\n",
       "      <td>22.3</td>\n",
       "      <td>6.2</td>\n",
       "      <td>1.733298</td>\n",
       "      <td>0.035800</td>\n",
       "      <td>0.874560</td>\n",
       "      <td>0.822939</td>\n",
       "      <td>2838000.0</td>\n",
       "      <td>%</td>\n",
       "    </tr>\n",
       "    <tr>\n",
       "      <th>2</th>\n",
       "      <td>Algeria</td>\n",
       "      <td>0.0000</td>\n",
       "      <td>14.4175</td>\n",
       "      <td>0.8972</td>\n",
       "      <td>0.0</td>\n",
       "      <td>4.2035</td>\n",
       "      <td>1.2171</td>\n",
       "      <td>0.2008</td>\n",
       "      <td>0.5772</td>\n",
       "      <td>3.8961</td>\n",
       "      <td>...</td>\n",
       "      <td>27.3606</td>\n",
       "      <td>0.5145</td>\n",
       "      <td>26.6</td>\n",
       "      <td>3.9</td>\n",
       "      <td>0.208754</td>\n",
       "      <td>0.005882</td>\n",
       "      <td>0.137268</td>\n",
       "      <td>0.065604</td>\n",
       "      <td>44357000.0</td>\n",
       "      <td>%</td>\n",
       "    </tr>\n",
       "    <tr>\n",
       "      <th>3</th>\n",
       "      <td>Angola</td>\n",
       "      <td>0.0000</td>\n",
       "      <td>15.3041</td>\n",
       "      <td>1.3130</td>\n",
       "      <td>0.0</td>\n",
       "      <td>6.5545</td>\n",
       "      <td>0.1539</td>\n",
       "      <td>1.4155</td>\n",
       "      <td>0.3488</td>\n",
       "      <td>11.0268</td>\n",
       "      <td>...</td>\n",
       "      <td>22.4638</td>\n",
       "      <td>0.1231</td>\n",
       "      <td>6.8</td>\n",
       "      <td>25</td>\n",
       "      <td>0.050049</td>\n",
       "      <td>0.001144</td>\n",
       "      <td>0.027440</td>\n",
       "      <td>0.021465</td>\n",
       "      <td>32522000.0</td>\n",
       "      <td>%</td>\n",
       "    </tr>\n",
       "    <tr>\n",
       "      <th>4</th>\n",
       "      <td>Antigua and Barbuda</td>\n",
       "      <td>0.0000</td>\n",
       "      <td>27.7033</td>\n",
       "      <td>4.6686</td>\n",
       "      <td>0.0</td>\n",
       "      <td>3.2153</td>\n",
       "      <td>0.3872</td>\n",
       "      <td>1.5263</td>\n",
       "      <td>1.2177</td>\n",
       "      <td>14.3202</td>\n",
       "      <td>...</td>\n",
       "      <td>14.4436</td>\n",
       "      <td>0.2469</td>\n",
       "      <td>19.1</td>\n",
       "      <td>NaN</td>\n",
       "      <td>0.151020</td>\n",
       "      <td>0.005102</td>\n",
       "      <td>0.140816</td>\n",
       "      <td>0.005102</td>\n",
       "      <td>98000.0</td>\n",
       "      <td>%</td>\n",
       "    </tr>\n",
       "    <tr>\n",
       "      <th>...</th>\n",
       "      <td>...</td>\n",
       "      <td>...</td>\n",
       "      <td>...</td>\n",
       "      <td>...</td>\n",
       "      <td>...</td>\n",
       "      <td>...</td>\n",
       "      <td>...</td>\n",
       "      <td>...</td>\n",
       "      <td>...</td>\n",
       "      <td>...</td>\n",
       "      <td>...</td>\n",
       "      <td>...</td>\n",
       "      <td>...</td>\n",
       "      <td>...</td>\n",
       "      <td>...</td>\n",
       "      <td>...</td>\n",
       "      <td>...</td>\n",
       "      <td>...</td>\n",
       "      <td>...</td>\n",
       "      <td>...</td>\n",
       "      <td>...</td>\n",
       "    </tr>\n",
       "    <tr>\n",
       "      <th>165</th>\n",
       "      <td>Venezuela (Bolivarian Republic of)</td>\n",
       "      <td>0.0000</td>\n",
       "      <td>16.3261</td>\n",
       "      <td>2.2673</td>\n",
       "      <td>0.0</td>\n",
       "      <td>2.5449</td>\n",
       "      <td>0.6555</td>\n",
       "      <td>0.5707</td>\n",
       "      <td>0.9640</td>\n",
       "      <td>7.0949</td>\n",
       "      <td>...</td>\n",
       "      <td>29.5211</td>\n",
       "      <td>0.1851</td>\n",
       "      <td>25.2</td>\n",
       "      <td>21.2</td>\n",
       "      <td>0.377466</td>\n",
       "      <td>0.003351</td>\n",
       "      <td>0.359703</td>\n",
       "      <td>0.014411</td>\n",
       "      <td>28645000.0</td>\n",
       "      <td>%</td>\n",
       "    </tr>\n",
       "    <tr>\n",
       "      <th>166</th>\n",
       "      <td>Vietnam</td>\n",
       "      <td>0.0000</td>\n",
       "      <td>33.2484</td>\n",
       "      <td>3.8238</td>\n",
       "      <td>0.0</td>\n",
       "      <td>3.7155</td>\n",
       "      <td>0.7839</td>\n",
       "      <td>1.1217</td>\n",
       "      <td>0.4079</td>\n",
       "      <td>26.4292</td>\n",
       "      <td>...</td>\n",
       "      <td>5.6211</td>\n",
       "      <td>0.6373</td>\n",
       "      <td>2.1</td>\n",
       "      <td>9.3</td>\n",
       "      <td>0.001457</td>\n",
       "      <td>0.000036</td>\n",
       "      <td>0.001295</td>\n",
       "      <td>0.000126</td>\n",
       "      <td>96209000.0</td>\n",
       "      <td>%</td>\n",
       "    </tr>\n",
       "    <tr>\n",
       "      <th>167</th>\n",
       "      <td>Yemen</td>\n",
       "      <td>0.0000</td>\n",
       "      <td>12.5401</td>\n",
       "      <td>2.0131</td>\n",
       "      <td>0.0</td>\n",
       "      <td>11.5271</td>\n",
       "      <td>0.5514</td>\n",
       "      <td>0.3847</td>\n",
       "      <td>0.2564</td>\n",
       "      <td>8.0010</td>\n",
       "      <td>...</td>\n",
       "      <td>23.6312</td>\n",
       "      <td>0.1667</td>\n",
       "      <td>14.1</td>\n",
       "      <td>38.9</td>\n",
       "      <td>0.006987</td>\n",
       "      <td>0.002032</td>\n",
       "      <td>0.004640</td>\n",
       "      <td>0.000315</td>\n",
       "      <td>29826000.0</td>\n",
       "      <td>%</td>\n",
       "    </tr>\n",
       "    <tr>\n",
       "      <th>168</th>\n",
       "      <td>Zambia</td>\n",
       "      <td>0.0783</td>\n",
       "      <td>9.6005</td>\n",
       "      <td>1.6113</td>\n",
       "      <td>0.0</td>\n",
       "      <td>14.3225</td>\n",
       "      <td>0.6266</td>\n",
       "      <td>1.0070</td>\n",
       "      <td>0.1343</td>\n",
       "      <td>4.9010</td>\n",
       "      <td>...</td>\n",
       "      <td>15.2848</td>\n",
       "      <td>0.1567</td>\n",
       "      <td>6.5</td>\n",
       "      <td>46.7</td>\n",
       "      <td>0.099663</td>\n",
       "      <td>0.001996</td>\n",
       "      <td>0.094696</td>\n",
       "      <td>0.002970</td>\n",
       "      <td>18384000.0</td>\n",
       "      <td>%</td>\n",
       "    </tr>\n",
       "    <tr>\n",
       "      <th>169</th>\n",
       "      <td>Zimbabwe</td>\n",
       "      <td>0.0000</td>\n",
       "      <td>10.3796</td>\n",
       "      <td>2.9543</td>\n",
       "      <td>0.0</td>\n",
       "      <td>9.7922</td>\n",
       "      <td>0.3682</td>\n",
       "      <td>0.2455</td>\n",
       "      <td>0.0614</td>\n",
       "      <td>4.5674</td>\n",
       "      <td>...</td>\n",
       "      <td>26.9396</td>\n",
       "      <td>0.0789</td>\n",
       "      <td>12.3</td>\n",
       "      <td>51.3</td>\n",
       "      <td>0.076418</td>\n",
       "      <td>0.002079</td>\n",
       "      <td>0.064280</td>\n",
       "      <td>0.010059</td>\n",
       "      <td>14863000.0</td>\n",
       "      <td>%</td>\n",
       "    </tr>\n",
       "  </tbody>\n",
       "</table>\n",
       "<p>170 rows × 32 columns</p>\n",
       "</div>"
      ],
      "text/plain": [
       "                                Country  Alcoholic Beverages  Animal Products  \\\n",
       "0                           Afghanistan               0.0000          21.6397   \n",
       "1                               Albania               0.0000          32.0002   \n",
       "2                               Algeria               0.0000          14.4175   \n",
       "3                                Angola               0.0000          15.3041   \n",
       "4                   Antigua and Barbuda               0.0000          27.7033   \n",
       "..                                  ...                  ...              ...   \n",
       "165  Venezuela (Bolivarian Republic of)               0.0000          16.3261   \n",
       "166                             Vietnam               0.0000          33.2484   \n",
       "167                               Yemen               0.0000          12.5401   \n",
       "168                              Zambia               0.0783           9.6005   \n",
       "169                            Zimbabwe               0.0000          10.3796   \n",
       "\n",
       "     Animal fats  Aquatic Products, Other  Cereals - Excluding Beer    Eggs  \\\n",
       "0         6.2224                      0.0                    8.0353  0.6859   \n",
       "1         3.4172                      0.0                    2.6734  1.6448   \n",
       "2         0.8972                      0.0                    4.2035  1.2171   \n",
       "3         1.3130                      0.0                    6.5545  0.1539   \n",
       "4         4.6686                      0.0                    3.2153  0.3872   \n",
       "..           ...                      ...                       ...     ...   \n",
       "165       2.2673                      0.0                    2.5449  0.6555   \n",
       "166       3.8238                      0.0                    3.7155  0.7839   \n",
       "167       2.0131                      0.0                   11.5271  0.5514   \n",
       "168       1.6113                      0.0                   14.3225  0.6266   \n",
       "169       2.9543                      0.0                    9.7922  0.3682   \n",
       "\n",
       "     Fish, Seafood  Fruits - Excluding Wine     Meat  ...  Vegetable Oils  \\\n",
       "0           0.0327                   0.4246   6.1244  ...         17.0831   \n",
       "1           0.1445                   0.6418   8.7428  ...          9.2443   \n",
       "2           0.2008                   0.5772   3.8961  ...         27.3606   \n",
       "3           1.4155                   0.3488  11.0268  ...         22.4638   \n",
       "4           1.5263                   1.2177  14.3202  ...         14.4436   \n",
       "..             ...                      ...      ...  ...             ...   \n",
       "165         0.5707                   0.9640   7.0949  ...         29.5211   \n",
       "166         1.1217                   0.4079  26.4292  ...          5.6211   \n",
       "167         0.3847                   0.2564   8.0010  ...         23.6312   \n",
       "168         1.0070                   0.1343   4.9010  ...         15.2848   \n",
       "169         0.2455                   0.0614   4.5674  ...         26.9396   \n",
       "\n",
       "     Vegetables  Obesity  Undernourished  Confirmed    Deaths  Recovered  \\\n",
       "0        0.3593      4.5            29.8   0.125149  0.005058   0.098263   \n",
       "1        0.6503     22.3             6.2   1.733298  0.035800   0.874560   \n",
       "2        0.5145     26.6             3.9   0.208754  0.005882   0.137268   \n",
       "3        0.1231      6.8              25   0.050049  0.001144   0.027440   \n",
       "4        0.2469     19.1             NaN   0.151020  0.005102   0.140816   \n",
       "..          ...      ...             ...        ...       ...        ...   \n",
       "165      0.1851     25.2            21.2   0.377466  0.003351   0.359703   \n",
       "166      0.6373      2.1             9.3   0.001457  0.000036   0.001295   \n",
       "167      0.1667     14.1            38.9   0.006987  0.002032   0.004640   \n",
       "168      0.1567      6.5            46.7   0.099663  0.001996   0.094696   \n",
       "169      0.0789     12.3            51.3   0.076418  0.002079   0.064280   \n",
       "\n",
       "       Active  Population  Unit (all except Population)  \n",
       "0    0.021827  38928000.0                             %  \n",
       "1    0.822939   2838000.0                             %  \n",
       "2    0.065604  44357000.0                             %  \n",
       "3    0.021465  32522000.0                             %  \n",
       "4    0.005102     98000.0                             %  \n",
       "..        ...         ...                           ...  \n",
       "165  0.014411  28645000.0                             %  \n",
       "166  0.000126  96209000.0                             %  \n",
       "167  0.000315  29826000.0                             %  \n",
       "168  0.002970  18384000.0                             %  \n",
       "169  0.010059  14863000.0                             %  \n",
       "\n",
       "[170 rows x 32 columns]"
      ]
     },
     "execution_count": 3,
     "metadata": {},
     "output_type": "execute_result"
    }
   ],
   "source": [
    "fat_quantity = pd.read_csv(\"../data/Fat_Supply_Quantity_Data.csv\")\n",
    "fat_quantity"
   ]
  },
  {
   "attachments": {},
   "cell_type": "markdown",
   "metadata": {},
   "source": [
    " ## Data Exploration and Processing"
   ]
  },
  {
   "attachments": {},
   "cell_type": "markdown",
   "metadata": {},
   "source": [
    "Now let's explore the dataset:\n",
    "- check the head\n",
    "- the columns\n",
    "- the variable types"
   ]
  },
  {
   "cell_type": "code",
   "execution_count": 4,
   "metadata": {},
   "outputs": [
    {
     "data": {
      "text/html": [
       "<div>\n",
       "<style scoped>\n",
       "    .dataframe tbody tr th:only-of-type {\n",
       "        vertical-align: middle;\n",
       "    }\n",
       "\n",
       "    .dataframe tbody tr th {\n",
       "        vertical-align: top;\n",
       "    }\n",
       "\n",
       "    .dataframe thead th {\n",
       "        text-align: right;\n",
       "    }\n",
       "</style>\n",
       "<table border=\"1\" class=\"dataframe\">\n",
       "  <thead>\n",
       "    <tr style=\"text-align: right;\">\n",
       "      <th></th>\n",
       "      <th>Country</th>\n",
       "      <th>Alcoholic Beverages</th>\n",
       "      <th>Animal Products</th>\n",
       "      <th>Animal fats</th>\n",
       "      <th>Aquatic Products, Other</th>\n",
       "      <th>Cereals - Excluding Beer</th>\n",
       "      <th>Eggs</th>\n",
       "      <th>Fish, Seafood</th>\n",
       "      <th>Fruits - Excluding Wine</th>\n",
       "      <th>Meat</th>\n",
       "      <th>...</th>\n",
       "      <th>Vegetable Oils</th>\n",
       "      <th>Vegetables</th>\n",
       "      <th>Obesity</th>\n",
       "      <th>Undernourished</th>\n",
       "      <th>Confirmed</th>\n",
       "      <th>Deaths</th>\n",
       "      <th>Recovered</th>\n",
       "      <th>Active</th>\n",
       "      <th>Population</th>\n",
       "      <th>Unit (all except Population)</th>\n",
       "    </tr>\n",
       "  </thead>\n",
       "  <tbody>\n",
       "    <tr>\n",
       "      <th>0</th>\n",
       "      <td>Afghanistan</td>\n",
       "      <td>0.0</td>\n",
       "      <td>21.6397</td>\n",
       "      <td>6.2224</td>\n",
       "      <td>0.0</td>\n",
       "      <td>8.0353</td>\n",
       "      <td>0.6859</td>\n",
       "      <td>0.0327</td>\n",
       "      <td>0.4246</td>\n",
       "      <td>6.1244</td>\n",
       "      <td>...</td>\n",
       "      <td>17.0831</td>\n",
       "      <td>0.3593</td>\n",
       "      <td>4.5</td>\n",
       "      <td>29.8</td>\n",
       "      <td>0.125149</td>\n",
       "      <td>0.005058</td>\n",
       "      <td>0.098263</td>\n",
       "      <td>0.021827</td>\n",
       "      <td>38928000.0</td>\n",
       "      <td>%</td>\n",
       "    </tr>\n",
       "    <tr>\n",
       "      <th>1</th>\n",
       "      <td>Albania</td>\n",
       "      <td>0.0</td>\n",
       "      <td>32.0002</td>\n",
       "      <td>3.4172</td>\n",
       "      <td>0.0</td>\n",
       "      <td>2.6734</td>\n",
       "      <td>1.6448</td>\n",
       "      <td>0.1445</td>\n",
       "      <td>0.6418</td>\n",
       "      <td>8.7428</td>\n",
       "      <td>...</td>\n",
       "      <td>9.2443</td>\n",
       "      <td>0.6503</td>\n",
       "      <td>22.3</td>\n",
       "      <td>6.2</td>\n",
       "      <td>1.733298</td>\n",
       "      <td>0.035800</td>\n",
       "      <td>0.874560</td>\n",
       "      <td>0.822939</td>\n",
       "      <td>2838000.0</td>\n",
       "      <td>%</td>\n",
       "    </tr>\n",
       "    <tr>\n",
       "      <th>2</th>\n",
       "      <td>Algeria</td>\n",
       "      <td>0.0</td>\n",
       "      <td>14.4175</td>\n",
       "      <td>0.8972</td>\n",
       "      <td>0.0</td>\n",
       "      <td>4.2035</td>\n",
       "      <td>1.2171</td>\n",
       "      <td>0.2008</td>\n",
       "      <td>0.5772</td>\n",
       "      <td>3.8961</td>\n",
       "      <td>...</td>\n",
       "      <td>27.3606</td>\n",
       "      <td>0.5145</td>\n",
       "      <td>26.6</td>\n",
       "      <td>3.9</td>\n",
       "      <td>0.208754</td>\n",
       "      <td>0.005882</td>\n",
       "      <td>0.137268</td>\n",
       "      <td>0.065604</td>\n",
       "      <td>44357000.0</td>\n",
       "      <td>%</td>\n",
       "    </tr>\n",
       "    <tr>\n",
       "      <th>3</th>\n",
       "      <td>Angola</td>\n",
       "      <td>0.0</td>\n",
       "      <td>15.3041</td>\n",
       "      <td>1.3130</td>\n",
       "      <td>0.0</td>\n",
       "      <td>6.5545</td>\n",
       "      <td>0.1539</td>\n",
       "      <td>1.4155</td>\n",
       "      <td>0.3488</td>\n",
       "      <td>11.0268</td>\n",
       "      <td>...</td>\n",
       "      <td>22.4638</td>\n",
       "      <td>0.1231</td>\n",
       "      <td>6.8</td>\n",
       "      <td>25</td>\n",
       "      <td>0.050049</td>\n",
       "      <td>0.001144</td>\n",
       "      <td>0.027440</td>\n",
       "      <td>0.021465</td>\n",
       "      <td>32522000.0</td>\n",
       "      <td>%</td>\n",
       "    </tr>\n",
       "    <tr>\n",
       "      <th>4</th>\n",
       "      <td>Antigua and Barbuda</td>\n",
       "      <td>0.0</td>\n",
       "      <td>27.7033</td>\n",
       "      <td>4.6686</td>\n",
       "      <td>0.0</td>\n",
       "      <td>3.2153</td>\n",
       "      <td>0.3872</td>\n",
       "      <td>1.5263</td>\n",
       "      <td>1.2177</td>\n",
       "      <td>14.3202</td>\n",
       "      <td>...</td>\n",
       "      <td>14.4436</td>\n",
       "      <td>0.2469</td>\n",
       "      <td>19.1</td>\n",
       "      <td>NaN</td>\n",
       "      <td>0.151020</td>\n",
       "      <td>0.005102</td>\n",
       "      <td>0.140816</td>\n",
       "      <td>0.005102</td>\n",
       "      <td>98000.0</td>\n",
       "      <td>%</td>\n",
       "    </tr>\n",
       "  </tbody>\n",
       "</table>\n",
       "<p>5 rows × 32 columns</p>\n",
       "</div>"
      ],
      "text/plain": [
       "               Country  Alcoholic Beverages  Animal Products  Animal fats  \\\n",
       "0          Afghanistan                  0.0          21.6397       6.2224   \n",
       "1              Albania                  0.0          32.0002       3.4172   \n",
       "2              Algeria                  0.0          14.4175       0.8972   \n",
       "3               Angola                  0.0          15.3041       1.3130   \n",
       "4  Antigua and Barbuda                  0.0          27.7033       4.6686   \n",
       "\n",
       "   Aquatic Products, Other  Cereals - Excluding Beer    Eggs  Fish, Seafood  \\\n",
       "0                      0.0                    8.0353  0.6859         0.0327   \n",
       "1                      0.0                    2.6734  1.6448         0.1445   \n",
       "2                      0.0                    4.2035  1.2171         0.2008   \n",
       "3                      0.0                    6.5545  0.1539         1.4155   \n",
       "4                      0.0                    3.2153  0.3872         1.5263   \n",
       "\n",
       "   Fruits - Excluding Wine     Meat  ...  Vegetable Oils  Vegetables  Obesity  \\\n",
       "0                   0.4246   6.1244  ...         17.0831      0.3593      4.5   \n",
       "1                   0.6418   8.7428  ...          9.2443      0.6503     22.3   \n",
       "2                   0.5772   3.8961  ...         27.3606      0.5145     26.6   \n",
       "3                   0.3488  11.0268  ...         22.4638      0.1231      6.8   \n",
       "4                   1.2177  14.3202  ...         14.4436      0.2469     19.1   \n",
       "\n",
       "   Undernourished  Confirmed    Deaths  Recovered    Active  Population  \\\n",
       "0            29.8   0.125149  0.005058   0.098263  0.021827  38928000.0   \n",
       "1             6.2   1.733298  0.035800   0.874560  0.822939   2838000.0   \n",
       "2             3.9   0.208754  0.005882   0.137268  0.065604  44357000.0   \n",
       "3              25   0.050049  0.001144   0.027440  0.021465  32522000.0   \n",
       "4             NaN   0.151020  0.005102   0.140816  0.005102     98000.0   \n",
       "\n",
       "   Unit (all except Population)  \n",
       "0                             %  \n",
       "1                             %  \n",
       "2                             %  \n",
       "3                             %  \n",
       "4                             %  \n",
       "\n",
       "[5 rows x 32 columns]"
      ]
     },
     "execution_count": 4,
     "metadata": {},
     "output_type": "execute_result"
    }
   ],
   "source": [
    "fat_quantity.head()"
   ]
  },
  {
   "cell_type": "code",
   "execution_count": 5,
   "metadata": {},
   "outputs": [
    {
     "data": {
      "text/html": [
       "<div>\n",
       "<style scoped>\n",
       "    .dataframe tbody tr th:only-of-type {\n",
       "        vertical-align: middle;\n",
       "    }\n",
       "\n",
       "    .dataframe tbody tr th {\n",
       "        vertical-align: top;\n",
       "    }\n",
       "\n",
       "    .dataframe thead th {\n",
       "        text-align: right;\n",
       "    }\n",
       "</style>\n",
       "<table border=\"1\" class=\"dataframe\">\n",
       "  <thead>\n",
       "    <tr style=\"text-align: right;\">\n",
       "      <th></th>\n",
       "      <th>variable</th>\n",
       "      <th>count</th>\n",
       "      <th>percent_na</th>\n",
       "      <th>type_variable</th>\n",
       "    </tr>\n",
       "  </thead>\n",
       "  <tbody>\n",
       "    <tr>\n",
       "      <th>0</th>\n",
       "      <td>Country</td>\n",
       "      <td>170</td>\n",
       "      <td>0.0</td>\n",
       "      <td>object</td>\n",
       "    </tr>\n",
       "    <tr>\n",
       "      <th>1</th>\n",
       "      <td>Alcoholic Beverages</td>\n",
       "      <td>170</td>\n",
       "      <td>0.0</td>\n",
       "      <td>float64</td>\n",
       "    </tr>\n",
       "    <tr>\n",
       "      <th>2</th>\n",
       "      <td>Animal Products</td>\n",
       "      <td>170</td>\n",
       "      <td>0.0</td>\n",
       "      <td>float64</td>\n",
       "    </tr>\n",
       "    <tr>\n",
       "      <th>3</th>\n",
       "      <td>Animal fats</td>\n",
       "      <td>170</td>\n",
       "      <td>0.0</td>\n",
       "      <td>float64</td>\n",
       "    </tr>\n",
       "    <tr>\n",
       "      <th>4</th>\n",
       "      <td>Aquatic Products, Other</td>\n",
       "      <td>170</td>\n",
       "      <td>0.0</td>\n",
       "      <td>float64</td>\n",
       "    </tr>\n",
       "    <tr>\n",
       "      <th>5</th>\n",
       "      <td>Cereals - Excluding Beer</td>\n",
       "      <td>170</td>\n",
       "      <td>0.0</td>\n",
       "      <td>float64</td>\n",
       "    </tr>\n",
       "    <tr>\n",
       "      <th>6</th>\n",
       "      <td>Eggs</td>\n",
       "      <td>170</td>\n",
       "      <td>0.0</td>\n",
       "      <td>float64</td>\n",
       "    </tr>\n",
       "    <tr>\n",
       "      <th>7</th>\n",
       "      <td>Fish, Seafood</td>\n",
       "      <td>170</td>\n",
       "      <td>0.0</td>\n",
       "      <td>float64</td>\n",
       "    </tr>\n",
       "    <tr>\n",
       "      <th>8</th>\n",
       "      <td>Fruits - Excluding Wine</td>\n",
       "      <td>170</td>\n",
       "      <td>0.0</td>\n",
       "      <td>float64</td>\n",
       "    </tr>\n",
       "    <tr>\n",
       "      <th>9</th>\n",
       "      <td>Meat</td>\n",
       "      <td>170</td>\n",
       "      <td>0.0</td>\n",
       "      <td>float64</td>\n",
       "    </tr>\n",
       "    <tr>\n",
       "      <th>10</th>\n",
       "      <td>Miscellaneous</td>\n",
       "      <td>170</td>\n",
       "      <td>0.0</td>\n",
       "      <td>float64</td>\n",
       "    </tr>\n",
       "    <tr>\n",
       "      <th>11</th>\n",
       "      <td>Milk - Excluding Butter</td>\n",
       "      <td>170</td>\n",
       "      <td>0.0</td>\n",
       "      <td>float64</td>\n",
       "    </tr>\n",
       "    <tr>\n",
       "      <th>12</th>\n",
       "      <td>Offals</td>\n",
       "      <td>170</td>\n",
       "      <td>0.0</td>\n",
       "      <td>float64</td>\n",
       "    </tr>\n",
       "    <tr>\n",
       "      <th>13</th>\n",
       "      <td>Oilcrops</td>\n",
       "      <td>170</td>\n",
       "      <td>0.0</td>\n",
       "      <td>float64</td>\n",
       "    </tr>\n",
       "    <tr>\n",
       "      <th>14</th>\n",
       "      <td>Pulses</td>\n",
       "      <td>170</td>\n",
       "      <td>0.0</td>\n",
       "      <td>float64</td>\n",
       "    </tr>\n",
       "    <tr>\n",
       "      <th>15</th>\n",
       "      <td>Spices</td>\n",
       "      <td>170</td>\n",
       "      <td>0.0</td>\n",
       "      <td>float64</td>\n",
       "    </tr>\n",
       "    <tr>\n",
       "      <th>16</th>\n",
       "      <td>Starchy Roots</td>\n",
       "      <td>170</td>\n",
       "      <td>0.0</td>\n",
       "      <td>float64</td>\n",
       "    </tr>\n",
       "    <tr>\n",
       "      <th>17</th>\n",
       "      <td>Stimulants</td>\n",
       "      <td>170</td>\n",
       "      <td>0.0</td>\n",
       "      <td>float64</td>\n",
       "    </tr>\n",
       "    <tr>\n",
       "      <th>18</th>\n",
       "      <td>Sugar Crops</td>\n",
       "      <td>170</td>\n",
       "      <td>0.0</td>\n",
       "      <td>float64</td>\n",
       "    </tr>\n",
       "    <tr>\n",
       "      <th>19</th>\n",
       "      <td>Sugar &amp; Sweeteners</td>\n",
       "      <td>170</td>\n",
       "      <td>0.0</td>\n",
       "      <td>float64</td>\n",
       "    </tr>\n",
       "    <tr>\n",
       "      <th>20</th>\n",
       "      <td>Treenuts</td>\n",
       "      <td>170</td>\n",
       "      <td>0.0</td>\n",
       "      <td>float64</td>\n",
       "    </tr>\n",
       "    <tr>\n",
       "      <th>21</th>\n",
       "      <td>Vegetal Products</td>\n",
       "      <td>170</td>\n",
       "      <td>0.0</td>\n",
       "      <td>float64</td>\n",
       "    </tr>\n",
       "    <tr>\n",
       "      <th>22</th>\n",
       "      <td>Vegetable Oils</td>\n",
       "      <td>170</td>\n",
       "      <td>0.0</td>\n",
       "      <td>float64</td>\n",
       "    </tr>\n",
       "    <tr>\n",
       "      <th>23</th>\n",
       "      <td>Vegetables</td>\n",
       "      <td>170</td>\n",
       "      <td>0.0</td>\n",
       "      <td>float64</td>\n",
       "    </tr>\n",
       "    <tr>\n",
       "      <th>24</th>\n",
       "      <td>Obesity</td>\n",
       "      <td>170</td>\n",
       "      <td>2.0</td>\n",
       "      <td>float64</td>\n",
       "    </tr>\n",
       "    <tr>\n",
       "      <th>25</th>\n",
       "      <td>Undernourished</td>\n",
       "      <td>170</td>\n",
       "      <td>4.0</td>\n",
       "      <td>object</td>\n",
       "    </tr>\n",
       "    <tr>\n",
       "      <th>26</th>\n",
       "      <td>Confirmed</td>\n",
       "      <td>170</td>\n",
       "      <td>4.0</td>\n",
       "      <td>float64</td>\n",
       "    </tr>\n",
       "    <tr>\n",
       "      <th>27</th>\n",
       "      <td>Deaths</td>\n",
       "      <td>170</td>\n",
       "      <td>4.0</td>\n",
       "      <td>float64</td>\n",
       "    </tr>\n",
       "    <tr>\n",
       "      <th>28</th>\n",
       "      <td>Recovered</td>\n",
       "      <td>170</td>\n",
       "      <td>4.0</td>\n",
       "      <td>float64</td>\n",
       "    </tr>\n",
       "    <tr>\n",
       "      <th>29</th>\n",
       "      <td>Active</td>\n",
       "      <td>170</td>\n",
       "      <td>5.0</td>\n",
       "      <td>float64</td>\n",
       "    </tr>\n",
       "    <tr>\n",
       "      <th>30</th>\n",
       "      <td>Population</td>\n",
       "      <td>170</td>\n",
       "      <td>0.0</td>\n",
       "      <td>float64</td>\n",
       "    </tr>\n",
       "    <tr>\n",
       "      <th>31</th>\n",
       "      <td>Unit (all except Population)</td>\n",
       "      <td>170</td>\n",
       "      <td>0.0</td>\n",
       "      <td>object</td>\n",
       "    </tr>\n",
       "  </tbody>\n",
       "</table>\n",
       "</div>"
      ],
      "text/plain": [
       "                        variable  count  percent_na type_variable\n",
       "0                        Country    170         0.0        object\n",
       "1            Alcoholic Beverages    170         0.0       float64\n",
       "2                Animal Products    170         0.0       float64\n",
       "3                    Animal fats    170         0.0       float64\n",
       "4        Aquatic Products, Other    170         0.0       float64\n",
       "5       Cereals - Excluding Beer    170         0.0       float64\n",
       "6                           Eggs    170         0.0       float64\n",
       "7                  Fish, Seafood    170         0.0       float64\n",
       "8        Fruits - Excluding Wine    170         0.0       float64\n",
       "9                           Meat    170         0.0       float64\n",
       "10                 Miscellaneous    170         0.0       float64\n",
       "11       Milk - Excluding Butter    170         0.0       float64\n",
       "12                        Offals    170         0.0       float64\n",
       "13                      Oilcrops    170         0.0       float64\n",
       "14                        Pulses    170         0.0       float64\n",
       "15                        Spices    170         0.0       float64\n",
       "16                 Starchy Roots    170         0.0       float64\n",
       "17                    Stimulants    170         0.0       float64\n",
       "18                   Sugar Crops    170         0.0       float64\n",
       "19            Sugar & Sweeteners    170         0.0       float64\n",
       "20                      Treenuts    170         0.0       float64\n",
       "21              Vegetal Products    170         0.0       float64\n",
       "22                Vegetable Oils    170         0.0       float64\n",
       "23                    Vegetables    170         0.0       float64\n",
       "24                       Obesity    170         2.0       float64\n",
       "25                Undernourished    170         4.0        object\n",
       "26                     Confirmed    170         4.0       float64\n",
       "27                        Deaths    170         4.0       float64\n",
       "28                     Recovered    170         4.0       float64\n",
       "29                        Active    170         5.0       float64\n",
       "30                    Population    170         0.0       float64\n",
       "31  Unit (all except Population)    170         0.0        object"
      ]
     },
     "execution_count": 5,
     "metadata": {},
     "output_type": "execute_result"
    }
   ],
   "source": [
    "table_variable_attributes(fat_quantity)"
   ]
  },
  {
   "attachments": {},
   "cell_type": "markdown",
   "metadata": {},
   "source": [
    "Let's create a function to **check missing data** and unveil **the percentage of data missing** for each dataframe"
   ]
  },
  {
   "cell_type": "code",
   "execution_count": null,
   "metadata": {},
   "outputs": [],
   "source": []
  },
  {
   "attachments": {},
   "cell_type": "markdown",
   "metadata": {},
   "source": [
    "Delete the countries for which values are missing."
   ]
  },
  {
   "cell_type": "code",
   "execution_count": 6,
   "metadata": {},
   "outputs": [],
   "source": [
    "fat_quantity_clean = fat_quantity.dropna()"
   ]
  },
  {
   "attachments": {},
   "cell_type": "markdown",
   "metadata": {},
   "source": [
    "Look at the different data types for each variable."
   ]
  },
  {
   "cell_type": "code",
   "execution_count": 7,
   "metadata": {},
   "outputs": [
    {
     "data": {
      "text/html": [
       "<div>\n",
       "<style scoped>\n",
       "    .dataframe tbody tr th:only-of-type {\n",
       "        vertical-align: middle;\n",
       "    }\n",
       "\n",
       "    .dataframe tbody tr th {\n",
       "        vertical-align: top;\n",
       "    }\n",
       "\n",
       "    .dataframe thead th {\n",
       "        text-align: right;\n",
       "    }\n",
       "</style>\n",
       "<table border=\"1\" class=\"dataframe\">\n",
       "  <thead>\n",
       "    <tr style=\"text-align: right;\">\n",
       "      <th></th>\n",
       "      <th>variable</th>\n",
       "      <th>count</th>\n",
       "      <th>percent_na</th>\n",
       "      <th>type_variable</th>\n",
       "    </tr>\n",
       "  </thead>\n",
       "  <tbody>\n",
       "    <tr>\n",
       "      <th>0</th>\n",
       "      <td>Country</td>\n",
       "      <td>154</td>\n",
       "      <td>0.0</td>\n",
       "      <td>object</td>\n",
       "    </tr>\n",
       "    <tr>\n",
       "      <th>1</th>\n",
       "      <td>Alcoholic Beverages</td>\n",
       "      <td>154</td>\n",
       "      <td>0.0</td>\n",
       "      <td>float64</td>\n",
       "    </tr>\n",
       "    <tr>\n",
       "      <th>2</th>\n",
       "      <td>Animal Products</td>\n",
       "      <td>154</td>\n",
       "      <td>0.0</td>\n",
       "      <td>float64</td>\n",
       "    </tr>\n",
       "    <tr>\n",
       "      <th>3</th>\n",
       "      <td>Animal fats</td>\n",
       "      <td>154</td>\n",
       "      <td>0.0</td>\n",
       "      <td>float64</td>\n",
       "    </tr>\n",
       "    <tr>\n",
       "      <th>4</th>\n",
       "      <td>Aquatic Products, Other</td>\n",
       "      <td>154</td>\n",
       "      <td>0.0</td>\n",
       "      <td>float64</td>\n",
       "    </tr>\n",
       "    <tr>\n",
       "      <th>5</th>\n",
       "      <td>Cereals - Excluding Beer</td>\n",
       "      <td>154</td>\n",
       "      <td>0.0</td>\n",
       "      <td>float64</td>\n",
       "    </tr>\n",
       "    <tr>\n",
       "      <th>6</th>\n",
       "      <td>Eggs</td>\n",
       "      <td>154</td>\n",
       "      <td>0.0</td>\n",
       "      <td>float64</td>\n",
       "    </tr>\n",
       "    <tr>\n",
       "      <th>7</th>\n",
       "      <td>Fish, Seafood</td>\n",
       "      <td>154</td>\n",
       "      <td>0.0</td>\n",
       "      <td>float64</td>\n",
       "    </tr>\n",
       "    <tr>\n",
       "      <th>8</th>\n",
       "      <td>Fruits - Excluding Wine</td>\n",
       "      <td>154</td>\n",
       "      <td>0.0</td>\n",
       "      <td>float64</td>\n",
       "    </tr>\n",
       "    <tr>\n",
       "      <th>9</th>\n",
       "      <td>Meat</td>\n",
       "      <td>154</td>\n",
       "      <td>0.0</td>\n",
       "      <td>float64</td>\n",
       "    </tr>\n",
       "    <tr>\n",
       "      <th>10</th>\n",
       "      <td>Miscellaneous</td>\n",
       "      <td>154</td>\n",
       "      <td>0.0</td>\n",
       "      <td>float64</td>\n",
       "    </tr>\n",
       "    <tr>\n",
       "      <th>11</th>\n",
       "      <td>Milk - Excluding Butter</td>\n",
       "      <td>154</td>\n",
       "      <td>0.0</td>\n",
       "      <td>float64</td>\n",
       "    </tr>\n",
       "    <tr>\n",
       "      <th>12</th>\n",
       "      <td>Offals</td>\n",
       "      <td>154</td>\n",
       "      <td>0.0</td>\n",
       "      <td>float64</td>\n",
       "    </tr>\n",
       "    <tr>\n",
       "      <th>13</th>\n",
       "      <td>Oilcrops</td>\n",
       "      <td>154</td>\n",
       "      <td>0.0</td>\n",
       "      <td>float64</td>\n",
       "    </tr>\n",
       "    <tr>\n",
       "      <th>14</th>\n",
       "      <td>Pulses</td>\n",
       "      <td>154</td>\n",
       "      <td>0.0</td>\n",
       "      <td>float64</td>\n",
       "    </tr>\n",
       "    <tr>\n",
       "      <th>15</th>\n",
       "      <td>Spices</td>\n",
       "      <td>154</td>\n",
       "      <td>0.0</td>\n",
       "      <td>float64</td>\n",
       "    </tr>\n",
       "    <tr>\n",
       "      <th>16</th>\n",
       "      <td>Starchy Roots</td>\n",
       "      <td>154</td>\n",
       "      <td>0.0</td>\n",
       "      <td>float64</td>\n",
       "    </tr>\n",
       "    <tr>\n",
       "      <th>17</th>\n",
       "      <td>Stimulants</td>\n",
       "      <td>154</td>\n",
       "      <td>0.0</td>\n",
       "      <td>float64</td>\n",
       "    </tr>\n",
       "    <tr>\n",
       "      <th>18</th>\n",
       "      <td>Sugar Crops</td>\n",
       "      <td>154</td>\n",
       "      <td>0.0</td>\n",
       "      <td>float64</td>\n",
       "    </tr>\n",
       "    <tr>\n",
       "      <th>19</th>\n",
       "      <td>Sugar &amp; Sweeteners</td>\n",
       "      <td>154</td>\n",
       "      <td>0.0</td>\n",
       "      <td>float64</td>\n",
       "    </tr>\n",
       "    <tr>\n",
       "      <th>20</th>\n",
       "      <td>Treenuts</td>\n",
       "      <td>154</td>\n",
       "      <td>0.0</td>\n",
       "      <td>float64</td>\n",
       "    </tr>\n",
       "    <tr>\n",
       "      <th>21</th>\n",
       "      <td>Vegetal Products</td>\n",
       "      <td>154</td>\n",
       "      <td>0.0</td>\n",
       "      <td>float64</td>\n",
       "    </tr>\n",
       "    <tr>\n",
       "      <th>22</th>\n",
       "      <td>Vegetable Oils</td>\n",
       "      <td>154</td>\n",
       "      <td>0.0</td>\n",
       "      <td>float64</td>\n",
       "    </tr>\n",
       "    <tr>\n",
       "      <th>23</th>\n",
       "      <td>Vegetables</td>\n",
       "      <td>154</td>\n",
       "      <td>0.0</td>\n",
       "      <td>float64</td>\n",
       "    </tr>\n",
       "    <tr>\n",
       "      <th>24</th>\n",
       "      <td>Obesity</td>\n",
       "      <td>154</td>\n",
       "      <td>0.0</td>\n",
       "      <td>float64</td>\n",
       "    </tr>\n",
       "    <tr>\n",
       "      <th>25</th>\n",
       "      <td>Undernourished</td>\n",
       "      <td>154</td>\n",
       "      <td>0.0</td>\n",
       "      <td>object</td>\n",
       "    </tr>\n",
       "    <tr>\n",
       "      <th>26</th>\n",
       "      <td>Confirmed</td>\n",
       "      <td>154</td>\n",
       "      <td>0.0</td>\n",
       "      <td>float64</td>\n",
       "    </tr>\n",
       "    <tr>\n",
       "      <th>27</th>\n",
       "      <td>Deaths</td>\n",
       "      <td>154</td>\n",
       "      <td>0.0</td>\n",
       "      <td>float64</td>\n",
       "    </tr>\n",
       "    <tr>\n",
       "      <th>28</th>\n",
       "      <td>Recovered</td>\n",
       "      <td>154</td>\n",
       "      <td>0.0</td>\n",
       "      <td>float64</td>\n",
       "    </tr>\n",
       "    <tr>\n",
       "      <th>29</th>\n",
       "      <td>Active</td>\n",
       "      <td>154</td>\n",
       "      <td>0.0</td>\n",
       "      <td>float64</td>\n",
       "    </tr>\n",
       "    <tr>\n",
       "      <th>30</th>\n",
       "      <td>Population</td>\n",
       "      <td>154</td>\n",
       "      <td>0.0</td>\n",
       "      <td>float64</td>\n",
       "    </tr>\n",
       "    <tr>\n",
       "      <th>31</th>\n",
       "      <td>Unit (all except Population)</td>\n",
       "      <td>154</td>\n",
       "      <td>0.0</td>\n",
       "      <td>object</td>\n",
       "    </tr>\n",
       "  </tbody>\n",
       "</table>\n",
       "</div>"
      ],
      "text/plain": [
       "                        variable  count  percent_na type_variable\n",
       "0                        Country    154         0.0        object\n",
       "1            Alcoholic Beverages    154         0.0       float64\n",
       "2                Animal Products    154         0.0       float64\n",
       "3                    Animal fats    154         0.0       float64\n",
       "4        Aquatic Products, Other    154         0.0       float64\n",
       "5       Cereals - Excluding Beer    154         0.0       float64\n",
       "6                           Eggs    154         0.0       float64\n",
       "7                  Fish, Seafood    154         0.0       float64\n",
       "8        Fruits - Excluding Wine    154         0.0       float64\n",
       "9                           Meat    154         0.0       float64\n",
       "10                 Miscellaneous    154         0.0       float64\n",
       "11       Milk - Excluding Butter    154         0.0       float64\n",
       "12                        Offals    154         0.0       float64\n",
       "13                      Oilcrops    154         0.0       float64\n",
       "14                        Pulses    154         0.0       float64\n",
       "15                        Spices    154         0.0       float64\n",
       "16                 Starchy Roots    154         0.0       float64\n",
       "17                    Stimulants    154         0.0       float64\n",
       "18                   Sugar Crops    154         0.0       float64\n",
       "19            Sugar & Sweeteners    154         0.0       float64\n",
       "20                      Treenuts    154         0.0       float64\n",
       "21              Vegetal Products    154         0.0       float64\n",
       "22                Vegetable Oils    154         0.0       float64\n",
       "23                    Vegetables    154         0.0       float64\n",
       "24                       Obesity    154         0.0       float64\n",
       "25                Undernourished    154         0.0        object\n",
       "26                     Confirmed    154         0.0       float64\n",
       "27                        Deaths    154         0.0       float64\n",
       "28                     Recovered    154         0.0       float64\n",
       "29                        Active    154         0.0       float64\n",
       "30                    Population    154         0.0       float64\n",
       "31  Unit (all except Population)    154         0.0        object"
      ]
     },
     "execution_count": 7,
     "metadata": {},
     "output_type": "execute_result"
    }
   ],
   "source": [
    "table_variable_attributes(fat_quantity_clean)"
   ]
  },
  {
   "attachments": {},
   "cell_type": "markdown",
   "metadata": {},
   "source": [
    "Explore the variables that are not of float type and see of you can convert them in to float type."
   ]
  },
  {
   "cell_type": "markdown",
   "metadata": {},
   "source": [
    "<font color=\"brown\">\n",
    "\n",
    "Country : c'est le label des individus/instances, on peut remplacer par des n° si on veut ou juste delete la colonne\n",
    "\n",
    "Undernourished : les valeurs <2.5% sont notées avec le symbole, on peut l'enlever? Ou faire des classes avec un onehotencoder/getdummies ? \n",
    "\n",
    "Unit : on peut supprimer la colonne\n",
    "\n",
    "</font>"
   ]
  },
  {
   "cell_type": "code",
   "execution_count": 8,
   "metadata": {},
   "outputs": [
    {
     "data": {
      "text/plain": [
       "array(['29.8', '6.2', '3.9', '25', '4.6', '4.3', '<2.5', '14.7', '7.5',\n",
       "       '10.1', '17.1', '26.4', '3.6', '20', '12.6', '16.4', '9.9', '59.6',\n",
       "       '37.5', '8.5', '4.8', '40.3', '19', '5.6', '18.9', '9.5', '7.9',\n",
       "       '4.5', '9', '2.9', '20.6', '3.7', '10.5', '10.2', '5.5', '15.2',\n",
       "       '16.5', '28', '8.1', '49.3', '12.9', '14.5', '8.3', '4.9', '29',\n",
       "       '8', '12.2', '29.4', '2.8', '7.1', '11', '13.1', '37.2', '44.4',\n",
       "       '17.5', '2.5', '10.3', '6.3', '10.4', '6.5', '13.4', '3.4', '27.9',\n",
       "       '27.3', '8.7', '17', '3.2', '6.8', '20.3', '10', '10.7', '9.7',\n",
       "       '13.3', '36.8', '5.7', '2.7', '7', '11.3', '25.6', '8.9', '20.1',\n",
       "       '7.8', '24.9', '16.1', '41', '3.5', '2.6', '30.7', '7.2', '21.2',\n",
       "       '9.3', '38.9', '46.7', '51.3'], dtype=object)"
      ]
     },
     "execution_count": 8,
     "metadata": {},
     "output_type": "execute_result"
    }
   ],
   "source": [
    "fat_quantity_clean.Undernourished.unique()"
   ]
  },
  {
   "cell_type": "code",
   "execution_count": null,
   "metadata": {},
   "outputs": [],
   "source": []
  },
  {
   "cell_type": "code",
   "execution_count": 9,
   "metadata": {},
   "outputs": [
    {
     "data": {
      "text/html": [
       "<div>\n",
       "<style scoped>\n",
       "    .dataframe tbody tr th:only-of-type {\n",
       "        vertical-align: middle;\n",
       "    }\n",
       "\n",
       "    .dataframe tbody tr th {\n",
       "        vertical-align: top;\n",
       "    }\n",
       "\n",
       "    .dataframe thead th {\n",
       "        text-align: right;\n",
       "    }\n",
       "</style>\n",
       "<table border=\"1\" class=\"dataframe\">\n",
       "  <thead>\n",
       "    <tr style=\"text-align: right;\">\n",
       "      <th></th>\n",
       "      <th>Country</th>\n",
       "      <th>Alcoholic Beverages</th>\n",
       "      <th>Animal Products</th>\n",
       "      <th>Animal fats</th>\n",
       "      <th>Aquatic Products, Other</th>\n",
       "      <th>Cereals - Excluding Beer</th>\n",
       "      <th>Eggs</th>\n",
       "      <th>Fish, Seafood</th>\n",
       "      <th>Fruits - Excluding Wine</th>\n",
       "      <th>Meat</th>\n",
       "      <th>...</th>\n",
       "      <th>Deaths</th>\n",
       "      <th>Recovered</th>\n",
       "      <th>Active</th>\n",
       "      <th>Population</th>\n",
       "      <th>Undernourished_0-10</th>\n",
       "      <th>Undernourished_11-20</th>\n",
       "      <th>Undernourished_21-30</th>\n",
       "      <th>Undernourished_31-40</th>\n",
       "      <th>Undernourished_41-50</th>\n",
       "      <th>Undernourished_51-60</th>\n",
       "    </tr>\n",
       "  </thead>\n",
       "  <tbody>\n",
       "    <tr>\n",
       "      <th>0</th>\n",
       "      <td>Afghanistan</td>\n",
       "      <td>0.0000</td>\n",
       "      <td>21.6397</td>\n",
       "      <td>6.2224</td>\n",
       "      <td>0.0</td>\n",
       "      <td>8.0353</td>\n",
       "      <td>0.6859</td>\n",
       "      <td>0.0327</td>\n",
       "      <td>0.4246</td>\n",
       "      <td>6.1244</td>\n",
       "      <td>...</td>\n",
       "      <td>0.005058</td>\n",
       "      <td>0.098263</td>\n",
       "      <td>0.021827</td>\n",
       "      <td>38928000.0</td>\n",
       "      <td>0.0</td>\n",
       "      <td>0.0</td>\n",
       "      <td>1.0</td>\n",
       "      <td>0.0</td>\n",
       "      <td>0.0</td>\n",
       "      <td>0.0</td>\n",
       "    </tr>\n",
       "    <tr>\n",
       "      <th>1</th>\n",
       "      <td>Albania</td>\n",
       "      <td>0.0000</td>\n",
       "      <td>32.0002</td>\n",
       "      <td>3.4172</td>\n",
       "      <td>0.0</td>\n",
       "      <td>2.6734</td>\n",
       "      <td>1.6448</td>\n",
       "      <td>0.1445</td>\n",
       "      <td>0.6418</td>\n",
       "      <td>8.7428</td>\n",
       "      <td>...</td>\n",
       "      <td>0.035800</td>\n",
       "      <td>0.874560</td>\n",
       "      <td>0.822939</td>\n",
       "      <td>2838000.0</td>\n",
       "      <td>1.0</td>\n",
       "      <td>0.0</td>\n",
       "      <td>0.0</td>\n",
       "      <td>0.0</td>\n",
       "      <td>0.0</td>\n",
       "      <td>0.0</td>\n",
       "    </tr>\n",
       "    <tr>\n",
       "      <th>2</th>\n",
       "      <td>Algeria</td>\n",
       "      <td>0.0000</td>\n",
       "      <td>14.4175</td>\n",
       "      <td>0.8972</td>\n",
       "      <td>0.0</td>\n",
       "      <td>4.2035</td>\n",
       "      <td>1.2171</td>\n",
       "      <td>0.2008</td>\n",
       "      <td>0.5772</td>\n",
       "      <td>3.8961</td>\n",
       "      <td>...</td>\n",
       "      <td>0.005882</td>\n",
       "      <td>0.137268</td>\n",
       "      <td>0.065604</td>\n",
       "      <td>44357000.0</td>\n",
       "      <td>1.0</td>\n",
       "      <td>0.0</td>\n",
       "      <td>0.0</td>\n",
       "      <td>0.0</td>\n",
       "      <td>0.0</td>\n",
       "      <td>0.0</td>\n",
       "    </tr>\n",
       "    <tr>\n",
       "      <th>3</th>\n",
       "      <td>Angola</td>\n",
       "      <td>0.0000</td>\n",
       "      <td>15.3041</td>\n",
       "      <td>1.3130</td>\n",
       "      <td>0.0</td>\n",
       "      <td>6.5545</td>\n",
       "      <td>0.1539</td>\n",
       "      <td>1.4155</td>\n",
       "      <td>0.3488</td>\n",
       "      <td>11.0268</td>\n",
       "      <td>...</td>\n",
       "      <td>0.001144</td>\n",
       "      <td>0.027440</td>\n",
       "      <td>0.021465</td>\n",
       "      <td>32522000.0</td>\n",
       "      <td>0.0</td>\n",
       "      <td>0.0</td>\n",
       "      <td>1.0</td>\n",
       "      <td>0.0</td>\n",
       "      <td>0.0</td>\n",
       "      <td>0.0</td>\n",
       "    </tr>\n",
       "    <tr>\n",
       "      <th>5</th>\n",
       "      <td>Argentina</td>\n",
       "      <td>0.0000</td>\n",
       "      <td>30.3572</td>\n",
       "      <td>3.3076</td>\n",
       "      <td>0.0</td>\n",
       "      <td>1.3316</td>\n",
       "      <td>1.5706</td>\n",
       "      <td>0.1664</td>\n",
       "      <td>0.2091</td>\n",
       "      <td>19.2693</td>\n",
       "      <td>...</td>\n",
       "      <td>0.090444</td>\n",
       "      <td>2.953302</td>\n",
       "      <td>0.268993</td>\n",
       "      <td>45377000.0</td>\n",
       "      <td>1.0</td>\n",
       "      <td>0.0</td>\n",
       "      <td>0.0</td>\n",
       "      <td>0.0</td>\n",
       "      <td>0.0</td>\n",
       "      <td>0.0</td>\n",
       "    </tr>\n",
       "    <tr>\n",
       "      <th>...</th>\n",
       "      <td>...</td>\n",
       "      <td>...</td>\n",
       "      <td>...</td>\n",
       "      <td>...</td>\n",
       "      <td>...</td>\n",
       "      <td>...</td>\n",
       "      <td>...</td>\n",
       "      <td>...</td>\n",
       "      <td>...</td>\n",
       "      <td>...</td>\n",
       "      <td>...</td>\n",
       "      <td>...</td>\n",
       "      <td>...</td>\n",
       "      <td>...</td>\n",
       "      <td>...</td>\n",
       "      <td>...</td>\n",
       "      <td>...</td>\n",
       "      <td>...</td>\n",
       "      <td>...</td>\n",
       "      <td>...</td>\n",
       "      <td>...</td>\n",
       "    </tr>\n",
       "    <tr>\n",
       "      <th>165</th>\n",
       "      <td>Venezuela (Bolivarian Republic of)</td>\n",
       "      <td>0.0000</td>\n",
       "      <td>16.3261</td>\n",
       "      <td>2.2673</td>\n",
       "      <td>0.0</td>\n",
       "      <td>2.5449</td>\n",
       "      <td>0.6555</td>\n",
       "      <td>0.5707</td>\n",
       "      <td>0.9640</td>\n",
       "      <td>7.0949</td>\n",
       "      <td>...</td>\n",
       "      <td>0.003351</td>\n",
       "      <td>0.359703</td>\n",
       "      <td>0.014411</td>\n",
       "      <td>28645000.0</td>\n",
       "      <td>0.0</td>\n",
       "      <td>0.0</td>\n",
       "      <td>1.0</td>\n",
       "      <td>0.0</td>\n",
       "      <td>0.0</td>\n",
       "      <td>0.0</td>\n",
       "    </tr>\n",
       "    <tr>\n",
       "      <th>166</th>\n",
       "      <td>Vietnam</td>\n",
       "      <td>0.0000</td>\n",
       "      <td>33.2484</td>\n",
       "      <td>3.8238</td>\n",
       "      <td>0.0</td>\n",
       "      <td>3.7155</td>\n",
       "      <td>0.7839</td>\n",
       "      <td>1.1217</td>\n",
       "      <td>0.4079</td>\n",
       "      <td>26.4292</td>\n",
       "      <td>...</td>\n",
       "      <td>0.000036</td>\n",
       "      <td>0.001295</td>\n",
       "      <td>0.000126</td>\n",
       "      <td>96209000.0</td>\n",
       "      <td>1.0</td>\n",
       "      <td>0.0</td>\n",
       "      <td>0.0</td>\n",
       "      <td>0.0</td>\n",
       "      <td>0.0</td>\n",
       "      <td>0.0</td>\n",
       "    </tr>\n",
       "    <tr>\n",
       "      <th>167</th>\n",
       "      <td>Yemen</td>\n",
       "      <td>0.0000</td>\n",
       "      <td>12.5401</td>\n",
       "      <td>2.0131</td>\n",
       "      <td>0.0</td>\n",
       "      <td>11.5271</td>\n",
       "      <td>0.5514</td>\n",
       "      <td>0.3847</td>\n",
       "      <td>0.2564</td>\n",
       "      <td>8.0010</td>\n",
       "      <td>...</td>\n",
       "      <td>0.002032</td>\n",
       "      <td>0.004640</td>\n",
       "      <td>0.000315</td>\n",
       "      <td>29826000.0</td>\n",
       "      <td>0.0</td>\n",
       "      <td>0.0</td>\n",
       "      <td>0.0</td>\n",
       "      <td>1.0</td>\n",
       "      <td>0.0</td>\n",
       "      <td>0.0</td>\n",
       "    </tr>\n",
       "    <tr>\n",
       "      <th>168</th>\n",
       "      <td>Zambia</td>\n",
       "      <td>0.0783</td>\n",
       "      <td>9.6005</td>\n",
       "      <td>1.6113</td>\n",
       "      <td>0.0</td>\n",
       "      <td>14.3225</td>\n",
       "      <td>0.6266</td>\n",
       "      <td>1.0070</td>\n",
       "      <td>0.1343</td>\n",
       "      <td>4.9010</td>\n",
       "      <td>...</td>\n",
       "      <td>0.001996</td>\n",
       "      <td>0.094696</td>\n",
       "      <td>0.002970</td>\n",
       "      <td>18384000.0</td>\n",
       "      <td>0.0</td>\n",
       "      <td>0.0</td>\n",
       "      <td>0.0</td>\n",
       "      <td>0.0</td>\n",
       "      <td>1.0</td>\n",
       "      <td>0.0</td>\n",
       "    </tr>\n",
       "    <tr>\n",
       "      <th>169</th>\n",
       "      <td>Zimbabwe</td>\n",
       "      <td>0.0000</td>\n",
       "      <td>10.3796</td>\n",
       "      <td>2.9543</td>\n",
       "      <td>0.0</td>\n",
       "      <td>9.7922</td>\n",
       "      <td>0.3682</td>\n",
       "      <td>0.2455</td>\n",
       "      <td>0.0614</td>\n",
       "      <td>4.5674</td>\n",
       "      <td>...</td>\n",
       "      <td>0.002079</td>\n",
       "      <td>0.064280</td>\n",
       "      <td>0.010059</td>\n",
       "      <td>14863000.0</td>\n",
       "      <td>0.0</td>\n",
       "      <td>0.0</td>\n",
       "      <td>0.0</td>\n",
       "      <td>0.0</td>\n",
       "      <td>0.0</td>\n",
       "      <td>1.0</td>\n",
       "    </tr>\n",
       "  </tbody>\n",
       "</table>\n",
       "<p>154 rows × 36 columns</p>\n",
       "</div>"
      ],
      "text/plain": [
       "                                Country  Alcoholic Beverages  Animal Products  \\\n",
       "0                           Afghanistan               0.0000          21.6397   \n",
       "1                               Albania               0.0000          32.0002   \n",
       "2                               Algeria               0.0000          14.4175   \n",
       "3                                Angola               0.0000          15.3041   \n",
       "5                             Argentina               0.0000          30.3572   \n",
       "..                                  ...                  ...              ...   \n",
       "165  Venezuela (Bolivarian Republic of)               0.0000          16.3261   \n",
       "166                             Vietnam               0.0000          33.2484   \n",
       "167                               Yemen               0.0000          12.5401   \n",
       "168                              Zambia               0.0783           9.6005   \n",
       "169                            Zimbabwe               0.0000          10.3796   \n",
       "\n",
       "     Animal fats  Aquatic Products, Other  Cereals - Excluding Beer    Eggs  \\\n",
       "0         6.2224                      0.0                    8.0353  0.6859   \n",
       "1         3.4172                      0.0                    2.6734  1.6448   \n",
       "2         0.8972                      0.0                    4.2035  1.2171   \n",
       "3         1.3130                      0.0                    6.5545  0.1539   \n",
       "5         3.3076                      0.0                    1.3316  1.5706   \n",
       "..           ...                      ...                       ...     ...   \n",
       "165       2.2673                      0.0                    2.5449  0.6555   \n",
       "166       3.8238                      0.0                    3.7155  0.7839   \n",
       "167       2.0131                      0.0                   11.5271  0.5514   \n",
       "168       1.6113                      0.0                   14.3225  0.6266   \n",
       "169       2.9543                      0.0                    9.7922  0.3682   \n",
       "\n",
       "     Fish, Seafood  Fruits - Excluding Wine     Meat  ...    Deaths  \\\n",
       "0           0.0327                   0.4246   6.1244  ...  0.005058   \n",
       "1           0.1445                   0.6418   8.7428  ...  0.035800   \n",
       "2           0.2008                   0.5772   3.8961  ...  0.005882   \n",
       "3           1.4155                   0.3488  11.0268  ...  0.001144   \n",
       "5           0.1664                   0.2091  19.2693  ...  0.090444   \n",
       "..             ...                      ...      ...  ...       ...   \n",
       "165         0.5707                   0.9640   7.0949  ...  0.003351   \n",
       "166         1.1217                   0.4079  26.4292  ...  0.000036   \n",
       "167         0.3847                   0.2564   8.0010  ...  0.002032   \n",
       "168         1.0070                   0.1343   4.9010  ...  0.001996   \n",
       "169         0.2455                   0.0614   4.5674  ...  0.002079   \n",
       "\n",
       "     Recovered    Active  Population  Undernourished_0-10  \\\n",
       "0     0.098263  0.021827  38928000.0                  0.0   \n",
       "1     0.874560  0.822939   2838000.0                  1.0   \n",
       "2     0.137268  0.065604  44357000.0                  1.0   \n",
       "3     0.027440  0.021465  32522000.0                  0.0   \n",
       "5     2.953302  0.268993  45377000.0                  1.0   \n",
       "..         ...       ...         ...                  ...   \n",
       "165   0.359703  0.014411  28645000.0                  0.0   \n",
       "166   0.001295  0.000126  96209000.0                  1.0   \n",
       "167   0.004640  0.000315  29826000.0                  0.0   \n",
       "168   0.094696  0.002970  18384000.0                  0.0   \n",
       "169   0.064280  0.010059  14863000.0                  0.0   \n",
       "\n",
       "     Undernourished_11-20  Undernourished_21-30  Undernourished_31-40  \\\n",
       "0                     0.0                   1.0                   0.0   \n",
       "1                     0.0                   0.0                   0.0   \n",
       "2                     0.0                   0.0                   0.0   \n",
       "3                     0.0                   1.0                   0.0   \n",
       "5                     0.0                   0.0                   0.0   \n",
       "..                    ...                   ...                   ...   \n",
       "165                   0.0                   1.0                   0.0   \n",
       "166                   0.0                   0.0                   0.0   \n",
       "167                   0.0                   0.0                   1.0   \n",
       "168                   0.0                   0.0                   0.0   \n",
       "169                   0.0                   0.0                   0.0   \n",
       "\n",
       "     Undernourished_41-50  Undernourished_51-60  \n",
       "0                     0.0                   0.0  \n",
       "1                     0.0                   0.0  \n",
       "2                     0.0                   0.0  \n",
       "3                     0.0                   0.0  \n",
       "5                     0.0                   0.0  \n",
       "..                    ...                   ...  \n",
       "165                   0.0                   0.0  \n",
       "166                   0.0                   0.0  \n",
       "167                   0.0                   0.0  \n",
       "168                   1.0                   0.0  \n",
       "169                   0.0                   1.0  \n",
       "\n",
       "[154 rows x 36 columns]"
      ]
     },
     "execution_count": 9,
     "metadata": {},
     "output_type": "execute_result"
    }
   ],
   "source": [
    "def creation_classes_var_undernourished(df:pd.DataFrame)->pd.DataFrame:\n",
    "    df_temp=df.copy()\n",
    "    df_temp = (df_temp\n",
    "                      .replace(to_replace='<2.5', value='2.5')\n",
    "                      .astype({'Undernourished': 'float'})\n",
    "                      )\n",
    "    conditions=[    df_temp['Undernourished']<=10,  #10 catégories de 0 à 60 0-10 10-20 20-30 30-40 \n",
    "                    df_temp['Undernourished']<=20,  \n",
    "                    df_temp['Undernourished']<=30,\n",
    "                    df_temp['Undernourished']<=40,\n",
    "                    df_temp['Undernourished']<=50,\n",
    "                    df_temp['Undernourished']<=60\n",
    "            ]  \n",
    "    choices = [\"0-10\", \"11-20\", \"21-30\", \"31-40\", \"41-50\", \"51-60\"]  \n",
    "    df_temp['Undernourished_cat']=np.select(conditions, choices, np.nan).astype(str)  \n",
    "    df_temp = pd.get_dummies(df_temp, columns=['Undernourished_cat'], prefix='Undernourished', dtype=float).drop(columns=['Undernourished'])\n",
    "    return df_temp\n",
    "\n",
    "\n",
    "fat_quantity_clean = creation_classes_var_undernourished(fat_quantity_clean).drop(columns=['Unit (all except Population)'])\n",
    "fat_quantity_clean\n",
    "\n"
   ]
  },
  {
   "cell_type": "code",
   "execution_count": 10,
   "metadata": {},
   "outputs": [
    {
     "data": {
      "text/html": [
       "<div>\n",
       "<style scoped>\n",
       "    .dataframe tbody tr th:only-of-type {\n",
       "        vertical-align: middle;\n",
       "    }\n",
       "\n",
       "    .dataframe tbody tr th {\n",
       "        vertical-align: top;\n",
       "    }\n",
       "\n",
       "    .dataframe thead th {\n",
       "        text-align: right;\n",
       "    }\n",
       "</style>\n",
       "<table border=\"1\" class=\"dataframe\">\n",
       "  <thead>\n",
       "    <tr style=\"text-align: right;\">\n",
       "      <th></th>\n",
       "      <th>variable</th>\n",
       "      <th>count</th>\n",
       "      <th>percent_na</th>\n",
       "      <th>type_variable</th>\n",
       "    </tr>\n",
       "  </thead>\n",
       "  <tbody>\n",
       "    <tr>\n",
       "      <th>0</th>\n",
       "      <td>Country</td>\n",
       "      <td>154</td>\n",
       "      <td>0.0</td>\n",
       "      <td>object</td>\n",
       "    </tr>\n",
       "    <tr>\n",
       "      <th>1</th>\n",
       "      <td>Alcoholic Beverages</td>\n",
       "      <td>154</td>\n",
       "      <td>0.0</td>\n",
       "      <td>float64</td>\n",
       "    </tr>\n",
       "    <tr>\n",
       "      <th>2</th>\n",
       "      <td>Animal Products</td>\n",
       "      <td>154</td>\n",
       "      <td>0.0</td>\n",
       "      <td>float64</td>\n",
       "    </tr>\n",
       "    <tr>\n",
       "      <th>3</th>\n",
       "      <td>Animal fats</td>\n",
       "      <td>154</td>\n",
       "      <td>0.0</td>\n",
       "      <td>float64</td>\n",
       "    </tr>\n",
       "    <tr>\n",
       "      <th>4</th>\n",
       "      <td>Aquatic Products, Other</td>\n",
       "      <td>154</td>\n",
       "      <td>0.0</td>\n",
       "      <td>float64</td>\n",
       "    </tr>\n",
       "    <tr>\n",
       "      <th>5</th>\n",
       "      <td>Cereals - Excluding Beer</td>\n",
       "      <td>154</td>\n",
       "      <td>0.0</td>\n",
       "      <td>float64</td>\n",
       "    </tr>\n",
       "    <tr>\n",
       "      <th>6</th>\n",
       "      <td>Eggs</td>\n",
       "      <td>154</td>\n",
       "      <td>0.0</td>\n",
       "      <td>float64</td>\n",
       "    </tr>\n",
       "    <tr>\n",
       "      <th>7</th>\n",
       "      <td>Fish, Seafood</td>\n",
       "      <td>154</td>\n",
       "      <td>0.0</td>\n",
       "      <td>float64</td>\n",
       "    </tr>\n",
       "    <tr>\n",
       "      <th>8</th>\n",
       "      <td>Fruits - Excluding Wine</td>\n",
       "      <td>154</td>\n",
       "      <td>0.0</td>\n",
       "      <td>float64</td>\n",
       "    </tr>\n",
       "    <tr>\n",
       "      <th>9</th>\n",
       "      <td>Meat</td>\n",
       "      <td>154</td>\n",
       "      <td>0.0</td>\n",
       "      <td>float64</td>\n",
       "    </tr>\n",
       "    <tr>\n",
       "      <th>10</th>\n",
       "      <td>Miscellaneous</td>\n",
       "      <td>154</td>\n",
       "      <td>0.0</td>\n",
       "      <td>float64</td>\n",
       "    </tr>\n",
       "    <tr>\n",
       "      <th>11</th>\n",
       "      <td>Milk - Excluding Butter</td>\n",
       "      <td>154</td>\n",
       "      <td>0.0</td>\n",
       "      <td>float64</td>\n",
       "    </tr>\n",
       "    <tr>\n",
       "      <th>12</th>\n",
       "      <td>Offals</td>\n",
       "      <td>154</td>\n",
       "      <td>0.0</td>\n",
       "      <td>float64</td>\n",
       "    </tr>\n",
       "    <tr>\n",
       "      <th>13</th>\n",
       "      <td>Oilcrops</td>\n",
       "      <td>154</td>\n",
       "      <td>0.0</td>\n",
       "      <td>float64</td>\n",
       "    </tr>\n",
       "    <tr>\n",
       "      <th>14</th>\n",
       "      <td>Pulses</td>\n",
       "      <td>154</td>\n",
       "      <td>0.0</td>\n",
       "      <td>float64</td>\n",
       "    </tr>\n",
       "    <tr>\n",
       "      <th>15</th>\n",
       "      <td>Spices</td>\n",
       "      <td>154</td>\n",
       "      <td>0.0</td>\n",
       "      <td>float64</td>\n",
       "    </tr>\n",
       "    <tr>\n",
       "      <th>16</th>\n",
       "      <td>Starchy Roots</td>\n",
       "      <td>154</td>\n",
       "      <td>0.0</td>\n",
       "      <td>float64</td>\n",
       "    </tr>\n",
       "    <tr>\n",
       "      <th>17</th>\n",
       "      <td>Stimulants</td>\n",
       "      <td>154</td>\n",
       "      <td>0.0</td>\n",
       "      <td>float64</td>\n",
       "    </tr>\n",
       "    <tr>\n",
       "      <th>18</th>\n",
       "      <td>Sugar Crops</td>\n",
       "      <td>154</td>\n",
       "      <td>0.0</td>\n",
       "      <td>float64</td>\n",
       "    </tr>\n",
       "    <tr>\n",
       "      <th>19</th>\n",
       "      <td>Sugar &amp; Sweeteners</td>\n",
       "      <td>154</td>\n",
       "      <td>0.0</td>\n",
       "      <td>float64</td>\n",
       "    </tr>\n",
       "    <tr>\n",
       "      <th>20</th>\n",
       "      <td>Treenuts</td>\n",
       "      <td>154</td>\n",
       "      <td>0.0</td>\n",
       "      <td>float64</td>\n",
       "    </tr>\n",
       "    <tr>\n",
       "      <th>21</th>\n",
       "      <td>Vegetal Products</td>\n",
       "      <td>154</td>\n",
       "      <td>0.0</td>\n",
       "      <td>float64</td>\n",
       "    </tr>\n",
       "    <tr>\n",
       "      <th>22</th>\n",
       "      <td>Vegetable Oils</td>\n",
       "      <td>154</td>\n",
       "      <td>0.0</td>\n",
       "      <td>float64</td>\n",
       "    </tr>\n",
       "    <tr>\n",
       "      <th>23</th>\n",
       "      <td>Vegetables</td>\n",
       "      <td>154</td>\n",
       "      <td>0.0</td>\n",
       "      <td>float64</td>\n",
       "    </tr>\n",
       "    <tr>\n",
       "      <th>24</th>\n",
       "      <td>Obesity</td>\n",
       "      <td>154</td>\n",
       "      <td>0.0</td>\n",
       "      <td>float64</td>\n",
       "    </tr>\n",
       "    <tr>\n",
       "      <th>25</th>\n",
       "      <td>Confirmed</td>\n",
       "      <td>154</td>\n",
       "      <td>0.0</td>\n",
       "      <td>float64</td>\n",
       "    </tr>\n",
       "    <tr>\n",
       "      <th>26</th>\n",
       "      <td>Deaths</td>\n",
       "      <td>154</td>\n",
       "      <td>0.0</td>\n",
       "      <td>float64</td>\n",
       "    </tr>\n",
       "    <tr>\n",
       "      <th>27</th>\n",
       "      <td>Recovered</td>\n",
       "      <td>154</td>\n",
       "      <td>0.0</td>\n",
       "      <td>float64</td>\n",
       "    </tr>\n",
       "    <tr>\n",
       "      <th>28</th>\n",
       "      <td>Active</td>\n",
       "      <td>154</td>\n",
       "      <td>0.0</td>\n",
       "      <td>float64</td>\n",
       "    </tr>\n",
       "    <tr>\n",
       "      <th>29</th>\n",
       "      <td>Population</td>\n",
       "      <td>154</td>\n",
       "      <td>0.0</td>\n",
       "      <td>float64</td>\n",
       "    </tr>\n",
       "    <tr>\n",
       "      <th>30</th>\n",
       "      <td>Undernourished_0-10</td>\n",
       "      <td>154</td>\n",
       "      <td>0.0</td>\n",
       "      <td>float64</td>\n",
       "    </tr>\n",
       "    <tr>\n",
       "      <th>31</th>\n",
       "      <td>Undernourished_11-20</td>\n",
       "      <td>154</td>\n",
       "      <td>0.0</td>\n",
       "      <td>float64</td>\n",
       "    </tr>\n",
       "    <tr>\n",
       "      <th>32</th>\n",
       "      <td>Undernourished_21-30</td>\n",
       "      <td>154</td>\n",
       "      <td>0.0</td>\n",
       "      <td>float64</td>\n",
       "    </tr>\n",
       "    <tr>\n",
       "      <th>33</th>\n",
       "      <td>Undernourished_31-40</td>\n",
       "      <td>154</td>\n",
       "      <td>0.0</td>\n",
       "      <td>float64</td>\n",
       "    </tr>\n",
       "    <tr>\n",
       "      <th>34</th>\n",
       "      <td>Undernourished_41-50</td>\n",
       "      <td>154</td>\n",
       "      <td>0.0</td>\n",
       "      <td>float64</td>\n",
       "    </tr>\n",
       "    <tr>\n",
       "      <th>35</th>\n",
       "      <td>Undernourished_51-60</td>\n",
       "      <td>154</td>\n",
       "      <td>0.0</td>\n",
       "      <td>float64</td>\n",
       "    </tr>\n",
       "  </tbody>\n",
       "</table>\n",
       "</div>"
      ],
      "text/plain": [
       "                    variable  count  percent_na type_variable\n",
       "0                    Country    154         0.0        object\n",
       "1        Alcoholic Beverages    154         0.0       float64\n",
       "2            Animal Products    154         0.0       float64\n",
       "3                Animal fats    154         0.0       float64\n",
       "4    Aquatic Products, Other    154         0.0       float64\n",
       "5   Cereals - Excluding Beer    154         0.0       float64\n",
       "6                       Eggs    154         0.0       float64\n",
       "7              Fish, Seafood    154         0.0       float64\n",
       "8    Fruits - Excluding Wine    154         0.0       float64\n",
       "9                       Meat    154         0.0       float64\n",
       "10             Miscellaneous    154         0.0       float64\n",
       "11   Milk - Excluding Butter    154         0.0       float64\n",
       "12                    Offals    154         0.0       float64\n",
       "13                  Oilcrops    154         0.0       float64\n",
       "14                    Pulses    154         0.0       float64\n",
       "15                    Spices    154         0.0       float64\n",
       "16             Starchy Roots    154         0.0       float64\n",
       "17                Stimulants    154         0.0       float64\n",
       "18               Sugar Crops    154         0.0       float64\n",
       "19        Sugar & Sweeteners    154         0.0       float64\n",
       "20                  Treenuts    154         0.0       float64\n",
       "21          Vegetal Products    154         0.0       float64\n",
       "22            Vegetable Oils    154         0.0       float64\n",
       "23                Vegetables    154         0.0       float64\n",
       "24                   Obesity    154         0.0       float64\n",
       "25                 Confirmed    154         0.0       float64\n",
       "26                    Deaths    154         0.0       float64\n",
       "27                 Recovered    154         0.0       float64\n",
       "28                    Active    154         0.0       float64\n",
       "29                Population    154         0.0       float64\n",
       "30       Undernourished_0-10    154         0.0       float64\n",
       "31      Undernourished_11-20    154         0.0       float64\n",
       "32      Undernourished_21-30    154         0.0       float64\n",
       "33      Undernourished_31-40    154         0.0       float64\n",
       "34      Undernourished_41-50    154         0.0       float64\n",
       "35      Undernourished_51-60    154         0.0       float64"
      ]
     },
     "execution_count": 10,
     "metadata": {},
     "output_type": "execute_result"
    }
   ],
   "source": [
    "table_variable_attributes(fat_quantity_clean)"
   ]
  },
  {
   "attachments": {},
   "cell_type": "markdown",
   "metadata": {},
   "source": [
    "# Clustering"
   ]
  },
  {
   "attachments": {},
   "cell_type": "markdown",
   "metadata": {},
   "source": [
    "## Data preparation"
   ]
  },
  {
   "attachments": {},
   "cell_type": "markdown",
   "metadata": {},
   "source": [
    "Scale the dataset"
   ]
  },
  {
   "cell_type": "code",
   "execution_count": 11,
   "metadata": {},
   "outputs": [
    {
     "data": {
      "text/plain": [
       "array([[-0.11401464,  0.15851008,  0.61692464, ..., -0.18318583,\n",
       "        -0.18318583, -0.11470787],\n",
       "       [-0.11401464,  1.45331082, -0.22062144, ..., -0.18318583,\n",
       "        -0.18318583, -0.11470787],\n",
       "       [-0.11401464, -0.74408245, -0.97301561, ..., -0.18318583,\n",
       "        -0.18318583, -0.11470787],\n",
       "       ...,\n",
       "       [-0.11401464, -0.97871001, -0.63984234, ...,  5.45893763,\n",
       "        -0.18318583, -0.11470787],\n",
       "       [ 7.70185454, -1.34608574, -0.75980741, ..., -0.18318583,\n",
       "         5.45893763, -0.11470787],\n",
       "       [-0.11401464, -1.24871793, -0.35882909, ..., -0.18318583,\n",
       "        -0.18318583,  8.71779789]])"
      ]
     },
     "execution_count": 11,
     "metadata": {},
     "output_type": "execute_result"
    }
   ],
   "source": [
    "scaler=StandardScaler()\n",
    "\n",
    "fat_quantity_norm = scaler.fit_transform(fat_quantity_clean.drop(columns=[\"Country\"]))\n",
    "\n",
    "fat_quantity_norm"
   ]
  },
  {
   "attachments": {},
   "cell_type": "markdown",
   "metadata": {},
   "source": [
    "## Plot some data"
   ]
  },
  {
   "attachments": {},
   "cell_type": "markdown",
   "metadata": {},
   "source": [
    "Now, we want to visualize some variables for each state. To do so, we use plotly express to have the possibility to hover on a scatter plot and see the statistics per country clearer as explained here."
   ]
  },
  {
   "attachments": {},
   "cell_type": "markdown",
   "metadata": {},
   "source": [
    "https://plotly.com/python/hover-text-and-formatting/#:~:text=Basic%20Charts%20tutorials.-,Hover%20Labels,having%20a%20hover%20label%20appear."
   ]
  },
  {
   "attachments": {},
   "cell_type": "markdown",
   "metadata": {},
   "source": [
    "Plot the \"Obesity\" vs \"Deaths\" statistics"
   ]
  },
  {
   "cell_type": "code",
   "execution_count": 12,
   "metadata": {},
   "outputs": [
    {
     "data": {
      "text/plain": [
       "Index(['Country', 'Alcoholic Beverages', 'Animal Products', 'Animal fats',\n",
       "       'Aquatic Products, Other', 'Cereals - Excluding Beer', 'Eggs',\n",
       "       'Fish, Seafood', 'Fruits - Excluding Wine', 'Meat', 'Miscellaneous',\n",
       "       'Milk - Excluding Butter', 'Offals', 'Oilcrops', 'Pulses', 'Spices',\n",
       "       'Starchy Roots', 'Stimulants', 'Sugar Crops', 'Sugar & Sweeteners',\n",
       "       'Treenuts', 'Vegetal Products', 'Vegetable Oils', 'Vegetables',\n",
       "       'Obesity', 'Confirmed', 'Deaths', 'Recovered', 'Active', 'Population',\n",
       "       'Undernourished_0-10', 'Undernourished_11-20', 'Undernourished_21-30',\n",
       "       'Undernourished_31-40', 'Undernourished_41-50', 'Undernourished_51-60'],\n",
       "      dtype='object')"
      ]
     },
     "execution_count": 12,
     "metadata": {},
     "output_type": "execute_result"
    }
   ],
   "source": [
    "fat_quantity_clean.columns"
   ]
  },
  {
   "cell_type": "code",
   "execution_count": 72,
   "metadata": {},
   "outputs": [
    {
     "data": {
      "application/vnd.plotly.v1+json": {
       "config": {
        "plotlyServerURL": "https://plot.ly"
       },
       "data": [
        {
         "hovertemplate": "Obesity=%{x}<br>Deaths=%{y}<extra></extra>",
         "legendgroup": "",
         "marker": {
          "color": "#636efa",
          "symbol": "circle"
         },
         "mode": "markers",
         "name": "",
         "orientation": "v",
         "showlegend": false,
         "type": "scatter",
         "x": [
          4.5,
          22.3,
          26.6,
          6.8,
          28.5,
          20.9,
          30.4,
          21.9,
          19.9,
          3.4,
          24.8,
          26.6,
          24.5,
          22.4,
          8.2,
          18.7,
          19.4,
          16.1,
          22.3,
          27.4,
          4.5,
          10.6,
          3.5,
          9.5,
          6.3,
          4.8,
          6.6,
          22.1,
          8.4,
          25.7,
          9,
          27.1,
          26.7,
          22.6,
          28.5,
          21.3,
          12.2,
          28.2,
          26.9,
          19.3,
          31.1,
          22.7,
          23.8,
          13.5,
          3.6,
          30,
          24.9,
          23.2,
          13.4,
          8.7,
          23.3,
          25.7,
          9.7,
          27.4,
          18.8,
          6.6,
          8.2,
          19.2,
          20.5,
          19.4,
          28.6,
          23.1,
          3.8,
          6.9,
          25.5,
          27.4,
          26.9,
          26.7,
          22.9,
          24.4,
          4.4,
          33.4,
          21.3,
          6,
          4.9,
          37,
          15.4,
          4.5,
          25.7,
          31.3,
          13.5,
          8.6,
          28.4,
          24.2,
          4.5,
          4.7,
          15.3,
          7.9,
          7.1,
          31,
          11.3,
          11.5,
          28.4,
          19.6,
          24.9,
          25.6,
          6,
          15,
          3.8,
          23.1,
          32,
          21.8,
          4.7,
          7.8,
          23.9,
          25,
          22.9,
          7.8,
          22.5,
          19,
          19.1,
          6,
          25.6,
          23.2,
          24.5,
          25.7,
          4.8,
          23.8,
          45.5,
          10.6,
          35,
          7.4,
          23.5,
          7.5,
          22.4,
          22.5,
          20.5,
          27,
          27.1,
          5.4,
          7.4,
          26.5,
          22.1,
          21.2,
          10.8,
          2.9,
          7.1,
          19.7,
          27.3,
          32.2,
          4.1,
          26.1,
          29.9,
          29.5,
          7.1,
          37.3,
          28.9,
          15.3,
          23.5,
          25.2,
          2.1,
          14.1,
          6.5,
          12.3
         ],
         "xaxis": "x",
         "y": [
          0.0050580558980682,
          0.035799859055673,
          0.0058818224857407,
          0.0011438410921837,
          0.0904444983141239,
          0.0846752368064953,
          0.0035256659159742,
          0.0508189365043751,
          0.0194499406410764,
          0.0041746903874352,
          0.0024390243902439,
          0.0135786666666667,
          0.156786799826313,
          0.0470167064439141,
          0.0003603898763207,
          0.077572423278604,
          0.103352636391344,
          0.0016400517911091,
          0.0858473552017827,
          0.0842789086184495,
          0.0003396641630387,
          0.0197841726618705,
          0,
          0.0016655387623129,
          0.0013043478260869,
          0.0006043728150737,
          0.0003389939282008,
          0.0792714990696546,
          0.0082638637187386,
          0.0378790843279202,
          0.0005081184336198,
          0.0672885572139303,
          0.0012144313447389,
          0.0067937033968517,
          0.0896696528555431,
          0.0162978212386344,
          0.0061740890688259,
          0,
          0.0225142857142857,
          0.0792359088572897,
          0.0068876918345684,
          0.0185928097515815,
          0.0115702479338843,
          0.0117753623188406,
          0.0015741933238191,
          0.0002232142857142,
          0.0083378549466449,
          0.0899153064367108,
          0.0028238458090542,
          0.0050889532478278,
          0.0495020188425303,
          0.027171668667467,
          0.00105236057027,
          0.0344579439252336,
          0.0246042289383372,
          0.0006369426751592,
          0.0022833419823559,
          0.0198221092757306,
          0.0020520915548539,
          0.0303021086780211,
          0.073000921470257,
          0.0076086956521739,
          0.0102641954146132,
          0.0069758113483894,
          0.0623256090314914,
          0.031725613593455,
          0.0424945032980212,
          0.0325954861111111,
          0.107819755871036,
          0.0097187611249555,
          0.0020084625338382,
          0.0319037363048975,
          0.013634422378817,
          0.0029760125541772,
          0.001158726173693,
          0.0194414836921765,
          0.0198968759478314,
          0,
          0.0185068349106204,
          0.0177289377289377,
          0.0020541549953314,
          0.0016409648082245,
          0.0295275590551181,
          0.064873417721519,
          0.0009353219457585,
          0.000977522216414,
          0.0012781794332082,
          0.0088724584103512,
          0.0009925435780949,
          0.0333333333333333,
          0.0049032258064516,
          0.000790513833992,
          0.0894406535620383,
          0,
          0.0940514469453376,
          0.0185219181130396,
          0.0004588333440287,
          0.0064147973238882,
          0.0057207627683691,
          0.0582126295299708,
          0.0005013033888109,
          0.0024560339599757,
          0.0003389970647815,
          0.0005806733288056,
          0.103221153846154,
          0.0072953406348617,
          0.0312327604498196,
          0.0040305060197338,
          0.0789633434508522,
          0.0271674707098553,
          0.111738362174019,
          0.0079913488652229,
          0.0598415346121768,
          0.0550853242320819,
          0.0701314900472948,
          0.0319260152794532,
          0.0004323656578134,
          0,
          0,
          0.008095238095238,
          0.017291173197112,
          0.0020903010033444,
          0.0342101480523214,
          0.0009402030838661,
          0.0220615159282314,
          0.100190204469805,
          0,
          0.0393288388005635,
          0.100793534166054,
          0.0007020103022291,
          0.00309015028849,
          0.0193388429752066,
          0.0724101378047605,
          0.0712763493166551,
          0.0000901794571196681,
          0,
          0.0007971977291943,
          0.0089846603360116,
          0.03273369199731,
          0.0198789065765432,
          0.0004897138234844,
          0.0377997989372397,
          0.0063203109020249,
          0.096039309112567,
          0.0000351558576355175,
          0.0910879173512632,
          0.002690455961484,
          0.001790835137824,
          0,
          0.0033513702216791,
          0.0000363791329293517,
          0.0020317843492255,
          0.0019963011314186,
          0.0020789880912332
         ],
         "yaxis": "y"
        }
       ],
       "layout": {
        "height": 500,
        "legend": {
         "tracegroupgap": 0
        },
        "margin": {
         "t": 60
        },
        "template": {
         "data": {
          "bar": [
           {
            "error_x": {
             "color": "#2a3f5f"
            },
            "error_y": {
             "color": "#2a3f5f"
            },
            "marker": {
             "line": {
              "color": "#E5ECF6",
              "width": 0.5
             },
             "pattern": {
              "fillmode": "overlay",
              "size": 10,
              "solidity": 0.2
             }
            },
            "type": "bar"
           }
          ],
          "barpolar": [
           {
            "marker": {
             "line": {
              "color": "#E5ECF6",
              "width": 0.5
             },
             "pattern": {
              "fillmode": "overlay",
              "size": 10,
              "solidity": 0.2
             }
            },
            "type": "barpolar"
           }
          ],
          "carpet": [
           {
            "aaxis": {
             "endlinecolor": "#2a3f5f",
             "gridcolor": "white",
             "linecolor": "white",
             "minorgridcolor": "white",
             "startlinecolor": "#2a3f5f"
            },
            "baxis": {
             "endlinecolor": "#2a3f5f",
             "gridcolor": "white",
             "linecolor": "white",
             "minorgridcolor": "white",
             "startlinecolor": "#2a3f5f"
            },
            "type": "carpet"
           }
          ],
          "choropleth": [
           {
            "colorbar": {
             "outlinewidth": 0,
             "ticks": ""
            },
            "type": "choropleth"
           }
          ],
          "contour": [
           {
            "colorbar": {
             "outlinewidth": 0,
             "ticks": ""
            },
            "colorscale": [
             [
              0,
              "#0d0887"
             ],
             [
              0.1111111111111111,
              "#46039f"
             ],
             [
              0.2222222222222222,
              "#7201a8"
             ],
             [
              0.3333333333333333,
              "#9c179e"
             ],
             [
              0.4444444444444444,
              "#bd3786"
             ],
             [
              0.5555555555555556,
              "#d8576b"
             ],
             [
              0.6666666666666666,
              "#ed7953"
             ],
             [
              0.7777777777777778,
              "#fb9f3a"
             ],
             [
              0.8888888888888888,
              "#fdca26"
             ],
             [
              1,
              "#f0f921"
             ]
            ],
            "type": "contour"
           }
          ],
          "contourcarpet": [
           {
            "colorbar": {
             "outlinewidth": 0,
             "ticks": ""
            },
            "type": "contourcarpet"
           }
          ],
          "heatmap": [
           {
            "colorbar": {
             "outlinewidth": 0,
             "ticks": ""
            },
            "colorscale": [
             [
              0,
              "#0d0887"
             ],
             [
              0.1111111111111111,
              "#46039f"
             ],
             [
              0.2222222222222222,
              "#7201a8"
             ],
             [
              0.3333333333333333,
              "#9c179e"
             ],
             [
              0.4444444444444444,
              "#bd3786"
             ],
             [
              0.5555555555555556,
              "#d8576b"
             ],
             [
              0.6666666666666666,
              "#ed7953"
             ],
             [
              0.7777777777777778,
              "#fb9f3a"
             ],
             [
              0.8888888888888888,
              "#fdca26"
             ],
             [
              1,
              "#f0f921"
             ]
            ],
            "type": "heatmap"
           }
          ],
          "heatmapgl": [
           {
            "colorbar": {
             "outlinewidth": 0,
             "ticks": ""
            },
            "colorscale": [
             [
              0,
              "#0d0887"
             ],
             [
              0.1111111111111111,
              "#46039f"
             ],
             [
              0.2222222222222222,
              "#7201a8"
             ],
             [
              0.3333333333333333,
              "#9c179e"
             ],
             [
              0.4444444444444444,
              "#bd3786"
             ],
             [
              0.5555555555555556,
              "#d8576b"
             ],
             [
              0.6666666666666666,
              "#ed7953"
             ],
             [
              0.7777777777777778,
              "#fb9f3a"
             ],
             [
              0.8888888888888888,
              "#fdca26"
             ],
             [
              1,
              "#f0f921"
             ]
            ],
            "type": "heatmapgl"
           }
          ],
          "histogram": [
           {
            "marker": {
             "pattern": {
              "fillmode": "overlay",
              "size": 10,
              "solidity": 0.2
             }
            },
            "type": "histogram"
           }
          ],
          "histogram2d": [
           {
            "colorbar": {
             "outlinewidth": 0,
             "ticks": ""
            },
            "colorscale": [
             [
              0,
              "#0d0887"
             ],
             [
              0.1111111111111111,
              "#46039f"
             ],
             [
              0.2222222222222222,
              "#7201a8"
             ],
             [
              0.3333333333333333,
              "#9c179e"
             ],
             [
              0.4444444444444444,
              "#bd3786"
             ],
             [
              0.5555555555555556,
              "#d8576b"
             ],
             [
              0.6666666666666666,
              "#ed7953"
             ],
             [
              0.7777777777777778,
              "#fb9f3a"
             ],
             [
              0.8888888888888888,
              "#fdca26"
             ],
             [
              1,
              "#f0f921"
             ]
            ],
            "type": "histogram2d"
           }
          ],
          "histogram2dcontour": [
           {
            "colorbar": {
             "outlinewidth": 0,
             "ticks": ""
            },
            "colorscale": [
             [
              0,
              "#0d0887"
             ],
             [
              0.1111111111111111,
              "#46039f"
             ],
             [
              0.2222222222222222,
              "#7201a8"
             ],
             [
              0.3333333333333333,
              "#9c179e"
             ],
             [
              0.4444444444444444,
              "#bd3786"
             ],
             [
              0.5555555555555556,
              "#d8576b"
             ],
             [
              0.6666666666666666,
              "#ed7953"
             ],
             [
              0.7777777777777778,
              "#fb9f3a"
             ],
             [
              0.8888888888888888,
              "#fdca26"
             ],
             [
              1,
              "#f0f921"
             ]
            ],
            "type": "histogram2dcontour"
           }
          ],
          "mesh3d": [
           {
            "colorbar": {
             "outlinewidth": 0,
             "ticks": ""
            },
            "type": "mesh3d"
           }
          ],
          "parcoords": [
           {
            "line": {
             "colorbar": {
              "outlinewidth": 0,
              "ticks": ""
             }
            },
            "type": "parcoords"
           }
          ],
          "pie": [
           {
            "automargin": true,
            "type": "pie"
           }
          ],
          "scatter": [
           {
            "fillpattern": {
             "fillmode": "overlay",
             "size": 10,
             "solidity": 0.2
            },
            "type": "scatter"
           }
          ],
          "scatter3d": [
           {
            "line": {
             "colorbar": {
              "outlinewidth": 0,
              "ticks": ""
             }
            },
            "marker": {
             "colorbar": {
              "outlinewidth": 0,
              "ticks": ""
             }
            },
            "type": "scatter3d"
           }
          ],
          "scattercarpet": [
           {
            "marker": {
             "colorbar": {
              "outlinewidth": 0,
              "ticks": ""
             }
            },
            "type": "scattercarpet"
           }
          ],
          "scattergeo": [
           {
            "marker": {
             "colorbar": {
              "outlinewidth": 0,
              "ticks": ""
             }
            },
            "type": "scattergeo"
           }
          ],
          "scattergl": [
           {
            "marker": {
             "colorbar": {
              "outlinewidth": 0,
              "ticks": ""
             }
            },
            "type": "scattergl"
           }
          ],
          "scattermapbox": [
           {
            "marker": {
             "colorbar": {
              "outlinewidth": 0,
              "ticks": ""
             }
            },
            "type": "scattermapbox"
           }
          ],
          "scatterpolar": [
           {
            "marker": {
             "colorbar": {
              "outlinewidth": 0,
              "ticks": ""
             }
            },
            "type": "scatterpolar"
           }
          ],
          "scatterpolargl": [
           {
            "marker": {
             "colorbar": {
              "outlinewidth": 0,
              "ticks": ""
             }
            },
            "type": "scatterpolargl"
           }
          ],
          "scatterternary": [
           {
            "marker": {
             "colorbar": {
              "outlinewidth": 0,
              "ticks": ""
             }
            },
            "type": "scatterternary"
           }
          ],
          "surface": [
           {
            "colorbar": {
             "outlinewidth": 0,
             "ticks": ""
            },
            "colorscale": [
             [
              0,
              "#0d0887"
             ],
             [
              0.1111111111111111,
              "#46039f"
             ],
             [
              0.2222222222222222,
              "#7201a8"
             ],
             [
              0.3333333333333333,
              "#9c179e"
             ],
             [
              0.4444444444444444,
              "#bd3786"
             ],
             [
              0.5555555555555556,
              "#d8576b"
             ],
             [
              0.6666666666666666,
              "#ed7953"
             ],
             [
              0.7777777777777778,
              "#fb9f3a"
             ],
             [
              0.8888888888888888,
              "#fdca26"
             ],
             [
              1,
              "#f0f921"
             ]
            ],
            "type": "surface"
           }
          ],
          "table": [
           {
            "cells": {
             "fill": {
              "color": "#EBF0F8"
             },
             "line": {
              "color": "white"
             }
            },
            "header": {
             "fill": {
              "color": "#C8D4E3"
             },
             "line": {
              "color": "white"
             }
            },
            "type": "table"
           }
          ]
         },
         "layout": {
          "annotationdefaults": {
           "arrowcolor": "#2a3f5f",
           "arrowhead": 0,
           "arrowwidth": 1
          },
          "autotypenumbers": "strict",
          "coloraxis": {
           "colorbar": {
            "outlinewidth": 0,
            "ticks": ""
           }
          },
          "colorscale": {
           "diverging": [
            [
             0,
             "#8e0152"
            ],
            [
             0.1,
             "#c51b7d"
            ],
            [
             0.2,
             "#de77ae"
            ],
            [
             0.3,
             "#f1b6da"
            ],
            [
             0.4,
             "#fde0ef"
            ],
            [
             0.5,
             "#f7f7f7"
            ],
            [
             0.6,
             "#e6f5d0"
            ],
            [
             0.7,
             "#b8e186"
            ],
            [
             0.8,
             "#7fbc41"
            ],
            [
             0.9,
             "#4d9221"
            ],
            [
             1,
             "#276419"
            ]
           ],
           "sequential": [
            [
             0,
             "#0d0887"
            ],
            [
             0.1111111111111111,
             "#46039f"
            ],
            [
             0.2222222222222222,
             "#7201a8"
            ],
            [
             0.3333333333333333,
             "#9c179e"
            ],
            [
             0.4444444444444444,
             "#bd3786"
            ],
            [
             0.5555555555555556,
             "#d8576b"
            ],
            [
             0.6666666666666666,
             "#ed7953"
            ],
            [
             0.7777777777777778,
             "#fb9f3a"
            ],
            [
             0.8888888888888888,
             "#fdca26"
            ],
            [
             1,
             "#f0f921"
            ]
           ],
           "sequentialminus": [
            [
             0,
             "#0d0887"
            ],
            [
             0.1111111111111111,
             "#46039f"
            ],
            [
             0.2222222222222222,
             "#7201a8"
            ],
            [
             0.3333333333333333,
             "#9c179e"
            ],
            [
             0.4444444444444444,
             "#bd3786"
            ],
            [
             0.5555555555555556,
             "#d8576b"
            ],
            [
             0.6666666666666666,
             "#ed7953"
            ],
            [
             0.7777777777777778,
             "#fb9f3a"
            ],
            [
             0.8888888888888888,
             "#fdca26"
            ],
            [
             1,
             "#f0f921"
            ]
           ]
          },
          "colorway": [
           "#636efa",
           "#EF553B",
           "#00cc96",
           "#ab63fa",
           "#FFA15A",
           "#19d3f3",
           "#FF6692",
           "#B6E880",
           "#FF97FF",
           "#FECB52"
          ],
          "font": {
           "color": "#2a3f5f"
          },
          "geo": {
           "bgcolor": "white",
           "lakecolor": "white",
           "landcolor": "#E5ECF6",
           "showlakes": true,
           "showland": true,
           "subunitcolor": "white"
          },
          "hoverlabel": {
           "align": "left"
          },
          "hovermode": "closest",
          "mapbox": {
           "style": "light"
          },
          "paper_bgcolor": "white",
          "plot_bgcolor": "#E5ECF6",
          "polar": {
           "angularaxis": {
            "gridcolor": "white",
            "linecolor": "white",
            "ticks": ""
           },
           "bgcolor": "#E5ECF6",
           "radialaxis": {
            "gridcolor": "white",
            "linecolor": "white",
            "ticks": ""
           }
          },
          "scene": {
           "xaxis": {
            "backgroundcolor": "#E5ECF6",
            "gridcolor": "white",
            "gridwidth": 2,
            "linecolor": "white",
            "showbackground": true,
            "ticks": "",
            "zerolinecolor": "white"
           },
           "yaxis": {
            "backgroundcolor": "#E5ECF6",
            "gridcolor": "white",
            "gridwidth": 2,
            "linecolor": "white",
            "showbackground": true,
            "ticks": "",
            "zerolinecolor": "white"
           },
           "zaxis": {
            "backgroundcolor": "#E5ECF6",
            "gridcolor": "white",
            "gridwidth": 2,
            "linecolor": "white",
            "showbackground": true,
            "ticks": "",
            "zerolinecolor": "white"
           }
          },
          "shapedefaults": {
           "line": {
            "color": "#2a3f5f"
           }
          },
          "ternary": {
           "aaxis": {
            "gridcolor": "white",
            "linecolor": "white",
            "ticks": ""
           },
           "baxis": {
            "gridcolor": "white",
            "linecolor": "white",
            "ticks": ""
           },
           "bgcolor": "#E5ECF6",
           "caxis": {
            "gridcolor": "white",
            "linecolor": "white",
            "ticks": ""
           }
          },
          "title": {
           "x": 0.05
          },
          "xaxis": {
           "automargin": true,
           "gridcolor": "white",
           "linecolor": "white",
           "ticks": "",
           "title": {
            "standoff": 15
           },
           "zerolinecolor": "white",
           "zerolinewidth": 2
          },
          "yaxis": {
           "automargin": true,
           "gridcolor": "white",
           "linecolor": "white",
           "ticks": "",
           "title": {
            "standoff": 15
           },
           "zerolinecolor": "white",
           "zerolinewidth": 2
          }
         }
        },
        "width": 600,
        "xaxis": {
         "anchor": "y",
         "domain": [
          0,
          1
         ],
         "title": {
          "text": "Obesity"
         }
        },
        "yaxis": {
         "anchor": "x",
         "domain": [
          0,
          1
         ],
         "title": {
          "text": "Deaths"
         }
        }
       }
      }
     },
     "metadata": {},
     "output_type": "display_data"
    }
   ],
   "source": [
    "px.scatter(fat_quantity_clean, \n",
    "           x='Obesity',\n",
    "           y='Deaths', \n",
    "           width=600,\n",
    "           height=500)\n",
    "\n"
   ]
  },
  {
   "attachments": {},
   "cell_type": "markdown",
   "metadata": {},
   "source": [
    "Plot the \"Animal fats\" vs \"Deaths\" statistics"
   ]
  },
  {
   "cell_type": "code",
   "execution_count": 17,
   "metadata": {},
   "outputs": [
    {
     "data": {
      "text/plain": [
       "Index(['Country', 'Alcoholic Beverages', 'Animal Products', 'Animal fats',\n",
       "       'Aquatic Products, Other', 'Cereals - Excluding Beer', 'Eggs',\n",
       "       'Fish, Seafood', 'Fruits - Excluding Wine', 'Meat', 'Miscellaneous',\n",
       "       'Milk - Excluding Butter', 'Offals', 'Oilcrops', 'Pulses', 'Spices',\n",
       "       'Starchy Roots', 'Stimulants', 'Sugar Crops', 'Sugar & Sweeteners',\n",
       "       'Treenuts', 'Vegetal Products', 'Vegetable Oils', 'Vegetables',\n",
       "       'Obesity', 'Confirmed', 'Deaths', 'Recovered', 'Active', 'Population',\n",
       "       'Undernourished_0-10', 'Undernourished_11-20', 'Undernourished_21-30',\n",
       "       'Undernourished_31-40', 'Undernourished_41-50', 'Undernourished_51-60'],\n",
       "      dtype='object')"
      ]
     },
     "execution_count": 17,
     "metadata": {},
     "output_type": "execute_result"
    }
   ],
   "source": [
    "fat_quantity_clean.columns"
   ]
  },
  {
   "cell_type": "code",
   "execution_count": 75,
   "metadata": {},
   "outputs": [
    {
     "data": {
      "application/vnd.plotly.v1+json": {
       "config": {
        "plotlyServerURL": "https://plot.ly"
       },
       "data": [
        {
         "dimensions": [
          {
           "axis": {
            "matches": true
           },
           "label": "Obesity",
           "values": [
            4.5,
            22.3,
            26.6,
            6.8,
            28.5,
            20.9,
            30.4,
            21.9,
            19.9,
            3.4,
            24.8,
            26.6,
            24.5,
            22.4,
            8.2,
            18.7,
            19.4,
            16.1,
            22.3,
            27.4,
            4.5,
            10.6,
            3.5,
            9.5,
            6.3,
            4.8,
            6.6,
            22.1,
            8.4,
            25.7,
            9,
            27.1,
            26.7,
            22.6,
            28.5,
            21.3,
            12.2,
            28.2,
            26.9,
            19.3,
            31.1,
            22.7,
            23.8,
            13.5,
            3.6,
            30,
            24.9,
            23.2,
            13.4,
            8.7,
            23.3,
            25.7,
            9.7,
            27.4,
            18.8,
            6.6,
            8.2,
            19.2,
            20.5,
            19.4,
            28.6,
            23.1,
            3.8,
            6.9,
            25.5,
            27.4,
            26.9,
            26.7,
            22.9,
            24.4,
            4.4,
            33.4,
            21.3,
            6,
            4.9,
            37,
            15.4,
            4.5,
            25.7,
            31.3,
            13.5,
            8.6,
            28.4,
            24.2,
            4.5,
            4.7,
            15.3,
            7.9,
            7.1,
            31,
            11.3,
            11.5,
            28.4,
            19.6,
            24.9,
            25.6,
            6,
            15,
            3.8,
            23.1,
            32,
            21.8,
            4.7,
            7.8,
            23.9,
            25,
            22.9,
            7.8,
            22.5,
            19,
            19.1,
            6,
            25.6,
            23.2,
            24.5,
            25.7,
            4.8,
            23.8,
            45.5,
            10.6,
            35,
            7.4,
            23.5,
            7.5,
            22.4,
            22.5,
            20.5,
            27,
            27.1,
            5.4,
            7.4,
            26.5,
            22.1,
            21.2,
            10.8,
            2.9,
            7.1,
            19.7,
            27.3,
            32.2,
            4.1,
            26.1,
            29.9,
            29.5,
            7.1,
            37.3,
            28.9,
            15.3,
            23.5,
            25.2,
            2.1,
            14.1,
            6.5,
            12.3
           ]
          },
          {
           "axis": {
            "matches": true
           },
           "label": "Animal fats",
           "values": [
            6.2224,
            3.4172,
            0.8972,
            1.313,
            3.3076,
            6.2619,
            4.603,
            12.8517,
            7.7987,
            1.2369,
            3.9733,
            7.8662,
            12.6234,
            9.8102,
            0.4816,
            4.1685,
            2.4453,
            4.131,
            4.3627,
            8.0274,
            0.5981,
            4.2923,
            0.8839,
            0.7838,
            2.8767,
            3.1261,
            3.4468,
            1.7819,
            0.339,
            6.1,
            0.2726,
            7.4457,
            3.2213,
            1.8698,
            9.7011,
            14.2498,
            1.3966,
            3.8063,
            2.2261,
            4.7198,
            3.4231,
            6.3901,
            6.5339,
            3.1415,
            1.4358,
            7.6883,
            6.3787,
            9.1996,
            0.7379,
            0.2548,
            7.2612,
            11.0084,
            0.806,
            1.6989,
            1.7622,
            0.7557,
            0.6274,
            1.002,
            1.7481,
            2.6611,
            12.3082,
            7.1086,
            7.4859,
            0.7049,
            6.0372,
            3.8118,
            8.6472,
            1.2809,
            5.3931,
            6.1721,
            1.9098,
            1.8696,
            3.0343,
            1.8742,
            4.2523,
            2.1588,
            3.4472,
            3.9594,
            10.443,
            2.1637,
            0.529,
            0.4154,
            9.388,
            6.4786,
            1.7454,
            2.6263,
            1.4813,
            4.8409,
            1.2195,
            6.6557,
            1.7485,
            1.4559,
            3.2525,
            5.5153,
            3.8887,
            3.5807,
            1.1197,
            3.3171,
            3.3076,
            6.6484,
            13.9753,
            2.3309,
            2.6573,
            0.8078,
            7.1263,
            6.4445,
            2.3712,
            8.9701,
            9.1864,
            3.8811,
            1.1055,
            7.3714,
            12.3719,
            9.5983,
            6.8987,
            7.2,
            1.0364,
            1.085,
            4.778,
            0.6241,
            2.6475,
            0.7876,
            4.0698,
            0.1678,
            14.9373,
            10.0008,
            3.4726,
            0.8542,
            2.4641,
            0.3195,
            1.7092,
            0.7849,
            9.7148,
            6.2293,
            1.666,
            2.0345,
            0.5351,
            5.3472,
            2.6543,
            2.9392,
            0.9627,
            5.494,
            4.0036,
            4.2615,
            1.5442,
            3.3013,
            3.4811,
            2.4884,
            1.9531,
            2.2673,
            3.8238,
            2.0131,
            1.6113,
            2.9543
           ]
          },
          {
           "axis": {
            "matches": true
           },
           "label": "Alcoholic Beverages",
           "values": [
            0,
            0,
            0,
            0,
            0,
            0,
            0,
            0,
            0,
            0,
            0,
            0,
            0,
            0,
            0,
            0,
            0,
            0,
            0,
            0,
            0,
            0,
            0,
            0,
            0,
            0,
            0,
            0,
            0,
            0,
            0,
            0,
            0,
            0,
            0,
            0,
            0,
            0,
            0,
            0,
            0,
            0,
            0,
            0,
            0,
            0,
            0,
            0,
            0,
            0,
            0,
            0,
            0,
            0,
            0,
            0,
            0,
            0,
            0,
            0,
            0,
            0,
            0,
            0,
            0,
            0,
            0,
            0,
            0,
            0,
            0,
            0,
            0,
            0,
            0.0976,
            0,
            0,
            0,
            0,
            0,
            0,
            0,
            0,
            0,
            0,
            0,
            0,
            0,
            0,
            0,
            0,
            0,
            0,
            0,
            0,
            0,
            0,
            0,
            0,
            0,
            0,
            0,
            0,
            0,
            0,
            0,
            0,
            0,
            0,
            0,
            0,
            0,
            0,
            0,
            0,
            0,
            0,
            0,
            0,
            0,
            0,
            0,
            0,
            0,
            0,
            0,
            0,
            0,
            0,
            0,
            0,
            0,
            0,
            0,
            0,
            0,
            0,
            0,
            0,
            0,
            0,
            0,
            0,
            0,
            0,
            0,
            0,
            0,
            0,
            0,
            0,
            0,
            0.0783,
            0
           ]
          },
          {
           "axis": {
            "matches": true
           },
           "label": "Deaths",
           "values": [
            0.0050580558980682,
            0.035799859055673,
            0.0058818224857407,
            0.0011438410921837,
            0.0904444983141239,
            0.0846752368064953,
            0.0035256659159742,
            0.0508189365043751,
            0.0194499406410764,
            0.0041746903874352,
            0.0024390243902439,
            0.0135786666666667,
            0.156786799826313,
            0.0470167064439141,
            0.0003603898763207,
            0.077572423278604,
            0.103352636391344,
            0.0016400517911091,
            0.0858473552017827,
            0.0842789086184495,
            0.0003396641630387,
            0.0197841726618705,
            0,
            0.0016655387623129,
            0.0013043478260869,
            0.0006043728150737,
            0.0003389939282008,
            0.0792714990696546,
            0.0082638637187386,
            0.0378790843279202,
            0.0005081184336198,
            0.0672885572139303,
            0.0012144313447389,
            0.0067937033968517,
            0.0896696528555431,
            0.0162978212386344,
            0.0061740890688259,
            0,
            0.0225142857142857,
            0.0792359088572897,
            0.0068876918345684,
            0.0185928097515815,
            0.0115702479338843,
            0.0117753623188406,
            0.0015741933238191,
            0.0002232142857142,
            0.0083378549466449,
            0.0899153064367108,
            0.0028238458090542,
            0.0050889532478278,
            0.0495020188425303,
            0.027171668667467,
            0.00105236057027,
            0.0344579439252336,
            0.0246042289383372,
            0.0006369426751592,
            0.0022833419823559,
            0.0198221092757306,
            0.0020520915548539,
            0.0303021086780211,
            0.073000921470257,
            0.0076086956521739,
            0.0102641954146132,
            0.0069758113483894,
            0.0623256090314914,
            0.031725613593455,
            0.0424945032980212,
            0.0325954861111111,
            0.107819755871036,
            0.0097187611249555,
            0.0020084625338382,
            0.0319037363048975,
            0.013634422378817,
            0.0029760125541772,
            0.001158726173693,
            0.0194414836921765,
            0.0198968759478314,
            0,
            0.0185068349106204,
            0.0177289377289377,
            0.0020541549953314,
            0.0016409648082245,
            0.0295275590551181,
            0.064873417721519,
            0.0009353219457585,
            0.000977522216414,
            0.0012781794332082,
            0.0088724584103512,
            0.0009925435780949,
            0.0333333333333333,
            0.0049032258064516,
            0.000790513833992,
            0.0894406535620383,
            0,
            0.0940514469453376,
            0.0185219181130396,
            0.0004588333440287,
            0.0064147973238882,
            0.0057207627683691,
            0.0582126295299708,
            0.0005013033888109,
            0.0024560339599757,
            0.0003389970647815,
            0.0005806733288056,
            0.103221153846154,
            0.0072953406348617,
            0.0312327604498196,
            0.0040305060197338,
            0.0789633434508522,
            0.0271674707098553,
            0.111738362174019,
            0.0079913488652229,
            0.0598415346121768,
            0.0550853242320819,
            0.0701314900472948,
            0.0319260152794532,
            0.0004323656578134,
            0,
            0,
            0.008095238095238,
            0.017291173197112,
            0.0020903010033444,
            0.0342101480523214,
            0.0009402030838661,
            0.0220615159282314,
            0.100190204469805,
            0,
            0.0393288388005635,
            0.100793534166054,
            0.0007020103022291,
            0.00309015028849,
            0.0193388429752066,
            0.0724101378047605,
            0.0712763493166551,
            0.0000901794571196681,
            0,
            0.0007971977291943,
            0.0089846603360116,
            0.03273369199731,
            0.0198789065765432,
            0.0004897138234844,
            0.0377997989372397,
            0.0063203109020249,
            0.096039309112567,
            0.0000351558576355175,
            0.0910879173512632,
            0.002690455961484,
            0.001790835137824,
            0,
            0.0033513702216791,
            0.0000363791329293517,
            0.0020317843492255,
            0.0019963011314186,
            0.0020789880912332
           ]
          }
         ],
         "hovertemplate": "%{xaxis.title.text}=%{x}<br>%{yaxis.title.text}=%{y}<extra></extra>",
         "legendgroup": "",
         "marker": {
          "color": "#636efa",
          "symbol": "circle"
         },
         "name": "",
         "showlegend": false,
         "type": "splom"
        }
       ],
       "layout": {
        "dragmode": "select",
        "height": 400,
        "legend": {
         "tracegroupgap": 0
        },
        "margin": {
         "t": 60
        },
        "template": {
         "data": {
          "bar": [
           {
            "error_x": {
             "color": "#2a3f5f"
            },
            "error_y": {
             "color": "#2a3f5f"
            },
            "marker": {
             "line": {
              "color": "#E5ECF6",
              "width": 0.5
             },
             "pattern": {
              "fillmode": "overlay",
              "size": 10,
              "solidity": 0.2
             }
            },
            "type": "bar"
           }
          ],
          "barpolar": [
           {
            "marker": {
             "line": {
              "color": "#E5ECF6",
              "width": 0.5
             },
             "pattern": {
              "fillmode": "overlay",
              "size": 10,
              "solidity": 0.2
             }
            },
            "type": "barpolar"
           }
          ],
          "carpet": [
           {
            "aaxis": {
             "endlinecolor": "#2a3f5f",
             "gridcolor": "white",
             "linecolor": "white",
             "minorgridcolor": "white",
             "startlinecolor": "#2a3f5f"
            },
            "baxis": {
             "endlinecolor": "#2a3f5f",
             "gridcolor": "white",
             "linecolor": "white",
             "minorgridcolor": "white",
             "startlinecolor": "#2a3f5f"
            },
            "type": "carpet"
           }
          ],
          "choropleth": [
           {
            "colorbar": {
             "outlinewidth": 0,
             "ticks": ""
            },
            "type": "choropleth"
           }
          ],
          "contour": [
           {
            "colorbar": {
             "outlinewidth": 0,
             "ticks": ""
            },
            "colorscale": [
             [
              0,
              "#0d0887"
             ],
             [
              0.1111111111111111,
              "#46039f"
             ],
             [
              0.2222222222222222,
              "#7201a8"
             ],
             [
              0.3333333333333333,
              "#9c179e"
             ],
             [
              0.4444444444444444,
              "#bd3786"
             ],
             [
              0.5555555555555556,
              "#d8576b"
             ],
             [
              0.6666666666666666,
              "#ed7953"
             ],
             [
              0.7777777777777778,
              "#fb9f3a"
             ],
             [
              0.8888888888888888,
              "#fdca26"
             ],
             [
              1,
              "#f0f921"
             ]
            ],
            "type": "contour"
           }
          ],
          "contourcarpet": [
           {
            "colorbar": {
             "outlinewidth": 0,
             "ticks": ""
            },
            "type": "contourcarpet"
           }
          ],
          "heatmap": [
           {
            "colorbar": {
             "outlinewidth": 0,
             "ticks": ""
            },
            "colorscale": [
             [
              0,
              "#0d0887"
             ],
             [
              0.1111111111111111,
              "#46039f"
             ],
             [
              0.2222222222222222,
              "#7201a8"
             ],
             [
              0.3333333333333333,
              "#9c179e"
             ],
             [
              0.4444444444444444,
              "#bd3786"
             ],
             [
              0.5555555555555556,
              "#d8576b"
             ],
             [
              0.6666666666666666,
              "#ed7953"
             ],
             [
              0.7777777777777778,
              "#fb9f3a"
             ],
             [
              0.8888888888888888,
              "#fdca26"
             ],
             [
              1,
              "#f0f921"
             ]
            ],
            "type": "heatmap"
           }
          ],
          "heatmapgl": [
           {
            "colorbar": {
             "outlinewidth": 0,
             "ticks": ""
            },
            "colorscale": [
             [
              0,
              "#0d0887"
             ],
             [
              0.1111111111111111,
              "#46039f"
             ],
             [
              0.2222222222222222,
              "#7201a8"
             ],
             [
              0.3333333333333333,
              "#9c179e"
             ],
             [
              0.4444444444444444,
              "#bd3786"
             ],
             [
              0.5555555555555556,
              "#d8576b"
             ],
             [
              0.6666666666666666,
              "#ed7953"
             ],
             [
              0.7777777777777778,
              "#fb9f3a"
             ],
             [
              0.8888888888888888,
              "#fdca26"
             ],
             [
              1,
              "#f0f921"
             ]
            ],
            "type": "heatmapgl"
           }
          ],
          "histogram": [
           {
            "marker": {
             "pattern": {
              "fillmode": "overlay",
              "size": 10,
              "solidity": 0.2
             }
            },
            "type": "histogram"
           }
          ],
          "histogram2d": [
           {
            "colorbar": {
             "outlinewidth": 0,
             "ticks": ""
            },
            "colorscale": [
             [
              0,
              "#0d0887"
             ],
             [
              0.1111111111111111,
              "#46039f"
             ],
             [
              0.2222222222222222,
              "#7201a8"
             ],
             [
              0.3333333333333333,
              "#9c179e"
             ],
             [
              0.4444444444444444,
              "#bd3786"
             ],
             [
              0.5555555555555556,
              "#d8576b"
             ],
             [
              0.6666666666666666,
              "#ed7953"
             ],
             [
              0.7777777777777778,
              "#fb9f3a"
             ],
             [
              0.8888888888888888,
              "#fdca26"
             ],
             [
              1,
              "#f0f921"
             ]
            ],
            "type": "histogram2d"
           }
          ],
          "histogram2dcontour": [
           {
            "colorbar": {
             "outlinewidth": 0,
             "ticks": ""
            },
            "colorscale": [
             [
              0,
              "#0d0887"
             ],
             [
              0.1111111111111111,
              "#46039f"
             ],
             [
              0.2222222222222222,
              "#7201a8"
             ],
             [
              0.3333333333333333,
              "#9c179e"
             ],
             [
              0.4444444444444444,
              "#bd3786"
             ],
             [
              0.5555555555555556,
              "#d8576b"
             ],
             [
              0.6666666666666666,
              "#ed7953"
             ],
             [
              0.7777777777777778,
              "#fb9f3a"
             ],
             [
              0.8888888888888888,
              "#fdca26"
             ],
             [
              1,
              "#f0f921"
             ]
            ],
            "type": "histogram2dcontour"
           }
          ],
          "mesh3d": [
           {
            "colorbar": {
             "outlinewidth": 0,
             "ticks": ""
            },
            "type": "mesh3d"
           }
          ],
          "parcoords": [
           {
            "line": {
             "colorbar": {
              "outlinewidth": 0,
              "ticks": ""
             }
            },
            "type": "parcoords"
           }
          ],
          "pie": [
           {
            "automargin": true,
            "type": "pie"
           }
          ],
          "scatter": [
           {
            "fillpattern": {
             "fillmode": "overlay",
             "size": 10,
             "solidity": 0.2
            },
            "type": "scatter"
           }
          ],
          "scatter3d": [
           {
            "line": {
             "colorbar": {
              "outlinewidth": 0,
              "ticks": ""
             }
            },
            "marker": {
             "colorbar": {
              "outlinewidth": 0,
              "ticks": ""
             }
            },
            "type": "scatter3d"
           }
          ],
          "scattercarpet": [
           {
            "marker": {
             "colorbar": {
              "outlinewidth": 0,
              "ticks": ""
             }
            },
            "type": "scattercarpet"
           }
          ],
          "scattergeo": [
           {
            "marker": {
             "colorbar": {
              "outlinewidth": 0,
              "ticks": ""
             }
            },
            "type": "scattergeo"
           }
          ],
          "scattergl": [
           {
            "marker": {
             "colorbar": {
              "outlinewidth": 0,
              "ticks": ""
             }
            },
            "type": "scattergl"
           }
          ],
          "scattermapbox": [
           {
            "marker": {
             "colorbar": {
              "outlinewidth": 0,
              "ticks": ""
             }
            },
            "type": "scattermapbox"
           }
          ],
          "scatterpolar": [
           {
            "marker": {
             "colorbar": {
              "outlinewidth": 0,
              "ticks": ""
             }
            },
            "type": "scatterpolar"
           }
          ],
          "scatterpolargl": [
           {
            "marker": {
             "colorbar": {
              "outlinewidth": 0,
              "ticks": ""
             }
            },
            "type": "scatterpolargl"
           }
          ],
          "scatterternary": [
           {
            "marker": {
             "colorbar": {
              "outlinewidth": 0,
              "ticks": ""
             }
            },
            "type": "scatterternary"
           }
          ],
          "surface": [
           {
            "colorbar": {
             "outlinewidth": 0,
             "ticks": ""
            },
            "colorscale": [
             [
              0,
              "#0d0887"
             ],
             [
              0.1111111111111111,
              "#46039f"
             ],
             [
              0.2222222222222222,
              "#7201a8"
             ],
             [
              0.3333333333333333,
              "#9c179e"
             ],
             [
              0.4444444444444444,
              "#bd3786"
             ],
             [
              0.5555555555555556,
              "#d8576b"
             ],
             [
              0.6666666666666666,
              "#ed7953"
             ],
             [
              0.7777777777777778,
              "#fb9f3a"
             ],
             [
              0.8888888888888888,
              "#fdca26"
             ],
             [
              1,
              "#f0f921"
             ]
            ],
            "type": "surface"
           }
          ],
          "table": [
           {
            "cells": {
             "fill": {
              "color": "#EBF0F8"
             },
             "line": {
              "color": "white"
             }
            },
            "header": {
             "fill": {
              "color": "#C8D4E3"
             },
             "line": {
              "color": "white"
             }
            },
            "type": "table"
           }
          ]
         },
         "layout": {
          "annotationdefaults": {
           "arrowcolor": "#2a3f5f",
           "arrowhead": 0,
           "arrowwidth": 1
          },
          "autotypenumbers": "strict",
          "coloraxis": {
           "colorbar": {
            "outlinewidth": 0,
            "ticks": ""
           }
          },
          "colorscale": {
           "diverging": [
            [
             0,
             "#8e0152"
            ],
            [
             0.1,
             "#c51b7d"
            ],
            [
             0.2,
             "#de77ae"
            ],
            [
             0.3,
             "#f1b6da"
            ],
            [
             0.4,
             "#fde0ef"
            ],
            [
             0.5,
             "#f7f7f7"
            ],
            [
             0.6,
             "#e6f5d0"
            ],
            [
             0.7,
             "#b8e186"
            ],
            [
             0.8,
             "#7fbc41"
            ],
            [
             0.9,
             "#4d9221"
            ],
            [
             1,
             "#276419"
            ]
           ],
           "sequential": [
            [
             0,
             "#0d0887"
            ],
            [
             0.1111111111111111,
             "#46039f"
            ],
            [
             0.2222222222222222,
             "#7201a8"
            ],
            [
             0.3333333333333333,
             "#9c179e"
            ],
            [
             0.4444444444444444,
             "#bd3786"
            ],
            [
             0.5555555555555556,
             "#d8576b"
            ],
            [
             0.6666666666666666,
             "#ed7953"
            ],
            [
             0.7777777777777778,
             "#fb9f3a"
            ],
            [
             0.8888888888888888,
             "#fdca26"
            ],
            [
             1,
             "#f0f921"
            ]
           ],
           "sequentialminus": [
            [
             0,
             "#0d0887"
            ],
            [
             0.1111111111111111,
             "#46039f"
            ],
            [
             0.2222222222222222,
             "#7201a8"
            ],
            [
             0.3333333333333333,
             "#9c179e"
            ],
            [
             0.4444444444444444,
             "#bd3786"
            ],
            [
             0.5555555555555556,
             "#d8576b"
            ],
            [
             0.6666666666666666,
             "#ed7953"
            ],
            [
             0.7777777777777778,
             "#fb9f3a"
            ],
            [
             0.8888888888888888,
             "#fdca26"
            ],
            [
             1,
             "#f0f921"
            ]
           ]
          },
          "colorway": [
           "#636efa",
           "#EF553B",
           "#00cc96",
           "#ab63fa",
           "#FFA15A",
           "#19d3f3",
           "#FF6692",
           "#B6E880",
           "#FF97FF",
           "#FECB52"
          ],
          "font": {
           "color": "#2a3f5f"
          },
          "geo": {
           "bgcolor": "white",
           "lakecolor": "white",
           "landcolor": "#E5ECF6",
           "showlakes": true,
           "showland": true,
           "subunitcolor": "white"
          },
          "hoverlabel": {
           "align": "left"
          },
          "hovermode": "closest",
          "mapbox": {
           "style": "light"
          },
          "paper_bgcolor": "white",
          "plot_bgcolor": "#E5ECF6",
          "polar": {
           "angularaxis": {
            "gridcolor": "white",
            "linecolor": "white",
            "ticks": ""
           },
           "bgcolor": "#E5ECF6",
           "radialaxis": {
            "gridcolor": "white",
            "linecolor": "white",
            "ticks": ""
           }
          },
          "scene": {
           "xaxis": {
            "backgroundcolor": "#E5ECF6",
            "gridcolor": "white",
            "gridwidth": 2,
            "linecolor": "white",
            "showbackground": true,
            "ticks": "",
            "zerolinecolor": "white"
           },
           "yaxis": {
            "backgroundcolor": "#E5ECF6",
            "gridcolor": "white",
            "gridwidth": 2,
            "linecolor": "white",
            "showbackground": true,
            "ticks": "",
            "zerolinecolor": "white"
           },
           "zaxis": {
            "backgroundcolor": "#E5ECF6",
            "gridcolor": "white",
            "gridwidth": 2,
            "linecolor": "white",
            "showbackground": true,
            "ticks": "",
            "zerolinecolor": "white"
           }
          },
          "shapedefaults": {
           "line": {
            "color": "#2a3f5f"
           }
          },
          "ternary": {
           "aaxis": {
            "gridcolor": "white",
            "linecolor": "white",
            "ticks": ""
           },
           "baxis": {
            "gridcolor": "white",
            "linecolor": "white",
            "ticks": ""
           },
           "bgcolor": "#E5ECF6",
           "caxis": {
            "gridcolor": "white",
            "linecolor": "white",
            "ticks": ""
           }
          },
          "title": {
           "x": 0.05
          },
          "xaxis": {
           "automargin": true,
           "gridcolor": "white",
           "linecolor": "white",
           "ticks": "",
           "title": {
            "standoff": 15
           },
           "zerolinecolor": "white",
           "zerolinewidth": 2
          },
          "yaxis": {
           "automargin": true,
           "gridcolor": "white",
           "linecolor": "white",
           "ticks": "",
           "title": {
            "standoff": 15
           },
           "zerolinecolor": "white",
           "zerolinewidth": 2
          }
         }
        },
        "width": 600
       }
      }
     },
     "metadata": {},
     "output_type": "display_data"
    }
   ],
   "source": [
    "px.scatter_matrix(\n",
    "fat_quantity_clean,\n",
    "dimensions=[\n",
    "\"Obesity\",\n",
    "\"Animal fats\",\n",
    "\"Alcoholic Beverages\",\n",
    "# \"petal_width\",\n",
    "\"Deaths\",\n",
    "],\n",
    "# color=\"species\",\n",
    "width=600,\n",
    "height=400\n",
    ")"
   ]
  },
  {
   "attachments": {},
   "cell_type": "markdown",
   "metadata": {},
   "source": [
    "## K-means and Elbow method"
   ]
  },
  {
   "attachments": {},
   "cell_type": "markdown",
   "metadata": {},
   "source": [
    "We start with the K-Means model:\n",
    "- use the scikit-learn method\n",
    "- use the method you implemented.\n",
    "\n",
    "Use a graphical tool, the elbow method, to estimate the optimal number of clusters k for a given task.\n",
    "- Determine the optimal number of clusters for the previous 2 plots."
   ]
  },
  {
   "cell_type": "code",
   "execution_count": 63,
   "metadata": {},
   "outputs": [
    {
     "data": {
      "text/html": [
       "<style>#sk-container-id-3 {color: black;}#sk-container-id-3 pre{padding: 0;}#sk-container-id-3 div.sk-toggleable {background-color: white;}#sk-container-id-3 label.sk-toggleable__label {cursor: pointer;display: block;width: 100%;margin-bottom: 0;padding: 0.3em;box-sizing: border-box;text-align: center;}#sk-container-id-3 label.sk-toggleable__label-arrow:before {content: \"▸\";float: left;margin-right: 0.25em;color: #696969;}#sk-container-id-3 label.sk-toggleable__label-arrow:hover:before {color: black;}#sk-container-id-3 div.sk-estimator:hover label.sk-toggleable__label-arrow:before {color: black;}#sk-container-id-3 div.sk-toggleable__content {max-height: 0;max-width: 0;overflow: hidden;text-align: left;background-color: #f0f8ff;}#sk-container-id-3 div.sk-toggleable__content pre {margin: 0.2em;color: black;border-radius: 0.25em;background-color: #f0f8ff;}#sk-container-id-3 input.sk-toggleable__control:checked~div.sk-toggleable__content {max-height: 200px;max-width: 100%;overflow: auto;}#sk-container-id-3 input.sk-toggleable__control:checked~label.sk-toggleable__label-arrow:before {content: \"▾\";}#sk-container-id-3 div.sk-estimator input.sk-toggleable__control:checked~label.sk-toggleable__label {background-color: #d4ebff;}#sk-container-id-3 div.sk-label input.sk-toggleable__control:checked~label.sk-toggleable__label {background-color: #d4ebff;}#sk-container-id-3 input.sk-hidden--visually {border: 0;clip: rect(1px 1px 1px 1px);clip: rect(1px, 1px, 1px, 1px);height: 1px;margin: -1px;overflow: hidden;padding: 0;position: absolute;width: 1px;}#sk-container-id-3 div.sk-estimator {font-family: monospace;background-color: #f0f8ff;border: 1px dotted black;border-radius: 0.25em;box-sizing: border-box;margin-bottom: 0.5em;}#sk-container-id-3 div.sk-estimator:hover {background-color: #d4ebff;}#sk-container-id-3 div.sk-parallel-item::after {content: \"\";width: 100%;border-bottom: 1px solid gray;flex-grow: 1;}#sk-container-id-3 div.sk-label:hover label.sk-toggleable__label {background-color: #d4ebff;}#sk-container-id-3 div.sk-serial::before {content: \"\";position: absolute;border-left: 1px solid gray;box-sizing: border-box;top: 0;bottom: 0;left: 50%;z-index: 0;}#sk-container-id-3 div.sk-serial {display: flex;flex-direction: column;align-items: center;background-color: white;padding-right: 0.2em;padding-left: 0.2em;position: relative;}#sk-container-id-3 div.sk-item {position: relative;z-index: 1;}#sk-container-id-3 div.sk-parallel {display: flex;align-items: stretch;justify-content: center;background-color: white;position: relative;}#sk-container-id-3 div.sk-item::before, #sk-container-id-3 div.sk-parallel-item::before {content: \"\";position: absolute;border-left: 1px solid gray;box-sizing: border-box;top: 0;bottom: 0;left: 50%;z-index: -1;}#sk-container-id-3 div.sk-parallel-item {display: flex;flex-direction: column;z-index: 1;position: relative;background-color: white;}#sk-container-id-3 div.sk-parallel-item:first-child::after {align-self: flex-end;width: 50%;}#sk-container-id-3 div.sk-parallel-item:last-child::after {align-self: flex-start;width: 50%;}#sk-container-id-3 div.sk-parallel-item:only-child::after {width: 0;}#sk-container-id-3 div.sk-dashed-wrapped {border: 1px dashed gray;margin: 0 0.4em 0.5em 0.4em;box-sizing: border-box;padding-bottom: 0.4em;background-color: white;}#sk-container-id-3 div.sk-label label {font-family: monospace;font-weight: bold;display: inline-block;line-height: 1.2em;}#sk-container-id-3 div.sk-label-container {text-align: center;}#sk-container-id-3 div.sk-container {/* jupyter's `normalize.less` sets `[hidden] { display: none; }` but bootstrap.min.css set `[hidden] { display: none !important; }` so we also need the `!important` here to be able to override the default hidden behavior on the sphinx rendered scikit-learn.org. See: https://github.com/scikit-learn/scikit-learn/issues/21755 */display: inline-block !important;position: relative;}#sk-container-id-3 div.sk-text-repr-fallback {display: none;}</style><div id=\"sk-container-id-3\" class=\"sk-top-container\"><div class=\"sk-text-repr-fallback\"><pre>KMeans(n_clusters=5, n_init=10, random_state=42)</pre><b>In a Jupyter environment, please rerun this cell to show the HTML representation or trust the notebook. <br />On GitHub, the HTML representation is unable to render, please try loading this page with nbviewer.org.</b></div><div class=\"sk-container\" hidden><div class=\"sk-item\"><div class=\"sk-estimator sk-toggleable\"><input class=\"sk-toggleable__control sk-hidden--visually\" id=\"sk-estimator-id-3\" type=\"checkbox\" checked><label for=\"sk-estimator-id-3\" class=\"sk-toggleable__label sk-toggleable__label-arrow\">KMeans</label><div class=\"sk-toggleable__content\"><pre>KMeans(n_clusters=5, n_init=10, random_state=42)</pre></div></div></div></div></div>"
      ],
      "text/plain": [
       "KMeans(n_clusters=5, n_init=10, random_state=42)"
      ]
     },
     "execution_count": 63,
     "metadata": {},
     "output_type": "execute_result"
    }
   ],
   "source": [
    "from sklearn.cluster import KMeans\n",
    "\n",
    "number_cluster = 5\n",
    "\n",
    "kmeans = KMeans(n_clusters=number_cluster, random_state=42, n_init=10)\n",
    "\n",
    "kmeans.fit(fat_quantity_norm)\n",
    "\n"
   ]
  },
  {
   "attachments": {},
   "cell_type": "markdown",
   "metadata": {},
   "source": [
    "Plot the obtained clusters"
   ]
  },
  {
   "cell_type": "code",
   "execution_count": 65,
   "metadata": {},
   "outputs": [
    {
     "data": {
      "application/vnd.plotly.v1+json": {
       "config": {
        "plotlyServerURL": "https://plot.ly"
       },
       "data": [
        {
         "hovertemplate": "predicted_cluster=3<br>Obesity=%{x}<br>Deaths=%{y}<extra></extra>",
         "legendgroup": "3",
         "marker": {
          "color": "#636efa",
          "symbol": "circle"
         },
         "mode": "markers",
         "name": "3",
         "orientation": "v",
         "showlegend": true,
         "type": "scatter",
         "x": [
          4.5,
          26.6,
          30.4,
          16.1,
          10.6,
          6.3,
          26.7,
          22.6,
          26.9,
          19.3,
          31.1,
          22.7,
          13.5,
          30,
          13.4,
          27.4,
          18.8,
          8.2,
          19.4,
          25.5,
          27.4,
          24.4,
          4.4,
          33.4,
          21.3,
          6,
          31.3,
          15.3,
          7.1,
          11.3,
          11.5,
          19.6,
          25.6,
          15,
          21.8,
          7.8,
          19,
          19.1,
          45.5,
          35,
          27,
          7.4,
          26.5,
          10.8,
          2.9,
          19.7,
          27.3,
          32.2,
          28.9,
          15.3,
          23.5,
          25.2,
          12.3
         ],
         "xaxis": "x",
         "y": [
          0.0050580558980682,
          0.0058818224857407,
          0.0035256659159742,
          0.0016400517911091,
          0.0197841726618705,
          0.0013043478260869,
          0.0012144313447389,
          0.0067937033968517,
          0.0225142857142857,
          0.0792359088572897,
          0.0068876918345684,
          0.0185928097515815,
          0.0117753623188406,
          0.0002232142857142,
          0.0028238458090542,
          0.0344579439252336,
          0.0246042289383372,
          0.0022833419823559,
          0.0303021086780211,
          0.0623256090314914,
          0.031725613593455,
          0.0097187611249555,
          0.0020084625338382,
          0.0319037363048975,
          0.013634422378817,
          0.0029760125541772,
          0.0177289377289377,
          0.0012781794332082,
          0.0009925435780949,
          0.0049032258064516,
          0.000790513833992,
          0,
          0.0185219181130396,
          0.0064147973238882,
          0.0024560339599757,
          0.0040305060197338,
          0.0271674707098553,
          0.111738362174019,
          0,
          0.017291173197112,
          0.0393288388005635,
          0.00309015028849,
          0.0193388429752066,
          0.0000901794571196681,
          0,
          0.0089846603360116,
          0.03273369199731,
          0.0198789065765432,
          0.002690455961484,
          0.001790835137824,
          0,
          0.0033513702216791,
          0.0020789880912332
         ],
         "yaxis": "y"
        },
        {
         "hovertemplate": "predicted_cluster=1<br>Obesity=%{x}<br>Deaths=%{y}<extra></extra>",
         "legendgroup": "1",
         "marker": {
          "color": "#EF553B",
          "symbol": "circle"
         },
         "mode": "markers",
         "name": "1",
         "orientation": "v",
         "showlegend": true,
         "type": "scatter",
         "x": [
          22.3,
          28.5,
          20.9,
          21.9,
          19.9,
          26.6,
          24.5,
          22.4,
          18.7,
          19.4,
          22.3,
          27.4,
          22.1,
          25.7,
          27.1,
          28.5,
          21.3,
          23.8,
          24.9,
          23.2,
          23.3,
          25.7,
          28.6,
          23.1,
          26.9,
          26.7,
          22.9,
          37,
          15.4,
          25.7,
          28.4,
          24.2,
          31,
          28.4,
          24.9,
          23.1,
          32,
          23.9,
          22.9,
          22.5,
          25.6,
          23.2,
          24.5,
          25.7,
          23.5,
          22.4,
          22.5,
          27.1,
          22.1,
          21.2,
          26.1,
          29.5,
          37.3
         ],
         "xaxis": "x",
         "y": [
          0.035799859055673,
          0.0904444983141239,
          0.0846752368064953,
          0.0508189365043751,
          0.0194499406410764,
          0.0135786666666667,
          0.156786799826313,
          0.0470167064439141,
          0.077572423278604,
          0.103352636391344,
          0.0858473552017827,
          0.0842789086184495,
          0.0792714990696546,
          0.0378790843279202,
          0.0672885572139303,
          0.0896696528555431,
          0.0162978212386344,
          0.0115702479338843,
          0.0083378549466449,
          0.0899153064367108,
          0.0495020188425303,
          0.027171668667467,
          0.073000921470257,
          0.0076086956521739,
          0.0424945032980212,
          0.0325954861111111,
          0.107819755871036,
          0.0194414836921765,
          0.0198968759478314,
          0.0185068349106204,
          0.0295275590551181,
          0.064873417721519,
          0.0333333333333333,
          0.0894406535620383,
          0.0940514469453376,
          0.0582126295299708,
          0.0005013033888109,
          0.103221153846154,
          0.0312327604498196,
          0.0789633434508522,
          0.0598415346121768,
          0.0550853242320819,
          0.0701314900472948,
          0.0319260152794532,
          0.0342101480523214,
          0.0220615159282314,
          0.100190204469805,
          0.100793534166054,
          0.0724101378047605,
          0.0712763493166551,
          0.0377997989372397,
          0.096039309112567,
          0.0910879173512632
         ],
         "yaxis": "y"
        },
        {
         "hovertemplate": "predicted_cluster=0<br>Obesity=%{x}<br>Deaths=%{y}<extra></extra>",
         "legendgroup": "0",
         "marker": {
          "color": "#00cc96",
          "symbol": "circle"
         },
         "mode": "markers",
         "name": "0",
         "orientation": "v",
         "showlegend": true,
         "type": "scatter",
         "x": [
          6.8,
          3.4,
          8.2,
          4.5,
          9.5,
          4.8,
          8.4,
          9,
          12.2,
          3.6,
          8.7,
          9.7,
          6.6,
          20.5,
          3.8,
          6.9,
          13.5,
          8.6,
          4.5,
          4.7,
          6,
          4.7,
          7.8,
          4.8,
          10.6,
          7.4,
          7.5,
          20.5,
          5.4,
          7.1,
          4.1,
          7.1,
          14.1,
          6.5
         ],
         "xaxis": "x",
         "y": [
          0.0011438410921837,
          0.0041746903874352,
          0.0003603898763207,
          0.0003396641630387,
          0.0016655387623129,
          0.0006043728150737,
          0.0082638637187386,
          0.0005081184336198,
          0.0061740890688259,
          0.0015741933238191,
          0.0050889532478278,
          0.00105236057027,
          0.0006369426751592,
          0.0020520915548539,
          0.0102641954146132,
          0.0069758113483894,
          0.0020541549953314,
          0.0016409648082245,
          0.0009353219457585,
          0.000977522216414,
          0.0004588333440287,
          0.0003389970647815,
          0.0005806733288056,
          0.0004323656578134,
          0.008095238095238,
          0.0020903010033444,
          0.0009402030838661,
          0,
          0.0007020103022291,
          0.0007971977291943,
          0.0004897138234844,
          0.0000351558576355175,
          0.0020317843492255,
          0.0019963011314186
         ],
         "yaxis": "y"
        },
        {
         "hovertemplate": "predicted_cluster=2<br>Obesity=%{x}<br>Deaths=%{y}<extra></extra>",
         "legendgroup": "2",
         "marker": {
          "color": "#ab63fa",
          "symbol": "circle"
         },
         "mode": "markers",
         "name": "2",
         "orientation": "v",
         "showlegend": true,
         "type": "scatter",
         "x": [
          24.8,
          3.5,
          6.6,
          28.2,
          19.2,
          4.5,
          7.9,
          3.8,
          25,
          6,
          23.8,
          29.9,
          2.1
         ],
         "xaxis": "x",
         "y": [
          0.0024390243902439,
          0,
          0.0003389939282008,
          0,
          0.0198221092757306,
          0,
          0.0088724584103512,
          0.0057207627683691,
          0.0072953406348617,
          0.0079913488652229,
          0,
          0.0063203109020249,
          0.0000363791329293517
         ],
         "yaxis": "y"
        },
        {
         "hovertemplate": "predicted_cluster=4<br>Obesity=%{x}<br>Deaths=%{y}<extra></extra>",
         "legendgroup": "4",
         "marker": {
          "color": "#FFA15A",
          "symbol": "circle"
         },
         "mode": "markers",
         "name": "4",
         "orientation": "v",
         "showlegend": true,
         "type": "scatter",
         "x": [
          4.9
         ],
         "xaxis": "x",
         "y": [
          0.001158726173693
         ],
         "yaxis": "y"
        }
       ],
       "layout": {
        "height": 500,
        "legend": {
         "title": {
          "text": "predicted_cluster"
         },
         "tracegroupgap": 0
        },
        "margin": {
         "t": 60
        },
        "template": {
         "data": {
          "bar": [
           {
            "error_x": {
             "color": "#2a3f5f"
            },
            "error_y": {
             "color": "#2a3f5f"
            },
            "marker": {
             "line": {
              "color": "#E5ECF6",
              "width": 0.5
             },
             "pattern": {
              "fillmode": "overlay",
              "size": 10,
              "solidity": 0.2
             }
            },
            "type": "bar"
           }
          ],
          "barpolar": [
           {
            "marker": {
             "line": {
              "color": "#E5ECF6",
              "width": 0.5
             },
             "pattern": {
              "fillmode": "overlay",
              "size": 10,
              "solidity": 0.2
             }
            },
            "type": "barpolar"
           }
          ],
          "carpet": [
           {
            "aaxis": {
             "endlinecolor": "#2a3f5f",
             "gridcolor": "white",
             "linecolor": "white",
             "minorgridcolor": "white",
             "startlinecolor": "#2a3f5f"
            },
            "baxis": {
             "endlinecolor": "#2a3f5f",
             "gridcolor": "white",
             "linecolor": "white",
             "minorgridcolor": "white",
             "startlinecolor": "#2a3f5f"
            },
            "type": "carpet"
           }
          ],
          "choropleth": [
           {
            "colorbar": {
             "outlinewidth": 0,
             "ticks": ""
            },
            "type": "choropleth"
           }
          ],
          "contour": [
           {
            "colorbar": {
             "outlinewidth": 0,
             "ticks": ""
            },
            "colorscale": [
             [
              0,
              "#0d0887"
             ],
             [
              0.1111111111111111,
              "#46039f"
             ],
             [
              0.2222222222222222,
              "#7201a8"
             ],
             [
              0.3333333333333333,
              "#9c179e"
             ],
             [
              0.4444444444444444,
              "#bd3786"
             ],
             [
              0.5555555555555556,
              "#d8576b"
             ],
             [
              0.6666666666666666,
              "#ed7953"
             ],
             [
              0.7777777777777778,
              "#fb9f3a"
             ],
             [
              0.8888888888888888,
              "#fdca26"
             ],
             [
              1,
              "#f0f921"
             ]
            ],
            "type": "contour"
           }
          ],
          "contourcarpet": [
           {
            "colorbar": {
             "outlinewidth": 0,
             "ticks": ""
            },
            "type": "contourcarpet"
           }
          ],
          "heatmap": [
           {
            "colorbar": {
             "outlinewidth": 0,
             "ticks": ""
            },
            "colorscale": [
             [
              0,
              "#0d0887"
             ],
             [
              0.1111111111111111,
              "#46039f"
             ],
             [
              0.2222222222222222,
              "#7201a8"
             ],
             [
              0.3333333333333333,
              "#9c179e"
             ],
             [
              0.4444444444444444,
              "#bd3786"
             ],
             [
              0.5555555555555556,
              "#d8576b"
             ],
             [
              0.6666666666666666,
              "#ed7953"
             ],
             [
              0.7777777777777778,
              "#fb9f3a"
             ],
             [
              0.8888888888888888,
              "#fdca26"
             ],
             [
              1,
              "#f0f921"
             ]
            ],
            "type": "heatmap"
           }
          ],
          "heatmapgl": [
           {
            "colorbar": {
             "outlinewidth": 0,
             "ticks": ""
            },
            "colorscale": [
             [
              0,
              "#0d0887"
             ],
             [
              0.1111111111111111,
              "#46039f"
             ],
             [
              0.2222222222222222,
              "#7201a8"
             ],
             [
              0.3333333333333333,
              "#9c179e"
             ],
             [
              0.4444444444444444,
              "#bd3786"
             ],
             [
              0.5555555555555556,
              "#d8576b"
             ],
             [
              0.6666666666666666,
              "#ed7953"
             ],
             [
              0.7777777777777778,
              "#fb9f3a"
             ],
             [
              0.8888888888888888,
              "#fdca26"
             ],
             [
              1,
              "#f0f921"
             ]
            ],
            "type": "heatmapgl"
           }
          ],
          "histogram": [
           {
            "marker": {
             "pattern": {
              "fillmode": "overlay",
              "size": 10,
              "solidity": 0.2
             }
            },
            "type": "histogram"
           }
          ],
          "histogram2d": [
           {
            "colorbar": {
             "outlinewidth": 0,
             "ticks": ""
            },
            "colorscale": [
             [
              0,
              "#0d0887"
             ],
             [
              0.1111111111111111,
              "#46039f"
             ],
             [
              0.2222222222222222,
              "#7201a8"
             ],
             [
              0.3333333333333333,
              "#9c179e"
             ],
             [
              0.4444444444444444,
              "#bd3786"
             ],
             [
              0.5555555555555556,
              "#d8576b"
             ],
             [
              0.6666666666666666,
              "#ed7953"
             ],
             [
              0.7777777777777778,
              "#fb9f3a"
             ],
             [
              0.8888888888888888,
              "#fdca26"
             ],
             [
              1,
              "#f0f921"
             ]
            ],
            "type": "histogram2d"
           }
          ],
          "histogram2dcontour": [
           {
            "colorbar": {
             "outlinewidth": 0,
             "ticks": ""
            },
            "colorscale": [
             [
              0,
              "#0d0887"
             ],
             [
              0.1111111111111111,
              "#46039f"
             ],
             [
              0.2222222222222222,
              "#7201a8"
             ],
             [
              0.3333333333333333,
              "#9c179e"
             ],
             [
              0.4444444444444444,
              "#bd3786"
             ],
             [
              0.5555555555555556,
              "#d8576b"
             ],
             [
              0.6666666666666666,
              "#ed7953"
             ],
             [
              0.7777777777777778,
              "#fb9f3a"
             ],
             [
              0.8888888888888888,
              "#fdca26"
             ],
             [
              1,
              "#f0f921"
             ]
            ],
            "type": "histogram2dcontour"
           }
          ],
          "mesh3d": [
           {
            "colorbar": {
             "outlinewidth": 0,
             "ticks": ""
            },
            "type": "mesh3d"
           }
          ],
          "parcoords": [
           {
            "line": {
             "colorbar": {
              "outlinewidth": 0,
              "ticks": ""
             }
            },
            "type": "parcoords"
           }
          ],
          "pie": [
           {
            "automargin": true,
            "type": "pie"
           }
          ],
          "scatter": [
           {
            "fillpattern": {
             "fillmode": "overlay",
             "size": 10,
             "solidity": 0.2
            },
            "type": "scatter"
           }
          ],
          "scatter3d": [
           {
            "line": {
             "colorbar": {
              "outlinewidth": 0,
              "ticks": ""
             }
            },
            "marker": {
             "colorbar": {
              "outlinewidth": 0,
              "ticks": ""
             }
            },
            "type": "scatter3d"
           }
          ],
          "scattercarpet": [
           {
            "marker": {
             "colorbar": {
              "outlinewidth": 0,
              "ticks": ""
             }
            },
            "type": "scattercarpet"
           }
          ],
          "scattergeo": [
           {
            "marker": {
             "colorbar": {
              "outlinewidth": 0,
              "ticks": ""
             }
            },
            "type": "scattergeo"
           }
          ],
          "scattergl": [
           {
            "marker": {
             "colorbar": {
              "outlinewidth": 0,
              "ticks": ""
             }
            },
            "type": "scattergl"
           }
          ],
          "scattermapbox": [
           {
            "marker": {
             "colorbar": {
              "outlinewidth": 0,
              "ticks": ""
             }
            },
            "type": "scattermapbox"
           }
          ],
          "scatterpolar": [
           {
            "marker": {
             "colorbar": {
              "outlinewidth": 0,
              "ticks": ""
             }
            },
            "type": "scatterpolar"
           }
          ],
          "scatterpolargl": [
           {
            "marker": {
             "colorbar": {
              "outlinewidth": 0,
              "ticks": ""
             }
            },
            "type": "scatterpolargl"
           }
          ],
          "scatterternary": [
           {
            "marker": {
             "colorbar": {
              "outlinewidth": 0,
              "ticks": ""
             }
            },
            "type": "scatterternary"
           }
          ],
          "surface": [
           {
            "colorbar": {
             "outlinewidth": 0,
             "ticks": ""
            },
            "colorscale": [
             [
              0,
              "#0d0887"
             ],
             [
              0.1111111111111111,
              "#46039f"
             ],
             [
              0.2222222222222222,
              "#7201a8"
             ],
             [
              0.3333333333333333,
              "#9c179e"
             ],
             [
              0.4444444444444444,
              "#bd3786"
             ],
             [
              0.5555555555555556,
              "#d8576b"
             ],
             [
              0.6666666666666666,
              "#ed7953"
             ],
             [
              0.7777777777777778,
              "#fb9f3a"
             ],
             [
              0.8888888888888888,
              "#fdca26"
             ],
             [
              1,
              "#f0f921"
             ]
            ],
            "type": "surface"
           }
          ],
          "table": [
           {
            "cells": {
             "fill": {
              "color": "#EBF0F8"
             },
             "line": {
              "color": "white"
             }
            },
            "header": {
             "fill": {
              "color": "#C8D4E3"
             },
             "line": {
              "color": "white"
             }
            },
            "type": "table"
           }
          ]
         },
         "layout": {
          "annotationdefaults": {
           "arrowcolor": "#2a3f5f",
           "arrowhead": 0,
           "arrowwidth": 1
          },
          "autotypenumbers": "strict",
          "coloraxis": {
           "colorbar": {
            "outlinewidth": 0,
            "ticks": ""
           }
          },
          "colorscale": {
           "diverging": [
            [
             0,
             "#8e0152"
            ],
            [
             0.1,
             "#c51b7d"
            ],
            [
             0.2,
             "#de77ae"
            ],
            [
             0.3,
             "#f1b6da"
            ],
            [
             0.4,
             "#fde0ef"
            ],
            [
             0.5,
             "#f7f7f7"
            ],
            [
             0.6,
             "#e6f5d0"
            ],
            [
             0.7,
             "#b8e186"
            ],
            [
             0.8,
             "#7fbc41"
            ],
            [
             0.9,
             "#4d9221"
            ],
            [
             1,
             "#276419"
            ]
           ],
           "sequential": [
            [
             0,
             "#0d0887"
            ],
            [
             0.1111111111111111,
             "#46039f"
            ],
            [
             0.2222222222222222,
             "#7201a8"
            ],
            [
             0.3333333333333333,
             "#9c179e"
            ],
            [
             0.4444444444444444,
             "#bd3786"
            ],
            [
             0.5555555555555556,
             "#d8576b"
            ],
            [
             0.6666666666666666,
             "#ed7953"
            ],
            [
             0.7777777777777778,
             "#fb9f3a"
            ],
            [
             0.8888888888888888,
             "#fdca26"
            ],
            [
             1,
             "#f0f921"
            ]
           ],
           "sequentialminus": [
            [
             0,
             "#0d0887"
            ],
            [
             0.1111111111111111,
             "#46039f"
            ],
            [
             0.2222222222222222,
             "#7201a8"
            ],
            [
             0.3333333333333333,
             "#9c179e"
            ],
            [
             0.4444444444444444,
             "#bd3786"
            ],
            [
             0.5555555555555556,
             "#d8576b"
            ],
            [
             0.6666666666666666,
             "#ed7953"
            ],
            [
             0.7777777777777778,
             "#fb9f3a"
            ],
            [
             0.8888888888888888,
             "#fdca26"
            ],
            [
             1,
             "#f0f921"
            ]
           ]
          },
          "colorway": [
           "#636efa",
           "#EF553B",
           "#00cc96",
           "#ab63fa",
           "#FFA15A",
           "#19d3f3",
           "#FF6692",
           "#B6E880",
           "#FF97FF",
           "#FECB52"
          ],
          "font": {
           "color": "#2a3f5f"
          },
          "geo": {
           "bgcolor": "white",
           "lakecolor": "white",
           "landcolor": "#E5ECF6",
           "showlakes": true,
           "showland": true,
           "subunitcolor": "white"
          },
          "hoverlabel": {
           "align": "left"
          },
          "hovermode": "closest",
          "mapbox": {
           "style": "light"
          },
          "paper_bgcolor": "white",
          "plot_bgcolor": "#E5ECF6",
          "polar": {
           "angularaxis": {
            "gridcolor": "white",
            "linecolor": "white",
            "ticks": ""
           },
           "bgcolor": "#E5ECF6",
           "radialaxis": {
            "gridcolor": "white",
            "linecolor": "white",
            "ticks": ""
           }
          },
          "scene": {
           "xaxis": {
            "backgroundcolor": "#E5ECF6",
            "gridcolor": "white",
            "gridwidth": 2,
            "linecolor": "white",
            "showbackground": true,
            "ticks": "",
            "zerolinecolor": "white"
           },
           "yaxis": {
            "backgroundcolor": "#E5ECF6",
            "gridcolor": "white",
            "gridwidth": 2,
            "linecolor": "white",
            "showbackground": true,
            "ticks": "",
            "zerolinecolor": "white"
           },
           "zaxis": {
            "backgroundcolor": "#E5ECF6",
            "gridcolor": "white",
            "gridwidth": 2,
            "linecolor": "white",
            "showbackground": true,
            "ticks": "",
            "zerolinecolor": "white"
           }
          },
          "shapedefaults": {
           "line": {
            "color": "#2a3f5f"
           }
          },
          "ternary": {
           "aaxis": {
            "gridcolor": "white",
            "linecolor": "white",
            "ticks": ""
           },
           "baxis": {
            "gridcolor": "white",
            "linecolor": "white",
            "ticks": ""
           },
           "bgcolor": "#E5ECF6",
           "caxis": {
            "gridcolor": "white",
            "linecolor": "white",
            "ticks": ""
           }
          },
          "title": {
           "x": 0.05
          },
          "xaxis": {
           "automargin": true,
           "gridcolor": "white",
           "linecolor": "white",
           "ticks": "",
           "title": {
            "standoff": 15
           },
           "zerolinecolor": "white",
           "zerolinewidth": 2
          },
          "yaxis": {
           "automargin": true,
           "gridcolor": "white",
           "linecolor": "white",
           "ticks": "",
           "title": {
            "standoff": 15
           },
           "zerolinecolor": "white",
           "zerolinewidth": 2
          }
         }
        },
        "width": 600,
        "xaxis": {
         "anchor": "y",
         "domain": [
          0,
          1
         ],
         "title": {
          "text": "Obesity"
         }
        },
        "yaxis": {
         "anchor": "x",
         "domain": [
          0,
          1
         ],
         "title": {
          "text": "Deaths"
         }
        }
       }
      }
     },
     "metadata": {},
     "output_type": "display_data"
    }
   ],
   "source": [
    "kmeans.predict(fat_quantity_norm) #nouvelle colonne clusters\n",
    "\n",
    "df = fat_quantity_clean.assign(predicted_cluster=kmeans.predict(fat_quantity_norm).astype(str) )\n",
    "px.scatter(df, \n",
    "           x='Obesity',\n",
    "           y='Deaths', \n",
    "           color=\"predicted_cluster\",\n",
    "           width=600, \n",
    "           height=500)"
   ]
  },
  {
   "cell_type": "code",
   "execution_count": 66,
   "metadata": {},
   "outputs": [
    {
     "data": {
      "application/vnd.plotly.v1+json": {
       "config": {
        "plotlyServerURL": "https://plot.ly"
       },
       "data": [
        {
         "hovertemplate": "predicted_cluster=3<br>PC1=%{x}<br>PC2=%{y}<extra></extra>",
         "legendgroup": "3",
         "marker": {
          "color": "#636efa",
          "symbol": "circle"
         },
         "mode": "markers",
         "name": "3",
         "orientation": "v",
         "showlegend": true,
         "type": "scatter",
         "x": [
          1.3956385022935596,
          0.6223902363473922,
          -1.1145885697447067,
          1.6361417012814246,
          0.46482243893048497,
          3.003550331006779,
          -0.4140838888905701,
          -1.1568454068637617,
          0.28661766096225644,
          -0.8675801246029149,
          1.3801230242472107,
          -0.49038703872573314,
          1.7642539240649089,
          0.33660864282084896,
          2.200707592411264,
          -0.8545226441721604,
          1.4153212478187442,
          2.5799475065523976,
          1.316863261573121,
          -0.9021928893357576,
          1.0662639339021103,
          -0.1738969818065221,
          0.07558157002773477,
          0.7873523874448519,
          -1.262796603663518,
          2.6762746335298653,
          0.6296093776896159,
          0.44667926392838114,
          1.736950805005783,
          1.9452863258474946,
          1.4501934930541107,
          -1.516280255923186,
          0.3650384108762454,
          2.1842215072688966,
          1.6940444737286282,
          0.7608098213809956,
          0.7658028178161351,
          -0.6447392762257809,
          0.025298772993980954,
          -0.1844812366322063,
          -0.3748760110651887,
          1.9025909875094622,
          0.25529560951177716,
          0.60093420839509,
          2.8031818381522102,
          -0.36441224639661024,
          0.13609836229155745,
          -0.4792034395185782,
          -1.2497889262044488,
          -1.0009179229392782,
          1.8341314511553013,
          1.5974000216390856,
          3.230145351235075
         ],
         "xaxis": "x",
         "y": [
          0.32590394567185976,
          -1.1804830926235448,
          0.3510492566525549,
          -0.28696078352981086,
          0.5772502854996444,
          0.20070944984994002,
          1.1682851270608412,
          0.330954428247544,
          -1.6071028167456045,
          -1.4752246608668107,
          1.4122977368163658,
          0.69979357981868,
          1.206076907330503,
          0.05974344899795552,
          2.6823475410966604,
          -1.4671697363651397,
          -0.23647425890697862,
          -1.690376513474806,
          -1.0870604542224929,
          -0.9857742483024462,
          -2.6913464532818825,
          1.1372724946542987,
          1.5522250002413565,
          -2.3626569469708203,
          -0.19648869346306086,
          -0.4073771762296802,
          -2.0707171470545767,
          0.17988542090493595,
          0.6957319977880719,
          -0.39311333644386154,
          -0.8072919269252855,
          3.6942698329629637,
          -0.5621270205459754,
          -0.49999323590465444,
          0.17543470474741657,
          -0.13494911030369655,
          -0.2439650648637131,
          -0.37580326249303675,
          1.233590249833007,
          -1.1630046002538663,
          -0.37940260322204494,
          -0.10731408497847758,
          -0.6855685672196632,
          1.3060057545611423,
          0.8159098371809703,
          0.4322167823470603,
          -1.5717242637152289,
          -2.1484215775878144,
          0.21125186846644356,
          0.9187259514295957,
          1.0411588047419693,
          -1.5862556952996214,
          -1.817091060356804
         ],
         "yaxis": "y"
        },
        {
         "hovertemplate": "predicted_cluster=1<br>PC1=%{x}<br>PC2=%{y}<extra></extra>",
         "legendgroup": "1",
         "marker": {
          "color": "#EF553B",
          "symbol": "circle"
         },
         "mode": "markers",
         "name": "1",
         "orientation": "v",
         "showlegend": true,
         "type": "scatter",
         "x": [
          -3.0743986634862424,
          -3.490867549179902,
          -4.673118412769901,
          -3.2501835679052724,
          -3.3999454699873395,
          -1.6271905472411856,
          -4.550367418290165,
          -1.7631882093819395,
          -1.388841329579749,
          -2.883549010457069,
          -2.0597547878294895,
          -2.760388311455617,
          -1.7028559778521783,
          -1.4981599434158874,
          -4.418716492966357,
          -3.881618080101838,
          -3.981279349757354,
          -3.7386533277977776,
          -3.0305747539281316,
          -3.873475878924473,
          -4.013919936267036,
          -2.607225866574676,
          -3.535462453445127,
          -3.019674569405052,
          -2.5380261774880766,
          -1.207121512545501,
          -2.364902637406093,
          -2.263877317669331,
          -2.3735898223828857,
          -3.1072759287260046,
          -3.674714789468459,
          -5.889079392739659,
          -3.552591770285868,
          -1.5571230307830521,
          -5.9019283898112205,
          -3.6932330326240104,
          -2.6378422908873387,
          -2.5763945017450456,
          -1.8780699752710848,
          -3.189699961339472,
          -3.552332655909801,
          -2.9701504964645813,
          -3.1873802879167736,
          -2.367962806135389,
          -4.182204467391524,
          -2.324479214622623,
          -4.308229017663171,
          -2.3745450069005227,
          -3.2938587500263865,
          -3.6032664724700445,
          -2.700614573849235,
          -3.225432678992557,
          -3.7101426238033106
         ],
         "xaxis": "x",
         "y": [
          1.1283038168726718,
          -0.46818317908776347,
          0.038917818354972246,
          -1.2932254976522617,
          1.6220557298704374,
          0.3026231165762372,
          -3.1580829452264756,
          -0.5364136053115359,
          1.2355365333919268,
          0.4338403037440693,
          -1.1992170447683421,
          -0.799068487626101,
          -1.4891041770769966,
          -1.8822192655762127,
          -0.3741110515446255,
          -2.5298056649259832,
          1.4190184169335476,
          1.2652377323629431,
          2.119334345473039,
          -1.0775278159415764,
          -0.9034679151167483,
          -0.38685903681702,
          -1.5817629483488331,
          2.198644418573983,
          -0.18086208900370263,
          -2.117579419165114,
          -2.2142613839300727,
          -0.28676051594607965,
          1.7126655033257192,
          0.6492273558867278,
          0.21661739252059492,
          -0.1942404964046151,
          0.9090379166755801,
          0.01902191829619699,
          -0.5526481017808735,
          -1.1519748386120774,
          1.2492211003438276,
          -1.5915986430744171,
          0.27355283232449923,
          -0.8470190300685995,
          -0.5786371927766476,
          -0.7519219505117023,
          -0.5665481452115495,
          0.04420002748982947,
          0.5296271140629498,
          -1.2949969129143017,
          -1.083460437835712,
          -2.590946876848586,
          -1.1623519638950346,
          -1.4096350870467433,
          -0.14528019168115494,
          -1.0856432876530064,
          -3.522930380176932
         ],
         "yaxis": "y"
        },
        {
         "hovertemplate": "predicted_cluster=0<br>PC1=%{x}<br>PC2=%{y}<extra></extra>",
         "legendgroup": "0",
         "marker": {
          "color": "#00cc96",
          "symbol": "circle"
         },
         "mode": "markers",
         "name": "0",
         "orientation": "v",
         "showlegend": true,
         "type": "scatter",
         "x": [
          3.2446522356792773,
          3.669972294653538,
          4.771795813757271,
          4.37977344670363,
          3.789324292988105,
          3.6445000211943914,
          3.3812249712727906,
          3.8153463175997575,
          2.649711273771285,
          5.346967735858922,
          3.8604811086968316,
          4.369222880149108,
          3.874842240623932,
          3.5715075987214857,
          2.4464684794327436,
          2.845043994511079,
          3.6385100198664015,
          3.8271380971175293,
          3.071619244171494,
          3.664821126295934,
          3.762893523787481,
          4.408050780159628,
          4.791900575860377,
          6.398038112170499,
          2.970434002416157,
          3.8624580031905076,
          4.2352514275955055,
          2.78546078020378,
          2.961577798474307,
          4.842095053227563,
          3.953545336215581,
          4.657249866864532,
          3.359551482111424,
          4.343943599464575
         ],
         "xaxis": "x",
         "y": [
          -0.17151039058365805,
          -0.34537278942024374,
          -0.2799193600670394,
          -0.6937052857641623,
          -0.77612257136736,
          1.5361387609093646,
          0.6229990440429305,
          -0.44899540222666456,
          -0.8335909521728112,
          -0.4826237552123555,
          -1.2901570710194346,
          0.4016125388250673,
          -1.0485922562483818,
          -0.787176540571764,
          -0.13906283780268458,
          0.7078854654725121,
          0.688567208566333,
          -2.4350119746599823,
          1.3204937490553115,
          1.8439200748095403,
          -1.0267204109470645,
          0.38349537650441595,
          -1.1497933518235735,
          -0.8445124711883452,
          -0.7594739268795972,
          -1.7719633407278517,
          -2.1590350881054636,
          0.9294617972405119,
          1.3848360338470893,
          -1.5597587962972086,
          -0.8132609552334319,
          -2.2663887473870683,
          -0.9045213889452858,
          1.2117223032736193
         ],
         "yaxis": "y"
        },
        {
         "hovertemplate": "predicted_cluster=2<br>PC1=%{x}<br>PC2=%{y}<extra></extra>",
         "legendgroup": "2",
         "marker": {
          "color": "#ab63fa",
          "symbol": "circle"
         },
         "mode": "markers",
         "name": "2",
         "orientation": "v",
         "showlegend": true,
         "type": "scatter",
         "x": [
          -0.9241293166767997,
          3.197764287216347,
          -1.3903581614778489,
          -0.928397398846486,
          -0.4035293027382133,
          2.5141556238437173,
          -2.1729825143085217,
          2.374894194426437,
          -2.0354323660566402,
          0.13314435558529725,
          -0.496739468452389,
          -0.8905884653743378,
          -0.7505815755220475
         ],
         "xaxis": "x",
         "y": [
          2.3298910963357446,
          3.8369241095745243,
          5.612383998771734,
          1.8912954251816645,
          2.1322443205076675,
          4.806420970755568,
          6.1437900904606915,
          0.3581002178645885,
          1.7528927194938206,
          3.026214161527806,
          2.2655085526563012,
          0.5038907620503952,
          4.523553314733617
         ],
         "yaxis": "y"
        },
        {
         "hovertemplate": "predicted_cluster=4<br>PC1=%{x}<br>PC2=%{y}<extra></extra>",
         "legendgroup": "4",
         "marker": {
          "color": "#FFA15A",
          "symbol": "circle"
         },
         "mode": "markers",
         "name": "4",
         "orientation": "v",
         "showlegend": true,
         "type": "scatter",
         "x": [
          0.6863080329089667
         ],
         "xaxis": "x",
         "y": [
          4.227837743917875
         ],
         "yaxis": "y"
        }
       ],
       "layout": {
        "height": 500,
        "legend": {
         "title": {
          "text": "predicted_cluster"
         },
         "tracegroupgap": 0
        },
        "margin": {
         "t": 60
        },
        "template": {
         "data": {
          "bar": [
           {
            "error_x": {
             "color": "#2a3f5f"
            },
            "error_y": {
             "color": "#2a3f5f"
            },
            "marker": {
             "line": {
              "color": "#E5ECF6",
              "width": 0.5
             },
             "pattern": {
              "fillmode": "overlay",
              "size": 10,
              "solidity": 0.2
             }
            },
            "type": "bar"
           }
          ],
          "barpolar": [
           {
            "marker": {
             "line": {
              "color": "#E5ECF6",
              "width": 0.5
             },
             "pattern": {
              "fillmode": "overlay",
              "size": 10,
              "solidity": 0.2
             }
            },
            "type": "barpolar"
           }
          ],
          "carpet": [
           {
            "aaxis": {
             "endlinecolor": "#2a3f5f",
             "gridcolor": "white",
             "linecolor": "white",
             "minorgridcolor": "white",
             "startlinecolor": "#2a3f5f"
            },
            "baxis": {
             "endlinecolor": "#2a3f5f",
             "gridcolor": "white",
             "linecolor": "white",
             "minorgridcolor": "white",
             "startlinecolor": "#2a3f5f"
            },
            "type": "carpet"
           }
          ],
          "choropleth": [
           {
            "colorbar": {
             "outlinewidth": 0,
             "ticks": ""
            },
            "type": "choropleth"
           }
          ],
          "contour": [
           {
            "colorbar": {
             "outlinewidth": 0,
             "ticks": ""
            },
            "colorscale": [
             [
              0,
              "#0d0887"
             ],
             [
              0.1111111111111111,
              "#46039f"
             ],
             [
              0.2222222222222222,
              "#7201a8"
             ],
             [
              0.3333333333333333,
              "#9c179e"
             ],
             [
              0.4444444444444444,
              "#bd3786"
             ],
             [
              0.5555555555555556,
              "#d8576b"
             ],
             [
              0.6666666666666666,
              "#ed7953"
             ],
             [
              0.7777777777777778,
              "#fb9f3a"
             ],
             [
              0.8888888888888888,
              "#fdca26"
             ],
             [
              1,
              "#f0f921"
             ]
            ],
            "type": "contour"
           }
          ],
          "contourcarpet": [
           {
            "colorbar": {
             "outlinewidth": 0,
             "ticks": ""
            },
            "type": "contourcarpet"
           }
          ],
          "heatmap": [
           {
            "colorbar": {
             "outlinewidth": 0,
             "ticks": ""
            },
            "colorscale": [
             [
              0,
              "#0d0887"
             ],
             [
              0.1111111111111111,
              "#46039f"
             ],
             [
              0.2222222222222222,
              "#7201a8"
             ],
             [
              0.3333333333333333,
              "#9c179e"
             ],
             [
              0.4444444444444444,
              "#bd3786"
             ],
             [
              0.5555555555555556,
              "#d8576b"
             ],
             [
              0.6666666666666666,
              "#ed7953"
             ],
             [
              0.7777777777777778,
              "#fb9f3a"
             ],
             [
              0.8888888888888888,
              "#fdca26"
             ],
             [
              1,
              "#f0f921"
             ]
            ],
            "type": "heatmap"
           }
          ],
          "heatmapgl": [
           {
            "colorbar": {
             "outlinewidth": 0,
             "ticks": ""
            },
            "colorscale": [
             [
              0,
              "#0d0887"
             ],
             [
              0.1111111111111111,
              "#46039f"
             ],
             [
              0.2222222222222222,
              "#7201a8"
             ],
             [
              0.3333333333333333,
              "#9c179e"
             ],
             [
              0.4444444444444444,
              "#bd3786"
             ],
             [
              0.5555555555555556,
              "#d8576b"
             ],
             [
              0.6666666666666666,
              "#ed7953"
             ],
             [
              0.7777777777777778,
              "#fb9f3a"
             ],
             [
              0.8888888888888888,
              "#fdca26"
             ],
             [
              1,
              "#f0f921"
             ]
            ],
            "type": "heatmapgl"
           }
          ],
          "histogram": [
           {
            "marker": {
             "pattern": {
              "fillmode": "overlay",
              "size": 10,
              "solidity": 0.2
             }
            },
            "type": "histogram"
           }
          ],
          "histogram2d": [
           {
            "colorbar": {
             "outlinewidth": 0,
             "ticks": ""
            },
            "colorscale": [
             [
              0,
              "#0d0887"
             ],
             [
              0.1111111111111111,
              "#46039f"
             ],
             [
              0.2222222222222222,
              "#7201a8"
             ],
             [
              0.3333333333333333,
              "#9c179e"
             ],
             [
              0.4444444444444444,
              "#bd3786"
             ],
             [
              0.5555555555555556,
              "#d8576b"
             ],
             [
              0.6666666666666666,
              "#ed7953"
             ],
             [
              0.7777777777777778,
              "#fb9f3a"
             ],
             [
              0.8888888888888888,
              "#fdca26"
             ],
             [
              1,
              "#f0f921"
             ]
            ],
            "type": "histogram2d"
           }
          ],
          "histogram2dcontour": [
           {
            "colorbar": {
             "outlinewidth": 0,
             "ticks": ""
            },
            "colorscale": [
             [
              0,
              "#0d0887"
             ],
             [
              0.1111111111111111,
              "#46039f"
             ],
             [
              0.2222222222222222,
              "#7201a8"
             ],
             [
              0.3333333333333333,
              "#9c179e"
             ],
             [
              0.4444444444444444,
              "#bd3786"
             ],
             [
              0.5555555555555556,
              "#d8576b"
             ],
             [
              0.6666666666666666,
              "#ed7953"
             ],
             [
              0.7777777777777778,
              "#fb9f3a"
             ],
             [
              0.8888888888888888,
              "#fdca26"
             ],
             [
              1,
              "#f0f921"
             ]
            ],
            "type": "histogram2dcontour"
           }
          ],
          "mesh3d": [
           {
            "colorbar": {
             "outlinewidth": 0,
             "ticks": ""
            },
            "type": "mesh3d"
           }
          ],
          "parcoords": [
           {
            "line": {
             "colorbar": {
              "outlinewidth": 0,
              "ticks": ""
             }
            },
            "type": "parcoords"
           }
          ],
          "pie": [
           {
            "automargin": true,
            "type": "pie"
           }
          ],
          "scatter": [
           {
            "fillpattern": {
             "fillmode": "overlay",
             "size": 10,
             "solidity": 0.2
            },
            "type": "scatter"
           }
          ],
          "scatter3d": [
           {
            "line": {
             "colorbar": {
              "outlinewidth": 0,
              "ticks": ""
             }
            },
            "marker": {
             "colorbar": {
              "outlinewidth": 0,
              "ticks": ""
             }
            },
            "type": "scatter3d"
           }
          ],
          "scattercarpet": [
           {
            "marker": {
             "colorbar": {
              "outlinewidth": 0,
              "ticks": ""
             }
            },
            "type": "scattercarpet"
           }
          ],
          "scattergeo": [
           {
            "marker": {
             "colorbar": {
              "outlinewidth": 0,
              "ticks": ""
             }
            },
            "type": "scattergeo"
           }
          ],
          "scattergl": [
           {
            "marker": {
             "colorbar": {
              "outlinewidth": 0,
              "ticks": ""
             }
            },
            "type": "scattergl"
           }
          ],
          "scattermapbox": [
           {
            "marker": {
             "colorbar": {
              "outlinewidth": 0,
              "ticks": ""
             }
            },
            "type": "scattermapbox"
           }
          ],
          "scatterpolar": [
           {
            "marker": {
             "colorbar": {
              "outlinewidth": 0,
              "ticks": ""
             }
            },
            "type": "scatterpolar"
           }
          ],
          "scatterpolargl": [
           {
            "marker": {
             "colorbar": {
              "outlinewidth": 0,
              "ticks": ""
             }
            },
            "type": "scatterpolargl"
           }
          ],
          "scatterternary": [
           {
            "marker": {
             "colorbar": {
              "outlinewidth": 0,
              "ticks": ""
             }
            },
            "type": "scatterternary"
           }
          ],
          "surface": [
           {
            "colorbar": {
             "outlinewidth": 0,
             "ticks": ""
            },
            "colorscale": [
             [
              0,
              "#0d0887"
             ],
             [
              0.1111111111111111,
              "#46039f"
             ],
             [
              0.2222222222222222,
              "#7201a8"
             ],
             [
              0.3333333333333333,
              "#9c179e"
             ],
             [
              0.4444444444444444,
              "#bd3786"
             ],
             [
              0.5555555555555556,
              "#d8576b"
             ],
             [
              0.6666666666666666,
              "#ed7953"
             ],
             [
              0.7777777777777778,
              "#fb9f3a"
             ],
             [
              0.8888888888888888,
              "#fdca26"
             ],
             [
              1,
              "#f0f921"
             ]
            ],
            "type": "surface"
           }
          ],
          "table": [
           {
            "cells": {
             "fill": {
              "color": "#EBF0F8"
             },
             "line": {
              "color": "white"
             }
            },
            "header": {
             "fill": {
              "color": "#C8D4E3"
             },
             "line": {
              "color": "white"
             }
            },
            "type": "table"
           }
          ]
         },
         "layout": {
          "annotationdefaults": {
           "arrowcolor": "#2a3f5f",
           "arrowhead": 0,
           "arrowwidth": 1
          },
          "autotypenumbers": "strict",
          "coloraxis": {
           "colorbar": {
            "outlinewidth": 0,
            "ticks": ""
           }
          },
          "colorscale": {
           "diverging": [
            [
             0,
             "#8e0152"
            ],
            [
             0.1,
             "#c51b7d"
            ],
            [
             0.2,
             "#de77ae"
            ],
            [
             0.3,
             "#f1b6da"
            ],
            [
             0.4,
             "#fde0ef"
            ],
            [
             0.5,
             "#f7f7f7"
            ],
            [
             0.6,
             "#e6f5d0"
            ],
            [
             0.7,
             "#b8e186"
            ],
            [
             0.8,
             "#7fbc41"
            ],
            [
             0.9,
             "#4d9221"
            ],
            [
             1,
             "#276419"
            ]
           ],
           "sequential": [
            [
             0,
             "#0d0887"
            ],
            [
             0.1111111111111111,
             "#46039f"
            ],
            [
             0.2222222222222222,
             "#7201a8"
            ],
            [
             0.3333333333333333,
             "#9c179e"
            ],
            [
             0.4444444444444444,
             "#bd3786"
            ],
            [
             0.5555555555555556,
             "#d8576b"
            ],
            [
             0.6666666666666666,
             "#ed7953"
            ],
            [
             0.7777777777777778,
             "#fb9f3a"
            ],
            [
             0.8888888888888888,
             "#fdca26"
            ],
            [
             1,
             "#f0f921"
            ]
           ],
           "sequentialminus": [
            [
             0,
             "#0d0887"
            ],
            [
             0.1111111111111111,
             "#46039f"
            ],
            [
             0.2222222222222222,
             "#7201a8"
            ],
            [
             0.3333333333333333,
             "#9c179e"
            ],
            [
             0.4444444444444444,
             "#bd3786"
            ],
            [
             0.5555555555555556,
             "#d8576b"
            ],
            [
             0.6666666666666666,
             "#ed7953"
            ],
            [
             0.7777777777777778,
             "#fb9f3a"
            ],
            [
             0.8888888888888888,
             "#fdca26"
            ],
            [
             1,
             "#f0f921"
            ]
           ]
          },
          "colorway": [
           "#636efa",
           "#EF553B",
           "#00cc96",
           "#ab63fa",
           "#FFA15A",
           "#19d3f3",
           "#FF6692",
           "#B6E880",
           "#FF97FF",
           "#FECB52"
          ],
          "font": {
           "color": "#2a3f5f"
          },
          "geo": {
           "bgcolor": "white",
           "lakecolor": "white",
           "landcolor": "#E5ECF6",
           "showlakes": true,
           "showland": true,
           "subunitcolor": "white"
          },
          "hoverlabel": {
           "align": "left"
          },
          "hovermode": "closest",
          "mapbox": {
           "style": "light"
          },
          "paper_bgcolor": "white",
          "plot_bgcolor": "#E5ECF6",
          "polar": {
           "angularaxis": {
            "gridcolor": "white",
            "linecolor": "white",
            "ticks": ""
           },
           "bgcolor": "#E5ECF6",
           "radialaxis": {
            "gridcolor": "white",
            "linecolor": "white",
            "ticks": ""
           }
          },
          "scene": {
           "xaxis": {
            "backgroundcolor": "#E5ECF6",
            "gridcolor": "white",
            "gridwidth": 2,
            "linecolor": "white",
            "showbackground": true,
            "ticks": "",
            "zerolinecolor": "white"
           },
           "yaxis": {
            "backgroundcolor": "#E5ECF6",
            "gridcolor": "white",
            "gridwidth": 2,
            "linecolor": "white",
            "showbackground": true,
            "ticks": "",
            "zerolinecolor": "white"
           },
           "zaxis": {
            "backgroundcolor": "#E5ECF6",
            "gridcolor": "white",
            "gridwidth": 2,
            "linecolor": "white",
            "showbackground": true,
            "ticks": "",
            "zerolinecolor": "white"
           }
          },
          "shapedefaults": {
           "line": {
            "color": "#2a3f5f"
           }
          },
          "ternary": {
           "aaxis": {
            "gridcolor": "white",
            "linecolor": "white",
            "ticks": ""
           },
           "baxis": {
            "gridcolor": "white",
            "linecolor": "white",
            "ticks": ""
           },
           "bgcolor": "#E5ECF6",
           "caxis": {
            "gridcolor": "white",
            "linecolor": "white",
            "ticks": ""
           }
          },
          "title": {
           "x": 0.05
          },
          "xaxis": {
           "automargin": true,
           "gridcolor": "white",
           "linecolor": "white",
           "ticks": "",
           "title": {
            "standoff": 15
           },
           "zerolinecolor": "white",
           "zerolinewidth": 2
          },
          "yaxis": {
           "automargin": true,
           "gridcolor": "white",
           "linecolor": "white",
           "ticks": "",
           "title": {
            "standoff": 15
           },
           "zerolinecolor": "white",
           "zerolinewidth": 2
          }
         }
        },
        "width": 600,
        "xaxis": {
         "anchor": "y",
         "domain": [
          0,
          1
         ],
         "title": {
          "text": "PC1"
         }
        },
        "yaxis": {
         "anchor": "x",
         "domain": [
          0,
          1
         ],
         "title": {
          "text": "PC2"
         }
        }
       }
      }
     },
     "metadata": {},
     "output_type": "display_data"
    }
   ],
   "source": [
    "from sklearn.decomposition import PCA\n",
    "\n",
    "pca = PCA(n_components=2)\n",
    "df_pca = pd.DataFrame({\n",
    "    \"PC1\" : pca.fit_transform(fat_quantity_norm)[:, 0],\n",
    "    \"PC2\" : pca.fit_transform(fat_quantity_norm)[:, 1],\n",
    "    \"predicted_cluster\" : kmeans.predict(fat_quantity_norm).astype(str)})\n",
    "\n",
    "px.scatter(df_pca, \n",
    "           x='PC1',\n",
    "           y='PC2', \n",
    "           color=\"predicted_cluster\",\n",
    "           width=600,\n",
    "           height=500)"
   ]
  },
  {
   "cell_type": "code",
   "execution_count": 68,
   "metadata": {},
   "outputs": [
    {
     "data": {
      "image/png": "[encoded data removed]",
      "text/plain": [
       "<Figure size 640x480 with 1 Axes>"
      ]
     },
     "metadata": {},
     "output_type": "display_data"
    }
   ],
   "source": [
    "def myplot(score,coeff,labels=None, cluster_color =\"grey\"):\n",
    "    xs = score[:,0]\n",
    "    ys = score[:,1]\n",
    "    n = coeff.shape[0]\n",
    "    scalex = 1.0/(xs.max() - xs.min())\n",
    "    scaley = 1.0/(ys.max() - ys.min())\n",
    "    plt.scatter(xs * scalex,ys * scaley, c= cluster_color, s=3, cmap='cool')\n",
    "    for i in range(n):\n",
    "        plt.arrow(0, 0, coeff[i,0], coeff[i,1],color = 'black',alpha = 0.25)\n",
    "        if labels is None:\n",
    "            plt.text(x=coeff[i,0]* 1.15, y=coeff[i,1] * 1.15, s=\"Var\"+str(i+1), color = 'black', ha = 'center', va = 'center', fontsize=8)\n",
    "        else:\n",
    "            plt.text(coeff[i,0]* 1.15, coeff[i,1] * 1.15, labels[i], color = 'black', ha = 'center', va = 'center', fontsize=8)\n",
    "    plt.xlim(-1,1)\n",
    "    plt.ylim(-1,1)\n",
    "    plt.xlabel(\"PC{}\".format(1))\n",
    "    plt.ylabel(\"PC{}\".format(2))\n",
    "    plt.grid()\n",
    "\n",
    "#Call the function. Use only the 2 PCs.\n",
    "x_new = pca.fit_transform(fat_quantity_norm)\n",
    "cluster = kmeans.predict(fat_quantity_norm).astype(int)\n",
    "# cluster_color = cluster[cluster==0] = \n",
    "myplot(x_new[:,0:2], np.transpose(pca.components_[0:2, :]), cluster_color=cluster)\n",
    "plt.xlim(-0.75,0.75)\n",
    "plt.ylim(-0.75,0.75)\n",
    "plt.show()\n",
    "\n",
    "#\n",
    "#fat_quantity_clean.drop(columns=[\"Country\"]).columns.values"
   ]
  },
  {
   "cell_type": "code",
   "execution_count": 70,
   "metadata": {},
   "outputs": [
    {
     "data": {
      "text/html": [
       "<div>\n",
       "<style scoped>\n",
       "    .dataframe tbody tr th:only-of-type {\n",
       "        vertical-align: middle;\n",
       "    }\n",
       "\n",
       "    .dataframe tbody tr th {\n",
       "        vertical-align: top;\n",
       "    }\n",
       "\n",
       "    .dataframe thead th {\n",
       "        text-align: right;\n",
       "    }\n",
       "</style>\n",
       "<table border=\"1\" class=\"dataframe\">\n",
       "  <thead>\n",
       "    <tr style=\"text-align: right;\">\n",
       "      <th></th>\n",
       "      <th>Variables</th>\n",
       "    </tr>\n",
       "  </thead>\n",
       "  <tbody>\n",
       "    <tr>\n",
       "      <th>0</th>\n",
       "      <td>Alcoholic Beverages</td>\n",
       "    </tr>\n",
       "    <tr>\n",
       "      <th>1</th>\n",
       "      <td>Animal Products</td>\n",
       "    </tr>\n",
       "    <tr>\n",
       "      <th>2</th>\n",
       "      <td>Animal fats</td>\n",
       "    </tr>\n",
       "    <tr>\n",
       "      <th>3</th>\n",
       "      <td>Aquatic Products, Other</td>\n",
       "    </tr>\n",
       "    <tr>\n",
       "      <th>4</th>\n",
       "      <td>Cereals - Excluding Beer</td>\n",
       "    </tr>\n",
       "    <tr>\n",
       "      <th>5</th>\n",
       "      <td>Eggs</td>\n",
       "    </tr>\n",
       "    <tr>\n",
       "      <th>6</th>\n",
       "      <td>Fish, Seafood</td>\n",
       "    </tr>\n",
       "    <tr>\n",
       "      <th>7</th>\n",
       "      <td>Fruits - Excluding Wine</td>\n",
       "    </tr>\n",
       "    <tr>\n",
       "      <th>8</th>\n",
       "      <td>Meat</td>\n",
       "    </tr>\n",
       "    <tr>\n",
       "      <th>9</th>\n",
       "      <td>Miscellaneous</td>\n",
       "    </tr>\n",
       "    <tr>\n",
       "      <th>10</th>\n",
       "      <td>Milk - Excluding Butter</td>\n",
       "    </tr>\n",
       "    <tr>\n",
       "      <th>11</th>\n",
       "      <td>Offals</td>\n",
       "    </tr>\n",
       "    <tr>\n",
       "      <th>12</th>\n",
       "      <td>Oilcrops</td>\n",
       "    </tr>\n",
       "    <tr>\n",
       "      <th>13</th>\n",
       "      <td>Pulses</td>\n",
       "    </tr>\n",
       "    <tr>\n",
       "      <th>14</th>\n",
       "      <td>Spices</td>\n",
       "    </tr>\n",
       "    <tr>\n",
       "      <th>15</th>\n",
       "      <td>Starchy Roots</td>\n",
       "    </tr>\n",
       "    <tr>\n",
       "      <th>16</th>\n",
       "      <td>Stimulants</td>\n",
       "    </tr>\n",
       "    <tr>\n",
       "      <th>17</th>\n",
       "      <td>Sugar Crops</td>\n",
       "    </tr>\n",
       "    <tr>\n",
       "      <th>18</th>\n",
       "      <td>Sugar &amp; Sweeteners</td>\n",
       "    </tr>\n",
       "    <tr>\n",
       "      <th>19</th>\n",
       "      <td>Treenuts</td>\n",
       "    </tr>\n",
       "    <tr>\n",
       "      <th>20</th>\n",
       "      <td>Vegetal Products</td>\n",
       "    </tr>\n",
       "    <tr>\n",
       "      <th>21</th>\n",
       "      <td>Vegetable Oils</td>\n",
       "    </tr>\n",
       "    <tr>\n",
       "      <th>22</th>\n",
       "      <td>Vegetables</td>\n",
       "    </tr>\n",
       "    <tr>\n",
       "      <th>23</th>\n",
       "      <td>Obesity</td>\n",
       "    </tr>\n",
       "    <tr>\n",
       "      <th>24</th>\n",
       "      <td>Confirmed</td>\n",
       "    </tr>\n",
       "    <tr>\n",
       "      <th>25</th>\n",
       "      <td>Deaths</td>\n",
       "    </tr>\n",
       "    <tr>\n",
       "      <th>26</th>\n",
       "      <td>Recovered</td>\n",
       "    </tr>\n",
       "    <tr>\n",
       "      <th>27</th>\n",
       "      <td>Active</td>\n",
       "    </tr>\n",
       "    <tr>\n",
       "      <th>28</th>\n",
       "      <td>Population</td>\n",
       "    </tr>\n",
       "    <tr>\n",
       "      <th>29</th>\n",
       "      <td>Undernourished_0-10</td>\n",
       "    </tr>\n",
       "    <tr>\n",
       "      <th>30</th>\n",
       "      <td>Undernourished_11-20</td>\n",
       "    </tr>\n",
       "    <tr>\n",
       "      <th>31</th>\n",
       "      <td>Undernourished_21-30</td>\n",
       "    </tr>\n",
       "    <tr>\n",
       "      <th>32</th>\n",
       "      <td>Undernourished_31-40</td>\n",
       "    </tr>\n",
       "    <tr>\n",
       "      <th>33</th>\n",
       "      <td>Undernourished_41-50</td>\n",
       "    </tr>\n",
       "    <tr>\n",
       "      <th>34</th>\n",
       "      <td>Undernourished_51-60</td>\n",
       "    </tr>\n",
       "  </tbody>\n",
       "</table>\n",
       "</div>"
      ],
      "text/plain": [
       "                   Variables\n",
       "0        Alcoholic Beverages\n",
       "1            Animal Products\n",
       "2                Animal fats\n",
       "3    Aquatic Products, Other\n",
       "4   Cereals - Excluding Beer\n",
       "5                       Eggs\n",
       "6              Fish, Seafood\n",
       "7    Fruits - Excluding Wine\n",
       "8                       Meat\n",
       "9              Miscellaneous\n",
       "10   Milk - Excluding Butter\n",
       "11                    Offals\n",
       "12                  Oilcrops\n",
       "13                    Pulses\n",
       "14                    Spices\n",
       "15             Starchy Roots\n",
       "16                Stimulants\n",
       "17               Sugar Crops\n",
       "18        Sugar & Sweeteners\n",
       "19                  Treenuts\n",
       "20          Vegetal Products\n",
       "21            Vegetable Oils\n",
       "22                Vegetables\n",
       "23                   Obesity\n",
       "24                 Confirmed\n",
       "25                    Deaths\n",
       "26                 Recovered\n",
       "27                    Active\n",
       "28                Population\n",
       "29       Undernourished_0-10\n",
       "30      Undernourished_11-20\n",
       "31      Undernourished_21-30\n",
       "32      Undernourished_31-40\n",
       "33      Undernourished_41-50\n",
       "34      Undernourished_51-60"
      ]
     },
     "execution_count": 70,
     "metadata": {},
     "output_type": "execute_result"
    }
   ],
   "source": [
    "pd.DataFrame({\n",
    "    \"Variables\" : fat_quantity_clean.drop(columns=[\"Country\"]).columns.values})\n"
   ]
  },
  {
   "cell_type": "code",
   "execution_count": 59,
   "metadata": {},
   "outputs": [
    {
     "name": "stdout",
     "output_type": "stream",
     "text": [
      "With distorsion :\n",
      "1 : 5.502893746441536\n",
      "2 : 4.929255640350798\n",
      "3 : 4.738582760098148\n",
      "4 : 4.641862161263532\n",
      "5 : 4.5948189775286385\n",
      "6 : 4.425710439071513\n",
      "7 : 4.299012931960566\n",
      "8 : 4.182874883970028\n",
      "9 : 4.151429566755363\n"
     ]
    },
    {
     "data": {
      "image/png": "[encoded data removed]",
      "text/plain": [
       "<Figure size 640x480 with 1 Axes>"
      ]
     },
     "metadata": {},
     "output_type": "display_data"
    },
    {
     "name": "stdout",
     "output_type": "stream",
     "text": [
      "With inertia : \n",
      "1 : 5389.999999999999\n",
      "2 : 4453.507081377336\n",
      "3 : 4183.628912463937\n",
      "4 : 3993.418400518942\n",
      "5 : 3810.8599496454112\n",
      "6 : 3668.023273796847\n",
      "7 : 3481.2992616969227\n",
      "8 : 3243.119337026822\n",
      "9 : 3170.1706996453604\n"
     ]
    },
    {
     "data": {
      "image/png": "[encoded data removed]",
      "text/plain": [
       "<Figure size 640x480 with 1 Axes>"
      ]
     },
     "metadata": {},
     "output_type": "display_data"
    }
   ],
   "source": [
    "from sklearn.cluster import KMeans\n",
    "from sklearn import metrics\n",
    "from scipy.spatial.distance import cdist\n",
    "import numpy as np\n",
    "import matplotlib.pyplot as plt\n",
    "\n",
    "\n",
    "distortions = []\n",
    "inertias = []\n",
    "mapping1 = {}\n",
    "mapping2 = {}\n",
    "K = range(1, 10)\n",
    "\n",
    "X=fat_quantity_norm\n",
    "\n",
    "for k in K:\n",
    "    # Building and fitting the model\n",
    "    kmeanModel = KMeans(n_clusters=k, n_init=10, random_state=42).fit(X)\n",
    "    kmeanModel.fit(X)\n",
    " \n",
    "    distortions.append(sum(np.min(cdist(X, kmeanModel.cluster_centers_,\n",
    "                                        'euclidean'), axis=1)) / X.shape[0])\n",
    "    inertias.append(kmeanModel.inertia_)\n",
    " \n",
    "    mapping1[k] = sum(np.min(cdist(X, kmeanModel.cluster_centers_,\n",
    "                                   'euclidean'), axis=1)) / X.shape[0]\n",
    "    mapping2[k] = kmeanModel.inertia_\n",
    "\n",
    "\n",
    "print(\"With distorsion :\")\n",
    "for key, val in mapping1.items():\n",
    "    print(f'{key} : {val}')\n",
    "\n",
    "\n",
    "\n",
    "plt.plot(K, distortions, 'bx-')\n",
    "plt.xlabel('Values of K')\n",
    "plt.ylabel('Distortion')\n",
    "plt.title('The Elbow Method using Distortion')\n",
    "plt.show()\n",
    "\n",
    "\n",
    "\n",
    "print('With inertia : ')\n",
    "for key, val in mapping2.items():\n",
    "    print(f'{key} : {val}')\n",
    "\n",
    "\n",
    "\n",
    "\n",
    "plt.plot(K, inertias, 'bx-')\n",
    "plt.xlabel('Values of K')\n",
    "plt.ylabel('Inertia')\n",
    "plt.title('The Elbow Method using Inertia')\n",
    "plt.show()\n"
   ]
  },
  {
   "attachments": {},
   "cell_type": "markdown",
   "metadata": {},
   "source": [
    "## Other clustering methods"
   ]
  },
  {
   "attachments": {},
   "cell_type": "markdown",
   "metadata": {},
   "source": [
    "We are going to explore other clustering methods, such as Mean-Shift.\n",
    "\n",
    "You can read more about it in the next ressource:\n",
    "https://scikit-learn.org/stable/modules/clustering.html\n"
   ]
  },
  {
   "attachments": {},
   "cell_type": "markdown",
   "metadata": {},
   "source": [
    "Apply the method to our datasets made of 2 variables (\"Obesity\" vs \"Deaths\")"
   ]
  },
  {
   "cell_type": "code",
   "execution_count": 84,
   "metadata": {},
   "outputs": [
    {
     "data": {
      "application/vnd.plotly.v1+json": {
       "config": {
        "plotlyServerURL": "https://plot.ly"
       },
       "data": [
        {
         "hovertemplate": "cluster=0<br>axe_x=%{x}<br>axe_y=%{y}<extra></extra>",
         "legendgroup": "0",
         "marker": {
          "color": "#636efa",
          "symbol": "circle"
         },
         "mode": "markers",
         "name": "0",
         "orientation": "v",
         "showlegend": true,
         "type": "scatter",
         "x": [
          4.5,
          6.8,
          3.4,
          8.2,
          16.1,
          4.5,
          10.6,
          3.5,
          9.5,
          6.3,
          4.8,
          6.6,
          8.4,
          9,
          12.2,
          13.5,
          3.6,
          13.4,
          8.7,
          9.7,
          6.6,
          8.2,
          3.8,
          6.9,
          4.4,
          6,
          4.9,
          15.4,
          4.5,
          13.5,
          8.6,
          4.5,
          4.7,
          15.3,
          7.9,
          7.1,
          11.3,
          11.5,
          6,
          15,
          3.8,
          4.7,
          7.8,
          7.8,
          6,
          4.8,
          10.6,
          7.4,
          7.5,
          5.4,
          7.4,
          10.8,
          2.9,
          7.1,
          4.1,
          7.1,
          15.3,
          2.1,
          14.1,
          6.5,
          12.3
         ],
         "xaxis": "x",
         "y": [
          0.0050580558980682,
          0.0011438410921837,
          0.0041746903874352,
          0.0003603898763207,
          0.0016400517911091,
          0.0003396641630387,
          0.0197841726618705,
          0,
          0.0016655387623129,
          0.0013043478260869,
          0.0006043728150737,
          0.0003389939282008,
          0.0082638637187386,
          0.0005081184336198,
          0.0061740890688259,
          0.0117753623188406,
          0.0015741933238191,
          0.0028238458090542,
          0.0050889532478278,
          0.00105236057027,
          0.0006369426751592,
          0.0022833419823559,
          0.0102641954146132,
          0.0069758113483894,
          0.0020084625338382,
          0.0029760125541772,
          0.001158726173693,
          0.0198968759478314,
          0,
          0.0020541549953314,
          0.0016409648082245,
          0.0009353219457585,
          0.000977522216414,
          0.0012781794332082,
          0.0088724584103512,
          0.0009925435780949,
          0.0049032258064516,
          0.000790513833992,
          0.0004588333440287,
          0.0064147973238882,
          0.0057207627683691,
          0.0003389970647815,
          0.0005806733288056,
          0.0040305060197338,
          0.0079913488652229,
          0.0004323656578134,
          0.008095238095238,
          0.0020903010033444,
          0.0009402030838661,
          0.0007020103022291,
          0.00309015028849,
          0.0000901794571196681,
          0,
          0.0007971977291943,
          0.0004897138234844,
          0.0000351558576355175,
          0.001790835137824,
          0.0000363791329293517,
          0.0020317843492255,
          0.0019963011314186,
          0.0020789880912332
         ],
         "yaxis": "y"
        },
        {
         "hovertemplate": "cluster=1<br>axe_x=%{x}<br>axe_y=%{y}<extra></extra>",
         "legendgroup": "1",
         "marker": {
          "color": "#EF553B",
          "symbol": "circle"
         },
         "mode": "markers",
         "name": "1",
         "orientation": "v",
         "showlegend": true,
         "type": "scatter",
         "x": [
          22.3,
          26.6,
          30.4,
          19.9,
          24.8,
          26.6,
          25.7,
          26.7,
          22.6,
          21.3,
          28.2,
          26.9,
          31.1,
          22.7,
          23.8,
          30,
          24.9,
          25.7,
          27.4,
          18.8,
          19.2,
          20.5,
          19.4,
          23.1,
          27.4,
          26.7,
          24.4,
          33.4,
          21.3,
          25.7,
          31.3,
          28.4,
          31,
          19.6,
          25.6,
          32,
          21.8,
          25,
          22.9,
          19,
          25.7,
          23.8,
          35,
          23.5,
          22.4,
          20.5,
          27,
          26.5,
          19.7,
          27.3,
          32.2,
          26.1,
          29.9,
          28.9,
          23.5,
          25.2
         ],
         "xaxis": "x",
         "y": [
          0.035799859055673,
          0.0058818224857407,
          0.0035256659159742,
          0.0194499406410764,
          0.0024390243902439,
          0.0135786666666667,
          0.0378790843279202,
          0.0012144313447389,
          0.0067937033968517,
          0.0162978212386344,
          0,
          0.0225142857142857,
          0.0068876918345684,
          0.0185928097515815,
          0.0115702479338843,
          0.0002232142857142,
          0.0083378549466449,
          0.027171668667467,
          0.0344579439252336,
          0.0246042289383372,
          0.0198221092757306,
          0.0020520915548539,
          0.0303021086780211,
          0.0076086956521739,
          0.031725613593455,
          0.0325954861111111,
          0.0097187611249555,
          0.0319037363048975,
          0.013634422378817,
          0.0185068349106204,
          0.0177289377289377,
          0.0295275590551181,
          0.0333333333333333,
          0,
          0.0185219181130396,
          0.0005013033888109,
          0.0024560339599757,
          0.0072953406348617,
          0.0312327604498196,
          0.0271674707098553,
          0.0319260152794532,
          0,
          0.017291173197112,
          0.0342101480523214,
          0.0220615159282314,
          0,
          0.0393288388005635,
          0.0193388429752066,
          0.0089846603360116,
          0.03273369199731,
          0.0198789065765432,
          0.0377997989372397,
          0.0063203109020249,
          0.002690455961484,
          0,
          0.0033513702216791
         ],
         "yaxis": "y"
        },
        {
         "hovertemplate": "cluster=2<br>axe_x=%{x}<br>axe_y=%{y}<extra></extra>",
         "legendgroup": "2",
         "marker": {
          "color": "#00cc96",
          "symbol": "circle"
         },
         "mode": "markers",
         "name": "2",
         "orientation": "v",
         "showlegend": true,
         "type": "scatter",
         "x": [
          28.5,
          20.9,
          21.9,
          22.4,
          18.7,
          19.4,
          22.3,
          27.4,
          22.1,
          27.1,
          28.5,
          19.3,
          23.2,
          23.3,
          28.6,
          25.5,
          26.9,
          22.9,
          24.2,
          28.4,
          24.9,
          23.1,
          23.9,
          22.5,
          25.6,
          23.2,
          24.5,
          22.5,
          27.1,
          22.1,
          21.2,
          29.5,
          37.3
         ],
         "xaxis": "x",
         "y": [
          0.0904444983141239,
          0.0846752368064953,
          0.0508189365043751,
          0.0470167064439141,
          0.077572423278604,
          0.103352636391344,
          0.0858473552017827,
          0.0842789086184495,
          0.0792714990696546,
          0.0672885572139303,
          0.0896696528555431,
          0.0792359088572897,
          0.0899153064367108,
          0.0495020188425303,
          0.073000921470257,
          0.0623256090314914,
          0.0424945032980212,
          0.107819755871036,
          0.064873417721519,
          0.0894406535620383,
          0.0940514469453376,
          0.0582126295299708,
          0.103221153846154,
          0.0789633434508522,
          0.0598415346121768,
          0.0550853242320819,
          0.0701314900472948,
          0.100190204469805,
          0.100793534166054,
          0.0724101378047605,
          0.0712763493166551,
          0.096039309112567,
          0.0910879173512632
         ],
         "yaxis": "y"
        },
        {
         "hovertemplate": "cluster=4<br>axe_x=%{x}<br>axe_y=%{y}<extra></extra>",
         "legendgroup": "4",
         "marker": {
          "color": "#ab63fa",
          "symbol": "circle"
         },
         "mode": "markers",
         "name": "4",
         "orientation": "v",
         "showlegend": true,
         "type": "scatter",
         "x": [
          24.5,
          19.1
         ],
         "xaxis": "x",
         "y": [
          0.156786799826313,
          0.111738362174019
         ],
         "yaxis": "y"
        },
        {
         "hovertemplate": "cluster=3<br>axe_x=%{x}<br>axe_y=%{y}<extra></extra>",
         "legendgroup": "3",
         "marker": {
          "color": "#FFA15A",
          "symbol": "circle"
         },
         "mode": "markers",
         "name": "3",
         "orientation": "v",
         "showlegend": true,
         "type": "scatter",
         "x": [
          37,
          45.5
         ],
         "xaxis": "x",
         "y": [
          0.0194414836921765,
          0
         ],
         "yaxis": "y"
        }
       ],
       "layout": {
        "height": 500,
        "legend": {
         "title": {
          "text": "cluster"
         },
         "tracegroupgap": 0
        },
        "margin": {
         "t": 60
        },
        "template": {
         "data": {
          "bar": [
           {
            "error_x": {
             "color": "#2a3f5f"
            },
            "error_y": {
             "color": "#2a3f5f"
            },
            "marker": {
             "line": {
              "color": "#E5ECF6",
              "width": 0.5
             },
             "pattern": {
              "fillmode": "overlay",
              "size": 10,
              "solidity": 0.2
             }
            },
            "type": "bar"
           }
          ],
          "barpolar": [
           {
            "marker": {
             "line": {
              "color": "#E5ECF6",
              "width": 0.5
             },
             "pattern": {
              "fillmode": "overlay",
              "size": 10,
              "solidity": 0.2
             }
            },
            "type": "barpolar"
           }
          ],
          "carpet": [
           {
            "aaxis": {
             "endlinecolor": "#2a3f5f",
             "gridcolor": "white",
             "linecolor": "white",
             "minorgridcolor": "white",
             "startlinecolor": "#2a3f5f"
            },
            "baxis": {
             "endlinecolor": "#2a3f5f",
             "gridcolor": "white",
             "linecolor": "white",
             "minorgridcolor": "white",
             "startlinecolor": "#2a3f5f"
            },
            "type": "carpet"
           }
          ],
          "choropleth": [
           {
            "colorbar": {
             "outlinewidth": 0,
             "ticks": ""
            },
            "type": "choropleth"
           }
          ],
          "contour": [
           {
            "colorbar": {
             "outlinewidth": 0,
             "ticks": ""
            },
            "colorscale": [
             [
              0,
              "#0d0887"
             ],
             [
              0.1111111111111111,
              "#46039f"
             ],
             [
              0.2222222222222222,
              "#7201a8"
             ],
             [
              0.3333333333333333,
              "#9c179e"
             ],
             [
              0.4444444444444444,
              "#bd3786"
             ],
             [
              0.5555555555555556,
              "#d8576b"
             ],
             [
              0.6666666666666666,
              "#ed7953"
             ],
             [
              0.7777777777777778,
              "#fb9f3a"
             ],
             [
              0.8888888888888888,
              "#fdca26"
             ],
             [
              1,
              "#f0f921"
             ]
            ],
            "type": "contour"
           }
          ],
          "contourcarpet": [
           {
            "colorbar": {
             "outlinewidth": 0,
             "ticks": ""
            },
            "type": "contourcarpet"
           }
          ],
          "heatmap": [
           {
            "colorbar": {
             "outlinewidth": 0,
             "ticks": ""
            },
            "colorscale": [
             [
              0,
              "#0d0887"
             ],
             [
              0.1111111111111111,
              "#46039f"
             ],
             [
              0.2222222222222222,
              "#7201a8"
             ],
             [
              0.3333333333333333,
              "#9c179e"
             ],
             [
              0.4444444444444444,
              "#bd3786"
             ],
             [
              0.5555555555555556,
              "#d8576b"
             ],
             [
              0.6666666666666666,
              "#ed7953"
             ],
             [
              0.7777777777777778,
              "#fb9f3a"
             ],
             [
              0.8888888888888888,
              "#fdca26"
             ],
             [
              1,
              "#f0f921"
             ]
            ],
            "type": "heatmap"
           }
          ],
          "heatmapgl": [
           {
            "colorbar": {
             "outlinewidth": 0,
             "ticks": ""
            },
            "colorscale": [
             [
              0,
              "#0d0887"
             ],
             [
              0.1111111111111111,
              "#46039f"
             ],
             [
              0.2222222222222222,
              "#7201a8"
             ],
             [
              0.3333333333333333,
              "#9c179e"
             ],
             [
              0.4444444444444444,
              "#bd3786"
             ],
             [
              0.5555555555555556,
              "#d8576b"
             ],
             [
              0.6666666666666666,
              "#ed7953"
             ],
             [
              0.7777777777777778,
              "#fb9f3a"
             ],
             [
              0.8888888888888888,
              "#fdca26"
             ],
             [
              1,
              "#f0f921"
             ]
            ],
            "type": "heatmapgl"
           }
          ],
          "histogram": [
           {
            "marker": {
             "pattern": {
              "fillmode": "overlay",
              "size": 10,
              "solidity": 0.2
             }
            },
            "type": "histogram"
           }
          ],
          "histogram2d": [
           {
            "colorbar": {
             "outlinewidth": 0,
             "ticks": ""
            },
            "colorscale": [
             [
              0,
              "#0d0887"
             ],
             [
              0.1111111111111111,
              "#46039f"
             ],
             [
              0.2222222222222222,
              "#7201a8"
             ],
             [
              0.3333333333333333,
              "#9c179e"
             ],
             [
              0.4444444444444444,
              "#bd3786"
             ],
             [
              0.5555555555555556,
              "#d8576b"
             ],
             [
              0.6666666666666666,
              "#ed7953"
             ],
             [
              0.7777777777777778,
              "#fb9f3a"
             ],
             [
              0.8888888888888888,
              "#fdca26"
             ],
             [
              1,
              "#f0f921"
             ]
            ],
            "type": "histogram2d"
           }
          ],
          "histogram2dcontour": [
           {
            "colorbar": {
             "outlinewidth": 0,
             "ticks": ""
            },
            "colorscale": [
             [
              0,
              "#0d0887"
             ],
             [
              0.1111111111111111,
              "#46039f"
             ],
             [
              0.2222222222222222,
              "#7201a8"
             ],
             [
              0.3333333333333333,
              "#9c179e"
             ],
             [
              0.4444444444444444,
              "#bd3786"
             ],
             [
              0.5555555555555556,
              "#d8576b"
             ],
             [
              0.6666666666666666,
              "#ed7953"
             ],
             [
              0.7777777777777778,
              "#fb9f3a"
             ],
             [
              0.8888888888888888,
              "#fdca26"
             ],
             [
              1,
              "#f0f921"
             ]
            ],
            "type": "histogram2dcontour"
           }
          ],
          "mesh3d": [
           {
            "colorbar": {
             "outlinewidth": 0,
             "ticks": ""
            },
            "type": "mesh3d"
           }
          ],
          "parcoords": [
           {
            "line": {
             "colorbar": {
              "outlinewidth": 0,
              "ticks": ""
             }
            },
            "type": "parcoords"
           }
          ],
          "pie": [
           {
            "automargin": true,
            "type": "pie"
           }
          ],
          "scatter": [
           {
            "fillpattern": {
             "fillmode": "overlay",
             "size": 10,
             "solidity": 0.2
            },
            "type": "scatter"
           }
          ],
          "scatter3d": [
           {
            "line": {
             "colorbar": {
              "outlinewidth": 0,
              "ticks": ""
             }
            },
            "marker": {
             "colorbar": {
              "outlinewidth": 0,
              "ticks": ""
             }
            },
            "type": "scatter3d"
           }
          ],
          "scattercarpet": [
           {
            "marker": {
             "colorbar": {
              "outlinewidth": 0,
              "ticks": ""
             }
            },
            "type": "scattercarpet"
           }
          ],
          "scattergeo": [
           {
            "marker": {
             "colorbar": {
              "outlinewidth": 0,
              "ticks": ""
             }
            },
            "type": "scattergeo"
           }
          ],
          "scattergl": [
           {
            "marker": {
             "colorbar": {
              "outlinewidth": 0,
              "ticks": ""
             }
            },
            "type": "scattergl"
           }
          ],
          "scattermapbox": [
           {
            "marker": {
             "colorbar": {
              "outlinewidth": 0,
              "ticks": ""
             }
            },
            "type": "scattermapbox"
           }
          ],
          "scatterpolar": [
           {
            "marker": {
             "colorbar": {
              "outlinewidth": 0,
              "ticks": ""
             }
            },
            "type": "scatterpolar"
           }
          ],
          "scatterpolargl": [
           {
            "marker": {
             "colorbar": {
              "outlinewidth": 0,
              "ticks": ""
             }
            },
            "type": "scatterpolargl"
           }
          ],
          "scatterternary": [
           {
            "marker": {
             "colorbar": {
              "outlinewidth": 0,
              "ticks": ""
             }
            },
            "type": "scatterternary"
           }
          ],
          "surface": [
           {
            "colorbar": {
             "outlinewidth": 0,
             "ticks": ""
            },
            "colorscale": [
             [
              0,
              "#0d0887"
             ],
             [
              0.1111111111111111,
              "#46039f"
             ],
             [
              0.2222222222222222,
              "#7201a8"
             ],
             [
              0.3333333333333333,
              "#9c179e"
             ],
             [
              0.4444444444444444,
              "#bd3786"
             ],
             [
              0.5555555555555556,
              "#d8576b"
             ],
             [
              0.6666666666666666,
              "#ed7953"
             ],
             [
              0.7777777777777778,
              "#fb9f3a"
             ],
             [
              0.8888888888888888,
              "#fdca26"
             ],
             [
              1,
              "#f0f921"
             ]
            ],
            "type": "surface"
           }
          ],
          "table": [
           {
            "cells": {
             "fill": {
              "color": "#EBF0F8"
             },
             "line": {
              "color": "white"
             }
            },
            "header": {
             "fill": {
              "color": "#C8D4E3"
             },
             "line": {
              "color": "white"
             }
            },
            "type": "table"
           }
          ]
         },
         "layout": {
          "annotationdefaults": {
           "arrowcolor": "#2a3f5f",
           "arrowhead": 0,
           "arrowwidth": 1
          },
          "autotypenumbers": "strict",
          "coloraxis": {
           "colorbar": {
            "outlinewidth": 0,
            "ticks": ""
           }
          },
          "colorscale": {
           "diverging": [
            [
             0,
             "#8e0152"
            ],
            [
             0.1,
             "#c51b7d"
            ],
            [
             0.2,
             "#de77ae"
            ],
            [
             0.3,
             "#f1b6da"
            ],
            [
             0.4,
             "#fde0ef"
            ],
            [
             0.5,
             "#f7f7f7"
            ],
            [
             0.6,
             "#e6f5d0"
            ],
            [
             0.7,
             "#b8e186"
            ],
            [
             0.8,
             "#7fbc41"
            ],
            [
             0.9,
             "#4d9221"
            ],
            [
             1,
             "#276419"
            ]
           ],
           "sequential": [
            [
             0,
             "#0d0887"
            ],
            [
             0.1111111111111111,
             "#46039f"
            ],
            [
             0.2222222222222222,
             "#7201a8"
            ],
            [
             0.3333333333333333,
             "#9c179e"
            ],
            [
             0.4444444444444444,
             "#bd3786"
            ],
            [
             0.5555555555555556,
             "#d8576b"
            ],
            [
             0.6666666666666666,
             "#ed7953"
            ],
            [
             0.7777777777777778,
             "#fb9f3a"
            ],
            [
             0.8888888888888888,
             "#fdca26"
            ],
            [
             1,
             "#f0f921"
            ]
           ],
           "sequentialminus": [
            [
             0,
             "#0d0887"
            ],
            [
             0.1111111111111111,
             "#46039f"
            ],
            [
             0.2222222222222222,
             "#7201a8"
            ],
            [
             0.3333333333333333,
             "#9c179e"
            ],
            [
             0.4444444444444444,
             "#bd3786"
            ],
            [
             0.5555555555555556,
             "#d8576b"
            ],
            [
             0.6666666666666666,
             "#ed7953"
            ],
            [
             0.7777777777777778,
             "#fb9f3a"
            ],
            [
             0.8888888888888888,
             "#fdca26"
            ],
            [
             1,
             "#f0f921"
            ]
           ]
          },
          "colorway": [
           "#636efa",
           "#EF553B",
           "#00cc96",
           "#ab63fa",
           "#FFA15A",
           "#19d3f3",
           "#FF6692",
           "#B6E880",
           "#FF97FF",
           "#FECB52"
          ],
          "font": {
           "color": "#2a3f5f"
          },
          "geo": {
           "bgcolor": "white",
           "lakecolor": "white",
           "landcolor": "#E5ECF6",
           "showlakes": true,
           "showland": true,
           "subunitcolor": "white"
          },
          "hoverlabel": {
           "align": "left"
          },
          "hovermode": "closest",
          "mapbox": {
           "style": "light"
          },
          "paper_bgcolor": "white",
          "plot_bgcolor": "#E5ECF6",
          "polar": {
           "angularaxis": {
            "gridcolor": "white",
            "linecolor": "white",
            "ticks": ""
           },
           "bgcolor": "#E5ECF6",
           "radialaxis": {
            "gridcolor": "white",
            "linecolor": "white",
            "ticks": ""
           }
          },
          "scene": {
           "xaxis": {
            "backgroundcolor": "#E5ECF6",
            "gridcolor": "white",
            "gridwidth": 2,
            "linecolor": "white",
            "showbackground": true,
            "ticks": "",
            "zerolinecolor": "white"
           },
           "yaxis": {
            "backgroundcolor": "#E5ECF6",
            "gridcolor": "white",
            "gridwidth": 2,
            "linecolor": "white",
            "showbackground": true,
            "ticks": "",
            "zerolinecolor": "white"
           },
           "zaxis": {
            "backgroundcolor": "#E5ECF6",
            "gridcolor": "white",
            "gridwidth": 2,
            "linecolor": "white",
            "showbackground": true,
            "ticks": "",
            "zerolinecolor": "white"
           }
          },
          "shapedefaults": {
           "line": {
            "color": "#2a3f5f"
           }
          },
          "ternary": {
           "aaxis": {
            "gridcolor": "white",
            "linecolor": "white",
            "ticks": ""
           },
           "baxis": {
            "gridcolor": "white",
            "linecolor": "white",
            "ticks": ""
           },
           "bgcolor": "#E5ECF6",
           "caxis": {
            "gridcolor": "white",
            "linecolor": "white",
            "ticks": ""
           }
          },
          "title": {
           "x": 0.05
          },
          "xaxis": {
           "automargin": true,
           "gridcolor": "white",
           "linecolor": "white",
           "ticks": "",
           "title": {
            "standoff": 15
           },
           "zerolinecolor": "white",
           "zerolinewidth": 2
          },
          "yaxis": {
           "automargin": true,
           "gridcolor": "white",
           "linecolor": "white",
           "ticks": "",
           "title": {
            "standoff": 15
           },
           "zerolinecolor": "white",
           "zerolinewidth": 2
          }
         }
        },
        "width": 600,
        "xaxis": {
         "anchor": "y",
         "domain": [
          0,
          1
         ],
         "title": {
          "text": "axe_x"
         }
        },
        "yaxis": {
         "anchor": "x",
         "domain": [
          0,
          1
         ],
         "title": {
          "text": "axe_y"
         }
        }
       }
      }
     },
     "metadata": {},
     "output_type": "display_data"
    }
   ],
   "source": [
    "# Mean-Shift\n",
    "from sklearn.cluster import MeanShift, estimate_bandwidth\n",
    "\n",
    "\n",
    "X  = fat_quantity_clean.loc[:, ['Obesity', 'Deaths']]\n",
    "X_norm = scaler.fit_transform(X)\n",
    "\n",
    "meanshift = MeanShift(bandwidth=1.001)\n",
    "meanshift.fit_predict(X_norm)\n",
    "\n",
    "df = pd.DataFrame(\n",
    "    {\n",
    "        'axe_x' : X['Obesity'],\n",
    "        'axe_y' : X['Deaths'],\n",
    "        'cluster' : meanshift.fit_predict(X_norm).astype(str)\n",
    "    }\n",
    ")\n",
    "\n",
    "px.scatter(df, \n",
    "           x='axe_x',\n",
    "           y='axe_y', \n",
    "           color=\"cluster\",\n",
    "           width=600,\n",
    "           height=500)"
   ]
  },
  {
   "cell_type": "code",
   "execution_count": 82,
   "metadata": {},
   "outputs": [
    {
     "data": {
      "text/plain": [
       "array([0, 1, 1, 0, 2, 2, 1, 2, 1, 0, 1, 1, 4, 2, 0, 2, 2, 0, 2, 2, 0, 0,\n",
       "       0, 0, 0, 0, 0, 2, 0, 1, 0, 2, 1, 1, 2, 1, 0, 1, 1, 2, 1, 1, 1, 0,\n",
       "       0, 1, 1, 2, 0, 0, 2, 1, 0, 1, 1, 0, 0, 1, 1, 1, 2, 1, 0, 0, 2, 1,\n",
       "       2, 1, 2, 1, 0, 1, 1, 0, 0, 3, 0, 0, 1, 1, 0, 0, 1, 2, 0, 0, 0, 0,\n",
       "       0, 1, 0, 0, 2, 1, 2, 1, 0, 0, 0, 2, 1, 1, 0, 0, 2, 1, 1, 0, 2, 1,\n",
       "       4, 0, 2, 2, 2, 1, 0, 1, 3, 0, 1, 0, 1, 0, 1, 2, 1, 1, 2, 0, 0, 1,\n",
       "       2, 2, 0, 0, 0, 1, 1, 1, 0, 1, 1, 2, 0, 2, 1, 0, 1, 1, 0, 0, 0, 0])"
      ]
     },
     "execution_count": 82,
     "metadata": {},
     "output_type": "execute_result"
    }
   ],
   "source": [
    "meanshift.fit_predict(X_norm)"
   ]
  },
  {
   "cell_type": "code",
   "execution_count": 83,
   "metadata": {},
   "outputs": [
    {
     "data": {
      "text/plain": [
       "1.001096409626414"
      ]
     },
     "execution_count": 83,
     "metadata": {},
     "output_type": "execute_result"
    }
   ],
   "source": [
    "estimate_bandwidth(X_norm)"
   ]
  },
  {
   "attachments": {},
   "cell_type": "markdown",
   "metadata": {},
   "source": [
    "Plot the obtained clusters"
   ]
  },
  {
   "cell_type": "code",
   "execution_count": null,
   "metadata": {},
   "outputs": [],
   "source": []
  },
  {
   "attachments": {},
   "cell_type": "markdown",
   "metadata": {},
   "source": [
    "Check out other algorithms such as DBSAN or OPTICS, why are these algorithms very interesting and in what cases? "
   ]
  },
  {
   "cell_type": "code",
   "execution_count": 85,
   "metadata": {},
   "outputs": [
    {
     "data": {
      "application/vnd.plotly.v1+json": {
       "config": {
        "plotlyServerURL": "https://plot.ly"
       },
       "data": [
        {
         "hovertemplate": "cluster=0<br>axe_x=%{x}<br>axe_y=%{y}<extra></extra>",
         "legendgroup": "0",
         "marker": {
          "color": "#636efa",
          "symbol": "circle"
         },
         "mode": "markers",
         "name": "0",
         "orientation": "v",
         "showlegend": true,
         "type": "scatter",
         "x": [
          4.5,
          22.3,
          26.6,
          6.8,
          28.5,
          20.9,
          30.4,
          21.9,
          19.9,
          3.4,
          24.8,
          26.6,
          22.4,
          8.2,
          18.7,
          19.4,
          16.1,
          22.3,
          27.4,
          4.5,
          10.6,
          3.5,
          9.5,
          6.3,
          4.8,
          6.6,
          22.1,
          8.4,
          25.7,
          9,
          27.1,
          26.7,
          22.6,
          28.5,
          21.3,
          12.2,
          28.2,
          26.9,
          19.3,
          31.1,
          22.7,
          23.8,
          13.5,
          3.6,
          30,
          24.9,
          23.2,
          13.4,
          8.7,
          23.3,
          25.7,
          9.7,
          27.4,
          18.8,
          6.6,
          8.2,
          19.2,
          20.5,
          19.4,
          28.6,
          23.1,
          3.8,
          6.9,
          25.5,
          27.4,
          26.9,
          26.7,
          22.9,
          24.4,
          4.4,
          33.4,
          21.3,
          6,
          4.9,
          37,
          15.4,
          4.5,
          25.7,
          31.3,
          13.5,
          8.6,
          28.4,
          24.2,
          4.5,
          4.7,
          15.3,
          7.9,
          7.1,
          31,
          11.3,
          11.5,
          28.4,
          19.6,
          24.9,
          25.6,
          6,
          15,
          3.8,
          23.1,
          32,
          21.8,
          4.7,
          7.8,
          23.9,
          25,
          22.9,
          7.8,
          22.5,
          19,
          19.1,
          6,
          25.6,
          23.2,
          24.5,
          25.7,
          4.8,
          23.8,
          10.6,
          35,
          7.4,
          23.5,
          7.5,
          22.4,
          22.5,
          20.5,
          27,
          27.1,
          5.4,
          7.4,
          26.5,
          22.1,
          21.2,
          10.8,
          2.9,
          7.1,
          19.7,
          27.3,
          32.2,
          4.1,
          26.1,
          29.9,
          29.5,
          7.1,
          28.9,
          15.3,
          23.5,
          25.2,
          2.1,
          14.1,
          6.5,
          12.3
         ],
         "xaxis": "x",
         "y": [
          0.0050580558980682,
          0.035799859055673,
          0.0058818224857407,
          0.0011438410921837,
          0.0904444983141239,
          0.0846752368064953,
          0.0035256659159742,
          0.0508189365043751,
          0.0194499406410764,
          0.0041746903874352,
          0.0024390243902439,
          0.0135786666666667,
          0.0470167064439141,
          0.0003603898763207,
          0.077572423278604,
          0.103352636391344,
          0.0016400517911091,
          0.0858473552017827,
          0.0842789086184495,
          0.0003396641630387,
          0.0197841726618705,
          0,
          0.0016655387623129,
          0.0013043478260869,
          0.0006043728150737,
          0.0003389939282008,
          0.0792714990696546,
          0.0082638637187386,
          0.0378790843279202,
          0.0005081184336198,
          0.0672885572139303,
          0.0012144313447389,
          0.0067937033968517,
          0.0896696528555431,
          0.0162978212386344,
          0.0061740890688259,
          0,
          0.0225142857142857,
          0.0792359088572897,
          0.0068876918345684,
          0.0185928097515815,
          0.0115702479338843,
          0.0117753623188406,
          0.0015741933238191,
          0.0002232142857142,
          0.0083378549466449,
          0.0899153064367108,
          0.0028238458090542,
          0.0050889532478278,
          0.0495020188425303,
          0.027171668667467,
          0.00105236057027,
          0.0344579439252336,
          0.0246042289383372,
          0.0006369426751592,
          0.0022833419823559,
          0.0198221092757306,
          0.0020520915548539,
          0.0303021086780211,
          0.073000921470257,
          0.0076086956521739,
          0.0102641954146132,
          0.0069758113483894,
          0.0623256090314914,
          0.031725613593455,
          0.0424945032980212,
          0.0325954861111111,
          0.107819755871036,
          0.0097187611249555,
          0.0020084625338382,
          0.0319037363048975,
          0.013634422378817,
          0.0029760125541772,
          0.001158726173693,
          0.0194414836921765,
          0.0198968759478314,
          0,
          0.0185068349106204,
          0.0177289377289377,
          0.0020541549953314,
          0.0016409648082245,
          0.0295275590551181,
          0.064873417721519,
          0.0009353219457585,
          0.000977522216414,
          0.0012781794332082,
          0.0088724584103512,
          0.0009925435780949,
          0.0333333333333333,
          0.0049032258064516,
          0.000790513833992,
          0.0894406535620383,
          0,
          0.0940514469453376,
          0.0185219181130396,
          0.0004588333440287,
          0.0064147973238882,
          0.0057207627683691,
          0.0582126295299708,
          0.0005013033888109,
          0.0024560339599757,
          0.0003389970647815,
          0.0005806733288056,
          0.103221153846154,
          0.0072953406348617,
          0.0312327604498196,
          0.0040305060197338,
          0.0789633434508522,
          0.0271674707098553,
          0.111738362174019,
          0.0079913488652229,
          0.0598415346121768,
          0.0550853242320819,
          0.0701314900472948,
          0.0319260152794532,
          0.0004323656578134,
          0,
          0.008095238095238,
          0.017291173197112,
          0.0020903010033444,
          0.0342101480523214,
          0.0009402030838661,
          0.0220615159282314,
          0.100190204469805,
          0,
          0.0393288388005635,
          0.100793534166054,
          0.0007020103022291,
          0.00309015028849,
          0.0193388429752066,
          0.0724101378047605,
          0.0712763493166551,
          0.0000901794571196681,
          0,
          0.0007971977291943,
          0.0089846603360116,
          0.03273369199731,
          0.0198789065765432,
          0.0004897138234844,
          0.0377997989372397,
          0.0063203109020249,
          0.096039309112567,
          0.0000351558576355175,
          0.002690455961484,
          0.001790835137824,
          0,
          0.0033513702216791,
          0.0000363791329293517,
          0.0020317843492255,
          0.0019963011314186,
          0.0020789880912332
         ],
         "yaxis": "y"
        },
        {
         "hovertemplate": "cluster=-1<br>axe_x=%{x}<br>axe_y=%{y}<extra></extra>",
         "legendgroup": "-1",
         "marker": {
          "color": "#EF553B",
          "symbol": "circle"
         },
         "mode": "markers",
         "name": "-1",
         "orientation": "v",
         "showlegend": true,
         "type": "scatter",
         "x": [
          24.5,
          45.5,
          37.3
         ],
         "xaxis": "x",
         "y": [
          0.156786799826313,
          0,
          0.0910879173512632
         ],
         "yaxis": "y"
        }
       ],
       "layout": {
        "height": 500,
        "legend": {
         "title": {
          "text": "cluster"
         },
         "tracegroupgap": 0
        },
        "margin": {
         "t": 60
        },
        "template": {
         "data": {
          "bar": [
           {
            "error_x": {
             "color": "#2a3f5f"
            },
            "error_y": {
             "color": "#2a3f5f"
            },
            "marker": {
             "line": {
              "color": "#E5ECF6",
              "width": 0.5
             },
             "pattern": {
              "fillmode": "overlay",
              "size": 10,
              "solidity": 0.2
             }
            },
            "type": "bar"
           }
          ],
          "barpolar": [
           {
            "marker": {
             "line": {
              "color": "#E5ECF6",
              "width": 0.5
             },
             "pattern": {
              "fillmode": "overlay",
              "size": 10,
              "solidity": 0.2
             }
            },
            "type": "barpolar"
           }
          ],
          "carpet": [
           {
            "aaxis": {
             "endlinecolor": "#2a3f5f",
             "gridcolor": "white",
             "linecolor": "white",
             "minorgridcolor": "white",
             "startlinecolor": "#2a3f5f"
            },
            "baxis": {
             "endlinecolor": "#2a3f5f",
             "gridcolor": "white",
             "linecolor": "white",
             "minorgridcolor": "white",
             "startlinecolor": "#2a3f5f"
            },
            "type": "carpet"
           }
          ],
          "choropleth": [
           {
            "colorbar": {
             "outlinewidth": 0,
             "ticks": ""
            },
            "type": "choropleth"
           }
          ],
          "contour": [
           {
            "colorbar": {
             "outlinewidth": 0,
             "ticks": ""
            },
            "colorscale": [
             [
              0,
              "#0d0887"
             ],
             [
              0.1111111111111111,
              "#46039f"
             ],
             [
              0.2222222222222222,
              "#7201a8"
             ],
             [
              0.3333333333333333,
              "#9c179e"
             ],
             [
              0.4444444444444444,
              "#bd3786"
             ],
             [
              0.5555555555555556,
              "#d8576b"
             ],
             [
              0.6666666666666666,
              "#ed7953"
             ],
             [
              0.7777777777777778,
              "#fb9f3a"
             ],
             [
              0.8888888888888888,
              "#fdca26"
             ],
             [
              1,
              "#f0f921"
             ]
            ],
            "type": "contour"
           }
          ],
          "contourcarpet": [
           {
            "colorbar": {
             "outlinewidth": 0,
             "ticks": ""
            },
            "type": "contourcarpet"
           }
          ],
          "heatmap": [
           {
            "colorbar": {
             "outlinewidth": 0,
             "ticks": ""
            },
            "colorscale": [
             [
              0,
              "#0d0887"
             ],
             [
              0.1111111111111111,
              "#46039f"
             ],
             [
              0.2222222222222222,
              "#7201a8"
             ],
             [
              0.3333333333333333,
              "#9c179e"
             ],
             [
              0.4444444444444444,
              "#bd3786"
             ],
             [
              0.5555555555555556,
              "#d8576b"
             ],
             [
              0.6666666666666666,
              "#ed7953"
             ],
             [
              0.7777777777777778,
              "#fb9f3a"
             ],
             [
              0.8888888888888888,
              "#fdca26"
             ],
             [
              1,
              "#f0f921"
             ]
            ],
            "type": "heatmap"
           }
          ],
          "heatmapgl": [
           {
            "colorbar": {
             "outlinewidth": 0,
             "ticks": ""
            },
            "colorscale": [
             [
              0,
              "#0d0887"
             ],
             [
              0.1111111111111111,
              "#46039f"
             ],
             [
              0.2222222222222222,
              "#7201a8"
             ],
             [
              0.3333333333333333,
              "#9c179e"
             ],
             [
              0.4444444444444444,
              "#bd3786"
             ],
             [
              0.5555555555555556,
              "#d8576b"
             ],
             [
              0.6666666666666666,
              "#ed7953"
             ],
             [
              0.7777777777777778,
              "#fb9f3a"
             ],
             [
              0.8888888888888888,
              "#fdca26"
             ],
             [
              1,
              "#f0f921"
             ]
            ],
            "type": "heatmapgl"
           }
          ],
          "histogram": [
           {
            "marker": {
             "pattern": {
              "fillmode": "overlay",
              "size": 10,
              "solidity": 0.2
             }
            },
            "type": "histogram"
           }
          ],
          "histogram2d": [
           {
            "colorbar": {
             "outlinewidth": 0,
             "ticks": ""
            },
            "colorscale": [
             [
              0,
              "#0d0887"
             ],
             [
              0.1111111111111111,
              "#46039f"
             ],
             [
              0.2222222222222222,
              "#7201a8"
             ],
             [
              0.3333333333333333,
              "#9c179e"
             ],
             [
              0.4444444444444444,
              "#bd3786"
             ],
             [
              0.5555555555555556,
              "#d8576b"
             ],
             [
              0.6666666666666666,
              "#ed7953"
             ],
             [
              0.7777777777777778,
              "#fb9f3a"
             ],
             [
              0.8888888888888888,
              "#fdca26"
             ],
             [
              1,
              "#f0f921"
             ]
            ],
            "type": "histogram2d"
           }
          ],
          "histogram2dcontour": [
           {
            "colorbar": {
             "outlinewidth": 0,
             "ticks": ""
            },
            "colorscale": [
             [
              0,
              "#0d0887"
             ],
             [
              0.1111111111111111,
              "#46039f"
             ],
             [
              0.2222222222222222,
              "#7201a8"
             ],
             [
              0.3333333333333333,
              "#9c179e"
             ],
             [
              0.4444444444444444,
              "#bd3786"
             ],
             [
              0.5555555555555556,
              "#d8576b"
             ],
             [
              0.6666666666666666,
              "#ed7953"
             ],
             [
              0.7777777777777778,
              "#fb9f3a"
             ],
             [
              0.8888888888888888,
              "#fdca26"
             ],
             [
              1,
              "#f0f921"
             ]
            ],
            "type": "histogram2dcontour"
           }
          ],
          "mesh3d": [
           {
            "colorbar": {
             "outlinewidth": 0,
             "ticks": ""
            },
            "type": "mesh3d"
           }
          ],
          "parcoords": [
           {
            "line": {
             "colorbar": {
              "outlinewidth": 0,
              "ticks": ""
             }
            },
            "type": "parcoords"
           }
          ],
          "pie": [
           {
            "automargin": true,
            "type": "pie"
           }
          ],
          "scatter": [
           {
            "fillpattern": {
             "fillmode": "overlay",
             "size": 10,
             "solidity": 0.2
            },
            "type": "scatter"
           }
          ],
          "scatter3d": [
           {
            "line": {
             "colorbar": {
              "outlinewidth": 0,
              "ticks": ""
             }
            },
            "marker": {
             "colorbar": {
              "outlinewidth": 0,
              "ticks": ""
             }
            },
            "type": "scatter3d"
           }
          ],
          "scattercarpet": [
           {
            "marker": {
             "colorbar": {
              "outlinewidth": 0,
              "ticks": ""
             }
            },
            "type": "scattercarpet"
           }
          ],
          "scattergeo": [
           {
            "marker": {
             "colorbar": {
              "outlinewidth": 0,
              "ticks": ""
             }
            },
            "type": "scattergeo"
           }
          ],
          "scattergl": [
           {
            "marker": {
             "colorbar": {
              "outlinewidth": 0,
              "ticks": ""
             }
            },
            "type": "scattergl"
           }
          ],
          "scattermapbox": [
           {
            "marker": {
             "colorbar": {
              "outlinewidth": 0,
              "ticks": ""
             }
            },
            "type": "scattermapbox"
           }
          ],
          "scatterpolar": [
           {
            "marker": {
             "colorbar": {
              "outlinewidth": 0,
              "ticks": ""
             }
            },
            "type": "scatterpolar"
           }
          ],
          "scatterpolargl": [
           {
            "marker": {
             "colorbar": {
              "outlinewidth": 0,
              "ticks": ""
             }
            },
            "type": "scatterpolargl"
           }
          ],
          "scatterternary": [
           {
            "marker": {
             "colorbar": {
              "outlinewidth": 0,
              "ticks": ""
             }
            },
            "type": "scatterternary"
           }
          ],
          "surface": [
           {
            "colorbar": {
             "outlinewidth": 0,
             "ticks": ""
            },
            "colorscale": [
             [
              0,
              "#0d0887"
             ],
             [
              0.1111111111111111,
              "#46039f"
             ],
             [
              0.2222222222222222,
              "#7201a8"
             ],
             [
              0.3333333333333333,
              "#9c179e"
             ],
             [
              0.4444444444444444,
              "#bd3786"
             ],
             [
              0.5555555555555556,
              "#d8576b"
             ],
             [
              0.6666666666666666,
              "#ed7953"
             ],
             [
              0.7777777777777778,
              "#fb9f3a"
             ],
             [
              0.8888888888888888,
              "#fdca26"
             ],
             [
              1,
              "#f0f921"
             ]
            ],
            "type": "surface"
           }
          ],
          "table": [
           {
            "cells": {
             "fill": {
              "color": "#EBF0F8"
             },
             "line": {
              "color": "white"
             }
            },
            "header": {
             "fill": {
              "color": "#C8D4E3"
             },
             "line": {
              "color": "white"
             }
            },
            "type": "table"
           }
          ]
         },
         "layout": {
          "annotationdefaults": {
           "arrowcolor": "#2a3f5f",
           "arrowhead": 0,
           "arrowwidth": 1
          },
          "autotypenumbers": "strict",
          "coloraxis": {
           "colorbar": {
            "outlinewidth": 0,
            "ticks": ""
           }
          },
          "colorscale": {
           "diverging": [
            [
             0,
             "#8e0152"
            ],
            [
             0.1,
             "#c51b7d"
            ],
            [
             0.2,
             "#de77ae"
            ],
            [
             0.3,
             "#f1b6da"
            ],
            [
             0.4,
             "#fde0ef"
            ],
            [
             0.5,
             "#f7f7f7"
            ],
            [
             0.6,
             "#e6f5d0"
            ],
            [
             0.7,
             "#b8e186"
            ],
            [
             0.8,
             "#7fbc41"
            ],
            [
             0.9,
             "#4d9221"
            ],
            [
             1,
             "#276419"
            ]
           ],
           "sequential": [
            [
             0,
             "#0d0887"
            ],
            [
             0.1111111111111111,
             "#46039f"
            ],
            [
             0.2222222222222222,
             "#7201a8"
            ],
            [
             0.3333333333333333,
             "#9c179e"
            ],
            [
             0.4444444444444444,
             "#bd3786"
            ],
            [
             0.5555555555555556,
             "#d8576b"
            ],
            [
             0.6666666666666666,
             "#ed7953"
            ],
            [
             0.7777777777777778,
             "#fb9f3a"
            ],
            [
             0.8888888888888888,
             "#fdca26"
            ],
            [
             1,
             "#f0f921"
            ]
           ],
           "sequentialminus": [
            [
             0,
             "#0d0887"
            ],
            [
             0.1111111111111111,
             "#46039f"
            ],
            [
             0.2222222222222222,
             "#7201a8"
            ],
            [
             0.3333333333333333,
             "#9c179e"
            ],
            [
             0.4444444444444444,
             "#bd3786"
            ],
            [
             0.5555555555555556,
             "#d8576b"
            ],
            [
             0.6666666666666666,
             "#ed7953"
            ],
            [
             0.7777777777777778,
             "#fb9f3a"
            ],
            [
             0.8888888888888888,
             "#fdca26"
            ],
            [
             1,
             "#f0f921"
            ]
           ]
          },
          "colorway": [
           "#636efa",
           "#EF553B",
           "#00cc96",
           "#ab63fa",
           "#FFA15A",
           "#19d3f3",
           "#FF6692",
           "#B6E880",
           "#FF97FF",
           "#FECB52"
          ],
          "font": {
           "color": "#2a3f5f"
          },
          "geo": {
           "bgcolor": "white",
           "lakecolor": "white",
           "landcolor": "#E5ECF6",
           "showlakes": true,
           "showland": true,
           "subunitcolor": "white"
          },
          "hoverlabel": {
           "align": "left"
          },
          "hovermode": "closest",
          "mapbox": {
           "style": "light"
          },
          "paper_bgcolor": "white",
          "plot_bgcolor": "#E5ECF6",
          "polar": {
           "angularaxis": {
            "gridcolor": "white",
            "linecolor": "white",
            "ticks": ""
           },
           "bgcolor": "#E5ECF6",
           "radialaxis": {
            "gridcolor": "white",
            "linecolor": "white",
            "ticks": ""
           }
          },
          "scene": {
           "xaxis": {
            "backgroundcolor": "#E5ECF6",
            "gridcolor": "white",
            "gridwidth": 2,
            "linecolor": "white",
            "showbackground": true,
            "ticks": "",
            "zerolinecolor": "white"
           },
           "yaxis": {
            "backgroundcolor": "#E5ECF6",
            "gridcolor": "white",
            "gridwidth": 2,
            "linecolor": "white",
            "showbackground": true,
            "ticks": "",
            "zerolinecolor": "white"
           },
           "zaxis": {
            "backgroundcolor": "#E5ECF6",
            "gridcolor": "white",
            "gridwidth": 2,
            "linecolor": "white",
            "showbackground": true,
            "ticks": "",
            "zerolinecolor": "white"
           }
          },
          "shapedefaults": {
           "line": {
            "color": "#2a3f5f"
           }
          },
          "ternary": {
           "aaxis": {
            "gridcolor": "white",
            "linecolor": "white",
            "ticks": ""
           },
           "baxis": {
            "gridcolor": "white",
            "linecolor": "white",
            "ticks": ""
           },
           "bgcolor": "#E5ECF6",
           "caxis": {
            "gridcolor": "white",
            "linecolor": "white",
            "ticks": ""
           }
          },
          "title": {
           "x": 0.05
          },
          "xaxis": {
           "automargin": true,
           "gridcolor": "white",
           "linecolor": "white",
           "ticks": "",
           "title": {
            "standoff": 15
           },
           "zerolinecolor": "white",
           "zerolinewidth": 2
          },
          "yaxis": {
           "automargin": true,
           "gridcolor": "white",
           "linecolor": "white",
           "ticks": "",
           "title": {
            "standoff": 15
           },
           "zerolinecolor": "white",
           "zerolinewidth": 2
          }
         }
        },
        "width": 600,
        "xaxis": {
         "anchor": "y",
         "domain": [
          0,
          1
         ],
         "title": {
          "text": "axe_x"
         }
        },
        "yaxis": {
         "anchor": "x",
         "domain": [
          0,
          1
         ],
         "title": {
          "text": "axe_y"
         }
        }
       }
      }
     },
     "metadata": {},
     "output_type": "display_data"
    }
   ],
   "source": [
    "from sklearn.cluster import DBSCAN\n",
    "\n",
    "\n",
    "\n",
    "X  = fat_quantity_clean.loc[:, ['Obesity', 'Deaths']]\n",
    "X_norm = scaler.fit_transform(X)\n",
    "\n",
    "dbscan = DBSCAN()\n",
    "dbscan.fit_predict(X_norm)\n",
    "\n",
    "df = pd.DataFrame(\n",
    "    {\n",
    "        'axe_x' : X['Obesity'],\n",
    "        'axe_y' : X['Deaths'],\n",
    "        'cluster' : dbscan.fit_predict(X_norm).astype(str)\n",
    "    }\n",
    ")\n",
    "\n",
    "px.scatter(df, \n",
    "           x='axe_x',\n",
    "           y='axe_y', \n",
    "           color=\"cluster\",\n",
    "           width=600,\n",
    "           height=500)\n"
   ]
  },
  {
   "cell_type": "code",
   "execution_count": 86,
   "metadata": {},
   "outputs": [
    {
     "data": {
      "application/vnd.plotly.v1+json": {
       "config": {
        "plotlyServerURL": "https://plot.ly"
       },
       "data": [
        {
         "hovertemplate": "cluster=-1<br>axe_x=%{x}<br>axe_y=%{y}<extra></extra>",
         "legendgroup": "-1",
         "marker": {
          "color": "#636efa",
          "symbol": "circle"
         },
         "mode": "markers",
         "name": "-1",
         "orientation": "v",
         "showlegend": true,
         "type": "scatter",
         "x": [
          4.5,
          22.3,
          21.9,
          19.9,
          3.4,
          26.6,
          24.5,
          22.4,
          8.2,
          18.7,
          19.4,
          10.6,
          3.5,
          9.5,
          8.4,
          9,
          22.6,
          21.3,
          22.7,
          13.5,
          3.6,
          8.7,
          23.3,
          9.7,
          18.8,
          8.2,
          19.2,
          20.5,
          19.4,
          28.6,
          3.8,
          6.9,
          22.9,
          33.4,
          21.3,
          37,
          15.4,
          31.3,
          8.6,
          7.9,
          31,
          19.6,
          24.9,
          6,
          3.8,
          23.1,
          21.8,
          23.9,
          22.9,
          7.8,
          19,
          19.1,
          6,
          23.2,
          45.5,
          35,
          23.5,
          22.4,
          22.5,
          20.5,
          27.1,
          10.8,
          2.9,
          19.7,
          32.2,
          37.3,
          23.5,
          2.1
         ],
         "xaxis": "x",
         "y": [
          0.0050580558980682,
          0.035799859055673,
          0.0508189365043751,
          0.0194499406410764,
          0.0041746903874352,
          0.0135786666666667,
          0.156786799826313,
          0.0470167064439141,
          0.0003603898763207,
          0.077572423278604,
          0.103352636391344,
          0.0197841726618705,
          0,
          0.0016655387623129,
          0.0082638637187386,
          0.0005081184336198,
          0.0067937033968517,
          0.0162978212386344,
          0.0185928097515815,
          0.0117753623188406,
          0.0015741933238191,
          0.0050889532478278,
          0.0495020188425303,
          0.00105236057027,
          0.0246042289383372,
          0.0022833419823559,
          0.0198221092757306,
          0.0020520915548539,
          0.0303021086780211,
          0.073000921470257,
          0.0102641954146132,
          0.0069758113483894,
          0.107819755871036,
          0.0319037363048975,
          0.013634422378817,
          0.0194414836921765,
          0.0198968759478314,
          0.0177289377289377,
          0.0016409648082245,
          0.0088724584103512,
          0.0333333333333333,
          0,
          0.0940514469453376,
          0.0004588333440287,
          0.0057207627683691,
          0.0582126295299708,
          0.0024560339599757,
          0.103221153846154,
          0.0312327604498196,
          0.0040305060197338,
          0.0271674707098553,
          0.111738362174019,
          0.0079913488652229,
          0.0550853242320819,
          0,
          0.017291173197112,
          0.0342101480523214,
          0.0220615159282314,
          0.100190204469805,
          0,
          0.100793534166054,
          0.0000901794571196681,
          0,
          0.0089846603360116,
          0.0198789065765432,
          0.0910879173512632,
          0,
          0.0000363791329293517
         ],
         "yaxis": "y"
        },
        {
         "hovertemplate": "cluster=4<br>axe_x=%{x}<br>axe_y=%{y}<extra></extra>",
         "legendgroup": "4",
         "marker": {
          "color": "#EF553B",
          "symbol": "circle"
         },
         "mode": "markers",
         "name": "4",
         "orientation": "v",
         "showlegend": true,
         "type": "scatter",
         "x": [
          26.6,
          24.8,
          26.7,
          28.2,
          23.8,
          24.9,
          23.1,
          24.4,
          25,
          23.8,
          25.2
         ],
         "xaxis": "x",
         "y": [
          0.0058818224857407,
          0.0024390243902439,
          0.0012144313447389,
          0,
          0.0115702479338843,
          0.0083378549466449,
          0.0076086956521739,
          0.0097187611249555,
          0.0072953406348617,
          0,
          0.0033513702216791
         ],
         "yaxis": "y"
        },
        {
         "hovertemplate": "cluster=1<br>axe_x=%{x}<br>axe_y=%{y}<extra></extra>",
         "legendgroup": "1",
         "marker": {
          "color": "#00cc96",
          "symbol": "circle"
         },
         "mode": "markers",
         "name": "1",
         "orientation": "v",
         "showlegend": true,
         "type": "scatter",
         "x": [
          6.8,
          6.3,
          6.6,
          6.6,
          6,
          7.1,
          7.8,
          7.4,
          7.5,
          7.4,
          7.1,
          7.1,
          6.5
         ],
         "xaxis": "x",
         "y": [
          0.0011438410921837,
          0.0013043478260869,
          0.0003389939282008,
          0.0006369426751592,
          0.0029760125541772,
          0.0009925435780949,
          0.0005806733288056,
          0.0020903010033444,
          0.0009402030838661,
          0.00309015028849,
          0.0007971977291943,
          0.0000351558576355175,
          0.0019963011314186
         ],
         "yaxis": "y"
        },
        {
         "hovertemplate": "cluster=10<br>axe_x=%{x}<br>axe_y=%{y}<extra></extra>",
         "legendgroup": "10",
         "marker": {
          "color": "#ab63fa",
          "symbol": "circle"
         },
         "mode": "markers",
         "name": "10",
         "orientation": "v",
         "showlegend": true,
         "type": "scatter",
         "x": [
          28.5,
          27.4,
          28.5,
          28.4,
          29.5
         ],
         "xaxis": "x",
         "y": [
          0.0904444983141239,
          0.0842789086184495,
          0.0896696528555431,
          0.0894406535620383,
          0.096039309112567
         ],
         "yaxis": "y"
        },
        {
         "hovertemplate": "cluster=9<br>axe_x=%{x}<br>axe_y=%{y}<extra></extra>",
         "legendgroup": "9",
         "marker": {
          "color": "#FFA15A",
          "symbol": "circle"
         },
         "mode": "markers",
         "name": "9",
         "orientation": "v",
         "showlegend": true,
         "type": "scatter",
         "x": [
          20.9,
          22.3,
          22.1,
          19.3,
          23.2,
          22.5,
          22.1,
          21.2
         ],
         "xaxis": "x",
         "y": [
          0.0846752368064953,
          0.0858473552017827,
          0.0792714990696546,
          0.0792359088572897,
          0.0899153064367108,
          0.0789633434508522,
          0.0724101378047605,
          0.0712763493166551
         ],
         "yaxis": "y"
        },
        {
         "hovertemplate": "cluster=7<br>axe_x=%{x}<br>axe_y=%{y}<extra></extra>",
         "legendgroup": "7",
         "marker": {
          "color": "#19d3f3",
          "symbol": "circle"
         },
         "mode": "markers",
         "name": "7",
         "orientation": "v",
         "showlegend": true,
         "type": "scatter",
         "x": [
          30.4,
          31.1,
          30,
          32,
          29.9,
          28.9
         ],
         "xaxis": "x",
         "y": [
          0.0035256659159742,
          0.0068876918345684,
          0.0002232142857142,
          0.0005013033888109,
          0.0063203109020249,
          0.002690455961484
         ],
         "yaxis": "y"
        },
        {
         "hovertemplate": "cluster=3<br>axe_x=%{x}<br>axe_y=%{y}<extra></extra>",
         "legendgroup": "3",
         "marker": {
          "color": "#FF6692",
          "symbol": "circle"
         },
         "mode": "markers",
         "name": "3",
         "orientation": "v",
         "showlegend": true,
         "type": "scatter",
         "x": [
          16.1,
          15.3,
          15,
          15.3,
          14.1
         ],
         "xaxis": "x",
         "y": [
          0.0016400517911091,
          0.0012781794332082,
          0.0064147973238882,
          0.001790835137824,
          0.0020317843492255
         ],
         "yaxis": "y"
        },
        {
         "hovertemplate": "cluster=0<br>axe_x=%{x}<br>axe_y=%{y}<extra></extra>",
         "legendgroup": "0",
         "marker": {
          "color": "#B6E880",
          "symbol": "circle"
         },
         "mode": "markers",
         "name": "0",
         "orientation": "v",
         "showlegend": true,
         "type": "scatter",
         "x": [
          4.5,
          4.8,
          4.4,
          4.9,
          4.5,
          4.5,
          4.7,
          4.7,
          4.8,
          5.4,
          4.1
         ],
         "xaxis": "x",
         "y": [
          0.0003396641630387,
          0.0006043728150737,
          0.0020084625338382,
          0.001158726173693,
          0,
          0.0009353219457585,
          0.000977522216414,
          0.0003389970647815,
          0.0004323656578134,
          0.0007020103022291,
          0.0004897138234844
         ],
         "yaxis": "y"
        },
        {
         "hovertemplate": "cluster=6<br>axe_x=%{x}<br>axe_y=%{y}<extra></extra>",
         "legendgroup": "6",
         "marker": {
          "color": "#FF97FF",
          "symbol": "circle"
         },
         "mode": "markers",
         "name": "6",
         "orientation": "v",
         "showlegend": true,
         "type": "scatter",
         "x": [
          25.7,
          27.4,
          27.4,
          26.9,
          26.7,
          28.4,
          25.7,
          27,
          27.3,
          26.1
         ],
         "xaxis": "x",
         "y": [
          0.0378790843279202,
          0.0344579439252336,
          0.031725613593455,
          0.0424945032980212,
          0.0325954861111111,
          0.0295275590551181,
          0.0319260152794532,
          0.0393288388005635,
          0.03273369199731,
          0.0377997989372397
         ],
         "yaxis": "y"
        },
        {
         "hovertemplate": "cluster=8<br>axe_x=%{x}<br>axe_y=%{y}<extra></extra>",
         "legendgroup": "8",
         "marker": {
          "color": "#FECB52",
          "symbol": "circle"
         },
         "mode": "markers",
         "name": "8",
         "orientation": "v",
         "showlegend": true,
         "type": "scatter",
         "x": [
          27.1,
          25.5,
          24.2,
          25.6,
          24.5
         ],
         "xaxis": "x",
         "y": [
          0.0672885572139303,
          0.0623256090314914,
          0.064873417721519,
          0.0598415346121768,
          0.0701314900472948
         ],
         "yaxis": "y"
        },
        {
         "hovertemplate": "cluster=2<br>axe_x=%{x}<br>axe_y=%{y}<extra></extra>",
         "legendgroup": "2",
         "marker": {
          "color": "#636efa",
          "symbol": "circle"
         },
         "mode": "markers",
         "name": "2",
         "orientation": "v",
         "showlegend": true,
         "type": "scatter",
         "x": [
          12.2,
          13.4,
          13.5,
          11.3,
          11.5,
          10.6,
          12.3
         ],
         "xaxis": "x",
         "y": [
          0.0061740890688259,
          0.0028238458090542,
          0.0020541549953314,
          0.0049032258064516,
          0.000790513833992,
          0.008095238095238,
          0.0020789880912332
         ],
         "yaxis": "y"
        },
        {
         "hovertemplate": "cluster=5<br>axe_x=%{x}<br>axe_y=%{y}<extra></extra>",
         "legendgroup": "5",
         "marker": {
          "color": "#EF553B",
          "symbol": "circle"
         },
         "mode": "markers",
         "name": "5",
         "orientation": "v",
         "showlegend": true,
         "type": "scatter",
         "x": [
          26.9,
          25.7,
          25.7,
          25.6,
          26.5
         ],
         "xaxis": "x",
         "y": [
          0.0225142857142857,
          0.027171668667467,
          0.0185068349106204,
          0.0185219181130396,
          0.0193388429752066
         ],
         "yaxis": "y"
        }
       ],
       "layout": {
        "height": 500,
        "legend": {
         "title": {
          "text": "cluster"
         },
         "tracegroupgap": 0
        },
        "margin": {
         "t": 60
        },
        "template": {
         "data": {
          "bar": [
           {
            "error_x": {
             "color": "#2a3f5f"
            },
            "error_y": {
             "color": "#2a3f5f"
            },
            "marker": {
             "line": {
              "color": "#E5ECF6",
              "width": 0.5
             },
             "pattern": {
              "fillmode": "overlay",
              "size": 10,
              "solidity": 0.2
             }
            },
            "type": "bar"
           }
          ],
          "barpolar": [
           {
            "marker": {
             "line": {
              "color": "#E5ECF6",
              "width": 0.5
             },
             "pattern": {
              "fillmode": "overlay",
              "size": 10,
              "solidity": 0.2
             }
            },
            "type": "barpolar"
           }
          ],
          "carpet": [
           {
            "aaxis": {
             "endlinecolor": "#2a3f5f",
             "gridcolor": "white",
             "linecolor": "white",
             "minorgridcolor": "white",
             "startlinecolor": "#2a3f5f"
            },
            "baxis": {
             "endlinecolor": "#2a3f5f",
             "gridcolor": "white",
             "linecolor": "white",
             "minorgridcolor": "white",
             "startlinecolor": "#2a3f5f"
            },
            "type": "carpet"
           }
          ],
          "choropleth": [
           {
            "colorbar": {
             "outlinewidth": 0,
             "ticks": ""
            },
            "type": "choropleth"
           }
          ],
          "contour": [
           {
            "colorbar": {
             "outlinewidth": 0,
             "ticks": ""
            },
            "colorscale": [
             [
              0,
              "#0d0887"
             ],
             [
              0.1111111111111111,
              "#46039f"
             ],
             [
              0.2222222222222222,
              "#7201a8"
             ],
             [
              0.3333333333333333,
              "#9c179e"
             ],
             [
              0.4444444444444444,
              "#bd3786"
             ],
             [
              0.5555555555555556,
              "#d8576b"
             ],
             [
              0.6666666666666666,
              "#ed7953"
             ],
             [
              0.7777777777777778,
              "#fb9f3a"
             ],
             [
              0.8888888888888888,
              "#fdca26"
             ],
             [
              1,
              "#f0f921"
             ]
            ],
            "type": "contour"
           }
          ],
          "contourcarpet": [
           {
            "colorbar": {
             "outlinewidth": 0,
             "ticks": ""
            },
            "type": "contourcarpet"
           }
          ],
          "heatmap": [
           {
            "colorbar": {
             "outlinewidth": 0,
             "ticks": ""
            },
            "colorscale": [
             [
              0,
              "#0d0887"
             ],
             [
              0.1111111111111111,
              "#46039f"
             ],
             [
              0.2222222222222222,
              "#7201a8"
             ],
             [
              0.3333333333333333,
              "#9c179e"
             ],
             [
              0.4444444444444444,
              "#bd3786"
             ],
             [
              0.5555555555555556,
              "#d8576b"
             ],
             [
              0.6666666666666666,
              "#ed7953"
             ],
             [
              0.7777777777777778,
              "#fb9f3a"
             ],
             [
              0.8888888888888888,
              "#fdca26"
             ],
             [
              1,
              "#f0f921"
             ]
            ],
            "type": "heatmap"
           }
          ],
          "heatmapgl": [
           {
            "colorbar": {
             "outlinewidth": 0,
             "ticks": ""
            },
            "colorscale": [
             [
              0,
              "#0d0887"
             ],
             [
              0.1111111111111111,
              "#46039f"
             ],
             [
              0.2222222222222222,
              "#7201a8"
             ],
             [
              0.3333333333333333,
              "#9c179e"
             ],
             [
              0.4444444444444444,
              "#bd3786"
             ],
             [
              0.5555555555555556,
              "#d8576b"
             ],
             [
              0.6666666666666666,
              "#ed7953"
             ],
             [
              0.7777777777777778,
              "#fb9f3a"
             ],
             [
              0.8888888888888888,
              "#fdca26"
             ],
             [
              1,
              "#f0f921"
             ]
            ],
            "type": "heatmapgl"
           }
          ],
          "histogram": [
           {
            "marker": {
             "pattern": {
              "fillmode": "overlay",
              "size": 10,
              "solidity": 0.2
             }
            },
            "type": "histogram"
           }
          ],
          "histogram2d": [
           {
            "colorbar": {
             "outlinewidth": 0,
             "ticks": ""
            },
            "colorscale": [
             [
              0,
              "#0d0887"
             ],
             [
              0.1111111111111111,
              "#46039f"
             ],
             [
              0.2222222222222222,
              "#7201a8"
             ],
             [
              0.3333333333333333,
              "#9c179e"
             ],
             [
              0.4444444444444444,
              "#bd3786"
             ],
             [
              0.5555555555555556,
              "#d8576b"
             ],
             [
              0.6666666666666666,
              "#ed7953"
             ],
             [
              0.7777777777777778,
              "#fb9f3a"
             ],
             [
              0.8888888888888888,
              "#fdca26"
             ],
             [
              1,
              "#f0f921"
             ]
            ],
            "type": "histogram2d"
           }
          ],
          "histogram2dcontour": [
           {
            "colorbar": {
             "outlinewidth": 0,
             "ticks": ""
            },
            "colorscale": [
             [
              0,
              "#0d0887"
             ],
             [
              0.1111111111111111,
              "#46039f"
             ],
             [
              0.2222222222222222,
              "#7201a8"
             ],
             [
              0.3333333333333333,
              "#9c179e"
             ],
             [
              0.4444444444444444,
              "#bd3786"
             ],
             [
              0.5555555555555556,
              "#d8576b"
             ],
             [
              0.6666666666666666,
              "#ed7953"
             ],
             [
              0.7777777777777778,
              "#fb9f3a"
             ],
             [
              0.8888888888888888,
              "#fdca26"
             ],
             [
              1,
              "#f0f921"
             ]
            ],
            "type": "histogram2dcontour"
           }
          ],
          "mesh3d": [
           {
            "colorbar": {
             "outlinewidth": 0,
             "ticks": ""
            },
            "type": "mesh3d"
           }
          ],
          "parcoords": [
           {
            "line": {
             "colorbar": {
              "outlinewidth": 0,
              "ticks": ""
             }
            },
            "type": "parcoords"
           }
          ],
          "pie": [
           {
            "automargin": true,
            "type": "pie"
           }
          ],
          "scatter": [
           {
            "fillpattern": {
             "fillmode": "overlay",
             "size": 10,
             "solidity": 0.2
            },
            "type": "scatter"
           }
          ],
          "scatter3d": [
           {
            "line": {
             "colorbar": {
              "outlinewidth": 0,
              "ticks": ""
             }
            },
            "marker": {
             "colorbar": {
              "outlinewidth": 0,
              "ticks": ""
             }
            },
            "type": "scatter3d"
           }
          ],
          "scattercarpet": [
           {
            "marker": {
             "colorbar": {
              "outlinewidth": 0,
              "ticks": ""
             }
            },
            "type": "scattercarpet"
           }
          ],
          "scattergeo": [
           {
            "marker": {
             "colorbar": {
              "outlinewidth": 0,
              "ticks": ""
             }
            },
            "type": "scattergeo"
           }
          ],
          "scattergl": [
           {
            "marker": {
             "colorbar": {
              "outlinewidth": 0,
              "ticks": ""
             }
            },
            "type": "scattergl"
           }
          ],
          "scattermapbox": [
           {
            "marker": {
             "colorbar": {
              "outlinewidth": 0,
              "ticks": ""
             }
            },
            "type": "scattermapbox"
           }
          ],
          "scatterpolar": [
           {
            "marker": {
             "colorbar": {
              "outlinewidth": 0,
              "ticks": ""
             }
            },
            "type": "scatterpolar"
           }
          ],
          "scatterpolargl": [
           {
            "marker": {
             "colorbar": {
              "outlinewidth": 0,
              "ticks": ""
             }
            },
            "type": "scatterpolargl"
           }
          ],
          "scatterternary": [
           {
            "marker": {
             "colorbar": {
              "outlinewidth": 0,
              "ticks": ""
             }
            },
            "type": "scatterternary"
           }
          ],
          "surface": [
           {
            "colorbar": {
             "outlinewidth": 0,
             "ticks": ""
            },
            "colorscale": [
             [
              0,
              "#0d0887"
             ],
             [
              0.1111111111111111,
              "#46039f"
             ],
             [
              0.2222222222222222,
              "#7201a8"
             ],
             [
              0.3333333333333333,
              "#9c179e"
             ],
             [
              0.4444444444444444,
              "#bd3786"
             ],
             [
              0.5555555555555556,
              "#d8576b"
             ],
             [
              0.6666666666666666,
              "#ed7953"
             ],
             [
              0.7777777777777778,
              "#fb9f3a"
             ],
             [
              0.8888888888888888,
              "#fdca26"
             ],
             [
              1,
              "#f0f921"
             ]
            ],
            "type": "surface"
           }
          ],
          "table": [
           {
            "cells": {
             "fill": {
              "color": "#EBF0F8"
             },
             "line": {
              "color": "white"
             }
            },
            "header": {
             "fill": {
              "color": "#C8D4E3"
             },
             "line": {
              "color": "white"
             }
            },
            "type": "table"
           }
          ]
         },
         "layout": {
          "annotationdefaults": {
           "arrowcolor": "#2a3f5f",
           "arrowhead": 0,
           "arrowwidth": 1
          },
          "autotypenumbers": "strict",
          "coloraxis": {
           "colorbar": {
            "outlinewidth": 0,
            "ticks": ""
           }
          },
          "colorscale": {
           "diverging": [
            [
             0,
             "#8e0152"
            ],
            [
             0.1,
             "#c51b7d"
            ],
            [
             0.2,
             "#de77ae"
            ],
            [
             0.3,
             "#f1b6da"
            ],
            [
             0.4,
             "#fde0ef"
            ],
            [
             0.5,
             "#f7f7f7"
            ],
            [
             0.6,
             "#e6f5d0"
            ],
            [
             0.7,
             "#b8e186"
            ],
            [
             0.8,
             "#7fbc41"
            ],
            [
             0.9,
             "#4d9221"
            ],
            [
             1,
             "#276419"
            ]
           ],
           "sequential": [
            [
             0,
             "#0d0887"
            ],
            [
             0.1111111111111111,
             "#46039f"
            ],
            [
             0.2222222222222222,
             "#7201a8"
            ],
            [
             0.3333333333333333,
             "#9c179e"
            ],
            [
             0.4444444444444444,
             "#bd3786"
            ],
            [
             0.5555555555555556,
             "#d8576b"
            ],
            [
             0.6666666666666666,
             "#ed7953"
            ],
            [
             0.7777777777777778,
             "#fb9f3a"
            ],
            [
             0.8888888888888888,
             "#fdca26"
            ],
            [
             1,
             "#f0f921"
            ]
           ],
           "sequentialminus": [
            [
             0,
             "#0d0887"
            ],
            [
             0.1111111111111111,
             "#46039f"
            ],
            [
             0.2222222222222222,
             "#7201a8"
            ],
            [
             0.3333333333333333,
             "#9c179e"
            ],
            [
             0.4444444444444444,
             "#bd3786"
            ],
            [
             0.5555555555555556,
             "#d8576b"
            ],
            [
             0.6666666666666666,
             "#ed7953"
            ],
            [
             0.7777777777777778,
             "#fb9f3a"
            ],
            [
             0.8888888888888888,
             "#fdca26"
            ],
            [
             1,
             "#f0f921"
            ]
           ]
          },
          "colorway": [
           "#636efa",
           "#EF553B",
           "#00cc96",
           "#ab63fa",
           "#FFA15A",
           "#19d3f3",
           "#FF6692",
           "#B6E880",
           "#FF97FF",
           "#FECB52"
          ],
          "font": {
           "color": "#2a3f5f"
          },
          "geo": {
           "bgcolor": "white",
           "lakecolor": "white",
           "landcolor": "#E5ECF6",
           "showlakes": true,
           "showland": true,
           "subunitcolor": "white"
          },
          "hoverlabel": {
           "align": "left"
          },
          "hovermode": "closest",
          "mapbox": {
           "style": "light"
          },
          "paper_bgcolor": "white",
          "plot_bgcolor": "#E5ECF6",
          "polar": {
           "angularaxis": {
            "gridcolor": "white",
            "linecolor": "white",
            "ticks": ""
           },
           "bgcolor": "#E5ECF6",
           "radialaxis": {
            "gridcolor": "white",
            "linecolor": "white",
            "ticks": ""
           }
          },
          "scene": {
           "xaxis": {
            "backgroundcolor": "#E5ECF6",
            "gridcolor": "white",
            "gridwidth": 2,
            "linecolor": "white",
            "showbackground": true,
            "ticks": "",
            "zerolinecolor": "white"
           },
           "yaxis": {
            "backgroundcolor": "#E5ECF6",
            "gridcolor": "white",
            "gridwidth": 2,
            "linecolor": "white",
            "showbackground": true,
            "ticks": "",
            "zerolinecolor": "white"
           },
           "zaxis": {
            "backgroundcolor": "#E5ECF6",
            "gridcolor": "white",
            "gridwidth": 2,
            "linecolor": "white",
            "showbackground": true,
            "ticks": "",
            "zerolinecolor": "white"
           }
          },
          "shapedefaults": {
           "line": {
            "color": "#2a3f5f"
           }
          },
          "ternary": {
           "aaxis": {
            "gridcolor": "white",
            "linecolor": "white",
            "ticks": ""
           },
           "baxis": {
            "gridcolor": "white",
            "linecolor": "white",
            "ticks": ""
           },
           "bgcolor": "#E5ECF6",
           "caxis": {
            "gridcolor": "white",
            "linecolor": "white",
            "ticks": ""
           }
          },
          "title": {
           "x": 0.05
          },
          "xaxis": {
           "automargin": true,
           "gridcolor": "white",
           "linecolor": "white",
           "ticks": "",
           "title": {
            "standoff": 15
           },
           "zerolinecolor": "white",
           "zerolinewidth": 2
          },
          "yaxis": {
           "automargin": true,
           "gridcolor": "white",
           "linecolor": "white",
           "ticks": "",
           "title": {
            "standoff": 15
           },
           "zerolinecolor": "white",
           "zerolinewidth": 2
          }
         }
        },
        "width": 600,
        "xaxis": {
         "anchor": "y",
         "domain": [
          0,
          1
         ],
         "title": {
          "text": "axe_x"
         }
        },
        "yaxis": {
         "anchor": "x",
         "domain": [
          0,
          1
         ],
         "title": {
          "text": "axe_y"
         }
        }
       }
      }
     },
     "metadata": {},
     "output_type": "display_data"
    }
   ],
   "source": [
    "from sklearn.cluster import OPTICS\n",
    "\n",
    "X  = fat_quantity_clean.loc[:, ['Obesity', 'Deaths']]\n",
    "X_norm = scaler.fit_transform(X)\n",
    "\n",
    "optics = OPTICS()\n",
    "optics.fit_predict(X_norm)\n",
    "\n",
    "df = pd.DataFrame(\n",
    "    {\n",
    "        'axe_x' : X['Obesity'],\n",
    "        'axe_y' : X['Deaths'],\n",
    "        'cluster' : optics.fit_predict(X_norm).astype(str)\n",
    "    }\n",
    ")\n",
    "\n",
    "px.scatter(df, \n",
    "           x='axe_x',\n",
    "           y='axe_y', \n",
    "           color=\"cluster\",\n",
    "           width=600,\n",
    "           height=500)"
   ]
  },
  {
   "cell_type": "markdown",
   "metadata": {},
   "source": [
    "### Comparaison des algorithmes de clustering\n",
    "\n",
    "<img src='https://scikit-learn.org/stable/_images/sphx_glr_plot_cluster_comparison_001.png'/>\n"
   ]
  },
  {
   "attachments": {},
   "cell_type": "markdown",
   "metadata": {},
   "source": [
    "# Regression and prediction"
   ]
  },
  {
   "attachments": {},
   "cell_type": "markdown",
   "metadata": {},
   "source": [
    "Given this dataset and the emphasis we have already laid on deaths through clustering, it would be interesting to study this dataset for a classification purpose and see how accurately we can predict the mortality rate in fonction of the given features."
   ]
  },
  {
   "cell_type": "markdown",
   "metadata": {},
   "source": [
    "<font color = 'brown'>\n",
    "\n",
    "on compare RMSE avec la STD de la target dans le dataset (afficher une ligne)\n",
    "\n",
    "quand on regarde l'accuracy pour des données catégorielles, elle est scalée en % donc on s'en fou de la ligne\n",
    "\n",
    "</font>"
   ]
  },
  {
   "attachments": {},
   "cell_type": "markdown",
   "metadata": {},
   "source": [
    "## Creating train and test sets "
   ]
  },
  {
   "attachments": {},
   "cell_type": "markdown",
   "metadata": {},
   "source": [
    "Let's separate the data into a training and testing sets using random selection."
   ]
  },
  {
   "cell_type": "code",
   "execution_count": 90,
   "metadata": {},
   "outputs": [],
   "source": [
    "from sklearn.model_selection import train_test_split\n",
    "#mortality rate = target \n",
    "\n",
    "X = fat_quantity_clean.drop(columns=[\"Country\", \"Deaths\"])\n",
    "y = fat_quantity_clean.loc[:,\"Deaths\"]\n",
    "\n",
    "X_train, X_test, y_train, y_test = train_test_split(X, y, test_size=0.33, random_state=42)"
   ]
  },
  {
   "cell_type": "code",
   "execution_count": 92,
   "metadata": {},
   "outputs": [
    {
     "data": {
      "text/plain": [
       "103    0.018522\n",
       "146    0.071276\n",
       "18     0.103353\n",
       "159    0.096039\n",
       "12     0.002439\n",
       "         ...   \n",
       "77     0.031904\n",
       "116    0.031233\n",
       "16     0.000360\n",
       "100    0.089441\n",
       "112    0.000339\n",
       "Name: Deaths, Length: 103, dtype: float64"
      ]
     },
     "execution_count": 92,
     "metadata": {},
     "output_type": "execute_result"
    }
   ],
   "source": [
    "y_train"
   ]
  },
  {
   "attachments": {},
   "cell_type": "markdown",
   "metadata": {},
   "source": [
    "Now drop the labels from the training set and create a new variable for the labels."
   ]
  },
  {
   "cell_type": "code",
   "execution_count": 94,
   "metadata": {},
   "outputs": [
    {
     "data": {
      "text/html": [
       "<div>\n",
       "<style scoped>\n",
       "    .dataframe tbody tr th:only-of-type {\n",
       "        vertical-align: middle;\n",
       "    }\n",
       "\n",
       "    .dataframe tbody tr th {\n",
       "        vertical-align: top;\n",
       "    }\n",
       "\n",
       "    .dataframe thead th {\n",
       "        text-align: right;\n",
       "    }\n",
       "</style>\n",
       "<table border=\"1\" class=\"dataframe\">\n",
       "  <thead>\n",
       "    <tr style=\"text-align: right;\">\n",
       "      <th></th>\n",
       "      <th>Alcoholic Beverages</th>\n",
       "      <th>Animal Products</th>\n",
       "      <th>Animal fats</th>\n",
       "      <th>Aquatic Products, Other</th>\n",
       "      <th>Cereals - Excluding Beer</th>\n",
       "      <th>Eggs</th>\n",
       "      <th>Fish, Seafood</th>\n",
       "      <th>Fruits - Excluding Wine</th>\n",
       "      <th>Meat</th>\n",
       "      <th>Miscellaneous</th>\n",
       "      <th>...</th>\n",
       "      <th>Confirmed</th>\n",
       "      <th>Recovered</th>\n",
       "      <th>Active</th>\n",
       "      <th>Population</th>\n",
       "      <th>Undernourished_0-10</th>\n",
       "      <th>Undernourished_11-20</th>\n",
       "      <th>Undernourished_21-30</th>\n",
       "      <th>Undernourished_31-40</th>\n",
       "      <th>Undernourished_41-50</th>\n",
       "      <th>Undernourished_51-60</th>\n",
       "    </tr>\n",
       "  </thead>\n",
       "  <tbody>\n",
       "    <tr>\n",
       "      <th>103</th>\n",
       "      <td>0.0</td>\n",
       "      <td>15.4227</td>\n",
       "      <td>3.5807</td>\n",
       "      <td>0.0</td>\n",
       "      <td>7.1539</td>\n",
       "      <td>1.1517</td>\n",
       "      <td>1.2329</td>\n",
       "      <td>0.7014</td>\n",
       "      <td>6.9989</td>\n",
       "      <td>0.0074</td>\n",
       "      <td>...</td>\n",
       "      <td>1.114892</td>\n",
       "      <td>0.998734</td>\n",
       "      <td>0.097636</td>\n",
       "      <td>35952000.0</td>\n",
       "      <td>1.0</td>\n",
       "      <td>0.0</td>\n",
       "      <td>0.0</td>\n",
       "      <td>0.0</td>\n",
       "      <td>0.0</td>\n",
       "      <td>0.0</td>\n",
       "    </tr>\n",
       "    <tr>\n",
       "      <th>146</th>\n",
       "      <td>0.0</td>\n",
       "      <td>28.1054</td>\n",
       "      <td>6.2293</td>\n",
       "      <td>0.0</td>\n",
       "      <td>1.1241</td>\n",
       "      <td>0.9300</td>\n",
       "      <td>0.4048</td>\n",
       "      <td>0.3379</td>\n",
       "      <td>12.0906</td>\n",
       "      <td>0.0000</td>\n",
       "      <td>...</td>\n",
       "      <td>4.453984</td>\n",
       "      <td>3.570767</td>\n",
       "      <td>0.811941</td>\n",
       "      <td>8634000.0</td>\n",
       "      <td>1.0</td>\n",
       "      <td>0.0</td>\n",
       "      <td>0.0</td>\n",
       "      <td>0.0</td>\n",
       "      <td>0.0</td>\n",
       "      <td>0.0</td>\n",
       "    </tr>\n",
       "    <tr>\n",
       "      <th>18</th>\n",
       "      <td>0.0</td>\n",
       "      <td>24.6478</td>\n",
       "      <td>2.4453</td>\n",
       "      <td>0.0</td>\n",
       "      <td>3.6588</td>\n",
       "      <td>0.8354</td>\n",
       "      <td>0.3049</td>\n",
       "      <td>0.5976</td>\n",
       "      <td>9.6957</td>\n",
       "      <td>0.0915</td>\n",
       "      <td>...</td>\n",
       "      <td>3.092380</td>\n",
       "      <td>2.026394</td>\n",
       "      <td>0.962633</td>\n",
       "      <td>3281000.0</td>\n",
       "      <td>1.0</td>\n",
       "      <td>0.0</td>\n",
       "      <td>0.0</td>\n",
       "      <td>0.0</td>\n",
       "      <td>0.0</td>\n",
       "      <td>0.0</td>\n",
       "    </tr>\n",
       "    <tr>\n",
       "      <th>159</th>\n",
       "      <td>0.0</td>\n",
       "      <td>25.8633</td>\n",
       "      <td>4.2615</td>\n",
       "      <td>0.0</td>\n",
       "      <td>1.4678</td>\n",
       "      <td>1.0778</td>\n",
       "      <td>0.5176</td>\n",
       "      <td>0.4219</td>\n",
       "      <td>12.5789</td>\n",
       "      <td>0.0780</td>\n",
       "      <td>...</td>\n",
       "      <td>2.791642</td>\n",
       "      <td>0.006027</td>\n",
       "      <td>2.689576</td>\n",
       "      <td>67160000.0</td>\n",
       "      <td>1.0</td>\n",
       "      <td>0.0</td>\n",
       "      <td>0.0</td>\n",
       "      <td>0.0</td>\n",
       "      <td>0.0</td>\n",
       "      <td>0.0</td>\n",
       "    </tr>\n",
       "    <tr>\n",
       "      <th>12</th>\n",
       "      <td>0.0</td>\n",
       "      <td>25.8451</td>\n",
       "      <td>3.9733</td>\n",
       "      <td>0.0</td>\n",
       "      <td>2.1187</td>\n",
       "      <td>1.2130</td>\n",
       "      <td>1.8060</td>\n",
       "      <td>0.4636</td>\n",
       "      <td>13.1382</td>\n",
       "      <td>0.3235</td>\n",
       "      <td>...</td>\n",
       "      <td>0.103136</td>\n",
       "      <td>0.094774</td>\n",
       "      <td>0.005923</td>\n",
       "      <td>287000.0</td>\n",
       "      <td>1.0</td>\n",
       "      <td>0.0</td>\n",
       "      <td>0.0</td>\n",
       "      <td>0.0</td>\n",
       "      <td>0.0</td>\n",
       "      <td>0.0</td>\n",
       "    </tr>\n",
       "    <tr>\n",
       "      <th>...</th>\n",
       "      <td>...</td>\n",
       "      <td>...</td>\n",
       "      <td>...</td>\n",
       "      <td>...</td>\n",
       "      <td>...</td>\n",
       "      <td>...</td>\n",
       "      <td>...</td>\n",
       "      <td>...</td>\n",
       "      <td>...</td>\n",
       "      <td>...</td>\n",
       "      <td>...</td>\n",
       "      <td>...</td>\n",
       "      <td>...</td>\n",
       "      <td>...</td>\n",
       "      <td>...</td>\n",
       "      <td>...</td>\n",
       "      <td>...</td>\n",
       "      <td>...</td>\n",
       "      <td>...</td>\n",
       "      <td>...</td>\n",
       "      <td>...</td>\n",
       "    </tr>\n",
       "    <tr>\n",
       "      <th>77</th>\n",
       "      <td>0.0</td>\n",
       "      <td>12.2622</td>\n",
       "      <td>1.8696</td>\n",
       "      <td>0.0</td>\n",
       "      <td>3.7391</td>\n",
       "      <td>0.5224</td>\n",
       "      <td>0.3189</td>\n",
       "      <td>0.1980</td>\n",
       "      <td>5.8122</td>\n",
       "      <td>0.0385</td>\n",
       "      <td>...</td>\n",
       "      <td>2.457880</td>\n",
       "      <td>2.084971</td>\n",
       "      <td>0.341006</td>\n",
       "      <td>10679000.0</td>\n",
       "      <td>0.0</td>\n",
       "      <td>1.0</td>\n",
       "      <td>0.0</td>\n",
       "      <td>0.0</td>\n",
       "      <td>0.0</td>\n",
       "      <td>0.0</td>\n",
       "    </tr>\n",
       "    <tr>\n",
       "      <th>116</th>\n",
       "      <td>0.0</td>\n",
       "      <td>23.6146</td>\n",
       "      <td>2.3712</td>\n",
       "      <td>0.0</td>\n",
       "      <td>3.7744</td>\n",
       "      <td>1.4422</td>\n",
       "      <td>0.9290</td>\n",
       "      <td>0.7926</td>\n",
       "      <td>9.0171</td>\n",
       "      <td>0.0325</td>\n",
       "      <td>...</td>\n",
       "      <td>2.684150</td>\n",
       "      <td>2.509803</td>\n",
       "      <td>0.143115</td>\n",
       "      <td>4713000.0</td>\n",
       "      <td>1.0</td>\n",
       "      <td>0.0</td>\n",
       "      <td>0.0</td>\n",
       "      <td>0.0</td>\n",
       "      <td>0.0</td>\n",
       "      <td>0.0</td>\n",
       "    </tr>\n",
       "    <tr>\n",
       "      <th>16</th>\n",
       "      <td>0.0</td>\n",
       "      <td>6.1742</td>\n",
       "      <td>0.4816</td>\n",
       "      <td>0.0</td>\n",
       "      <td>4.6952</td>\n",
       "      <td>0.2064</td>\n",
       "      <td>0.8599</td>\n",
       "      <td>0.1978</td>\n",
       "      <td>3.2849</td>\n",
       "      <td>0.0258</td>\n",
       "      <td>...</td>\n",
       "      <td>0.025309</td>\n",
       "      <td>0.024343</td>\n",
       "      <td>0.000606</td>\n",
       "      <td>12209000.0</td>\n",
       "      <td>0.0</td>\n",
       "      <td>1.0</td>\n",
       "      <td>0.0</td>\n",
       "      <td>0.0</td>\n",
       "      <td>0.0</td>\n",
       "      <td>0.0</td>\n",
       "    </tr>\n",
       "    <tr>\n",
       "      <th>100</th>\n",
       "      <td>0.0</td>\n",
       "      <td>23.7741</td>\n",
       "      <td>3.2525</td>\n",
       "      <td>0.0</td>\n",
       "      <td>6.4604</td>\n",
       "      <td>2.2807</td>\n",
       "      <td>0.4661</td>\n",
       "      <td>0.5305</td>\n",
       "      <td>13.2133</td>\n",
       "      <td>0.0050</td>\n",
       "      <td>...</td>\n",
       "      <td>0.982827</td>\n",
       "      <td>0.725988</td>\n",
       "      <td>0.167399</td>\n",
       "      <td>127792000.0</td>\n",
       "      <td>1.0</td>\n",
       "      <td>0.0</td>\n",
       "      <td>0.0</td>\n",
       "      <td>0.0</td>\n",
       "      <td>0.0</td>\n",
       "      <td>0.0</td>\n",
       "    </tr>\n",
       "    <tr>\n",
       "      <th>112</th>\n",
       "      <td>0.0</td>\n",
       "      <td>10.9769</td>\n",
       "      <td>2.6573</td>\n",
       "      <td>0.0</td>\n",
       "      <td>12.4360</td>\n",
       "      <td>0.0580</td>\n",
       "      <td>0.1353</td>\n",
       "      <td>0.2416</td>\n",
       "      <td>3.6332</td>\n",
       "      <td>0.0097</td>\n",
       "      <td>...</td>\n",
       "      <td>0.009599</td>\n",
       "      <td>0.005350</td>\n",
       "      <td>0.003911</td>\n",
       "      <td>24189000.0</td>\n",
       "      <td>0.0</td>\n",
       "      <td>1.0</td>\n",
       "      <td>0.0</td>\n",
       "      <td>0.0</td>\n",
       "      <td>0.0</td>\n",
       "      <td>0.0</td>\n",
       "    </tr>\n",
       "  </tbody>\n",
       "</table>\n",
       "<p>103 rows × 34 columns</p>\n",
       "</div>"
      ],
      "text/plain": [
       "     Alcoholic Beverages  Animal Products  Animal fats  \\\n",
       "103                  0.0          15.4227       3.5807   \n",
       "146                  0.0          28.1054       6.2293   \n",
       "18                   0.0          24.6478       2.4453   \n",
       "159                  0.0          25.8633       4.2615   \n",
       "12                   0.0          25.8451       3.9733   \n",
       "..                   ...              ...          ...   \n",
       "77                   0.0          12.2622       1.8696   \n",
       "116                  0.0          23.6146       2.3712   \n",
       "16                   0.0           6.1742       0.4816   \n",
       "100                  0.0          23.7741       3.2525   \n",
       "112                  0.0          10.9769       2.6573   \n",
       "\n",
       "     Aquatic Products, Other  Cereals - Excluding Beer    Eggs  Fish, Seafood  \\\n",
       "103                      0.0                    7.1539  1.1517         1.2329   \n",
       "146                      0.0                    1.1241  0.9300         0.4048   \n",
       "18                       0.0                    3.6588  0.8354         0.3049   \n",
       "159                      0.0                    1.4678  1.0778         0.5176   \n",
       "12                       0.0                    2.1187  1.2130         1.8060   \n",
       "..                       ...                       ...     ...            ...   \n",
       "77                       0.0                    3.7391  0.5224         0.3189   \n",
       "116                      0.0                    3.7744  1.4422         0.9290   \n",
       "16                       0.0                    4.6952  0.2064         0.8599   \n",
       "100                      0.0                    6.4604  2.2807         0.4661   \n",
       "112                      0.0                   12.4360  0.0580         0.1353   \n",
       "\n",
       "     Fruits - Excluding Wine     Meat  Miscellaneous  ...  Confirmed  \\\n",
       "103                   0.7014   6.9989         0.0074  ...   1.114892   \n",
       "146                   0.3379  12.0906         0.0000  ...   4.453984   \n",
       "18                    0.5976   9.6957         0.0915  ...   3.092380   \n",
       "159                   0.4219  12.5789         0.0780  ...   2.791642   \n",
       "12                    0.4636  13.1382         0.3235  ...   0.103136   \n",
       "..                       ...      ...            ...  ...        ...   \n",
       "77                    0.1980   5.8122         0.0385  ...   2.457880   \n",
       "116                   0.7926   9.0171         0.0325  ...   2.684150   \n",
       "16                    0.1978   3.2849         0.0258  ...   0.025309   \n",
       "100                   0.5305  13.2133         0.0050  ...   0.982827   \n",
       "112                   0.2416   3.6332         0.0097  ...   0.009599   \n",
       "\n",
       "     Recovered    Active   Population  Undernourished_0-10  \\\n",
       "103   0.998734  0.097636   35952000.0                  1.0   \n",
       "146   3.570767  0.811941    8634000.0                  1.0   \n",
       "18    2.026394  0.962633    3281000.0                  1.0   \n",
       "159   0.006027  2.689576   67160000.0                  1.0   \n",
       "12    0.094774  0.005923     287000.0                  1.0   \n",
       "..         ...       ...          ...                  ...   \n",
       "77    2.084971  0.341006   10679000.0                  0.0   \n",
       "116   2.509803  0.143115    4713000.0                  1.0   \n",
       "16    0.024343  0.000606   12209000.0                  0.0   \n",
       "100   0.725988  0.167399  127792000.0                  1.0   \n",
       "112   0.005350  0.003911   24189000.0                  0.0   \n",
       "\n",
       "     Undernourished_11-20  Undernourished_21-30  Undernourished_31-40  \\\n",
       "103                   0.0                   0.0                   0.0   \n",
       "146                   0.0                   0.0                   0.0   \n",
       "18                    0.0                   0.0                   0.0   \n",
       "159                   0.0                   0.0                   0.0   \n",
       "12                    0.0                   0.0                   0.0   \n",
       "..                    ...                   ...                   ...   \n",
       "77                    1.0                   0.0                   0.0   \n",
       "116                   0.0                   0.0                   0.0   \n",
       "16                    1.0                   0.0                   0.0   \n",
       "100                   0.0                   0.0                   0.0   \n",
       "112                   1.0                   0.0                   0.0   \n",
       "\n",
       "     Undernourished_41-50  Undernourished_51-60  \n",
       "103                   0.0                   0.0  \n",
       "146                   0.0                   0.0  \n",
       "18                    0.0                   0.0  \n",
       "159                   0.0                   0.0  \n",
       "12                    0.0                   0.0  \n",
       "..                    ...                   ...  \n",
       "77                    0.0                   0.0  \n",
       "116                   0.0                   0.0  \n",
       "16                    0.0                   0.0  \n",
       "100                   0.0                   0.0  \n",
       "112                   0.0                   0.0  \n",
       "\n",
       "[103 rows x 34 columns]"
      ]
     },
     "execution_count": 94,
     "metadata": {},
     "output_type": "execute_result"
    }
   ],
   "source": [
    "X_train"
   ]
  },
  {
   "attachments": {},
   "cell_type": "markdown",
   "metadata": {},
   "source": [
    "Scale the datasets."
   ]
  },
  {
   "cell_type": "code",
   "execution_count": 168,
   "metadata": {},
   "outputs": [],
   "source": [
    "scaler=StandardScaler()\n",
    "\n",
    "X_train_norm = scaler.fit_transform(X_train)\n",
    "\n",
    "X_test_norm = scaler.transform(X_test)\n",
    "\n",
    "y_train = (y_train)/y_train.std()\n",
    "y_test = y_test/y_train.std()"
   ]
  },
  {
   "attachments": {},
   "cell_type": "markdown",
   "metadata": {},
   "source": [
    "## Random Forest"
   ]
  },
  {
   "attachments": {},
   "cell_type": "markdown",
   "metadata": {},
   "source": [
    "Let's try a random forest model on the prepared fat_quantity training set."
   ]
  },
  {
   "cell_type": "code",
   "execution_count": 100,
   "metadata": {},
   "outputs": [
    {
     "data": {
      "text/html": [
       "<style>#sk-container-id-6 {color: black;}#sk-container-id-6 pre{padding: 0;}#sk-container-id-6 div.sk-toggleable {background-color: white;}#sk-container-id-6 label.sk-toggleable__label {cursor: pointer;display: block;width: 100%;margin-bottom: 0;padding: 0.3em;box-sizing: border-box;text-align: center;}#sk-container-id-6 label.sk-toggleable__label-arrow:before {content: \"▸\";float: left;margin-right: 0.25em;color: #696969;}#sk-container-id-6 label.sk-toggleable__label-arrow:hover:before {color: black;}#sk-container-id-6 div.sk-estimator:hover label.sk-toggleable__label-arrow:before {color: black;}#sk-container-id-6 div.sk-toggleable__content {max-height: 0;max-width: 0;overflow: hidden;text-align: left;background-color: #f0f8ff;}#sk-container-id-6 div.sk-toggleable__content pre {margin: 0.2em;color: black;border-radius: 0.25em;background-color: #f0f8ff;}#sk-container-id-6 input.sk-toggleable__control:checked~div.sk-toggleable__content {max-height: 200px;max-width: 100%;overflow: auto;}#sk-container-id-6 input.sk-toggleable__control:checked~label.sk-toggleable__label-arrow:before {content: \"▾\";}#sk-container-id-6 div.sk-estimator input.sk-toggleable__control:checked~label.sk-toggleable__label {background-color: #d4ebff;}#sk-container-id-6 div.sk-label input.sk-toggleable__control:checked~label.sk-toggleable__label {background-color: #d4ebff;}#sk-container-id-6 input.sk-hidden--visually {border: 0;clip: rect(1px 1px 1px 1px);clip: rect(1px, 1px, 1px, 1px);height: 1px;margin: -1px;overflow: hidden;padding: 0;position: absolute;width: 1px;}#sk-container-id-6 div.sk-estimator {font-family: monospace;background-color: #f0f8ff;border: 1px dotted black;border-radius: 0.25em;box-sizing: border-box;margin-bottom: 0.5em;}#sk-container-id-6 div.sk-estimator:hover {background-color: #d4ebff;}#sk-container-id-6 div.sk-parallel-item::after {content: \"\";width: 100%;border-bottom: 1px solid gray;flex-grow: 1;}#sk-container-id-6 div.sk-label:hover label.sk-toggleable__label {background-color: #d4ebff;}#sk-container-id-6 div.sk-serial::before {content: \"\";position: absolute;border-left: 1px solid gray;box-sizing: border-box;top: 0;bottom: 0;left: 50%;z-index: 0;}#sk-container-id-6 div.sk-serial {display: flex;flex-direction: column;align-items: center;background-color: white;padding-right: 0.2em;padding-left: 0.2em;position: relative;}#sk-container-id-6 div.sk-item {position: relative;z-index: 1;}#sk-container-id-6 div.sk-parallel {display: flex;align-items: stretch;justify-content: center;background-color: white;position: relative;}#sk-container-id-6 div.sk-item::before, #sk-container-id-6 div.sk-parallel-item::before {content: \"\";position: absolute;border-left: 1px solid gray;box-sizing: border-box;top: 0;bottom: 0;left: 50%;z-index: -1;}#sk-container-id-6 div.sk-parallel-item {display: flex;flex-direction: column;z-index: 1;position: relative;background-color: white;}#sk-container-id-6 div.sk-parallel-item:first-child::after {align-self: flex-end;width: 50%;}#sk-container-id-6 div.sk-parallel-item:last-child::after {align-self: flex-start;width: 50%;}#sk-container-id-6 div.sk-parallel-item:only-child::after {width: 0;}#sk-container-id-6 div.sk-dashed-wrapped {border: 1px dashed gray;margin: 0 0.4em 0.5em 0.4em;box-sizing: border-box;padding-bottom: 0.4em;background-color: white;}#sk-container-id-6 div.sk-label label {font-family: monospace;font-weight: bold;display: inline-block;line-height: 1.2em;}#sk-container-id-6 div.sk-label-container {text-align: center;}#sk-container-id-6 div.sk-container {/* jupyter's `normalize.less` sets `[hidden] { display: none; }` but bootstrap.min.css set `[hidden] { display: none !important; }` so we also need the `!important` here to be able to override the default hidden behavior on the sphinx rendered scikit-learn.org. See: https://github.com/scikit-learn/scikit-learn/issues/21755 */display: inline-block !important;position: relative;}#sk-container-id-6 div.sk-text-repr-fallback {display: none;}</style><div id=\"sk-container-id-6\" class=\"sk-top-container\"><div class=\"sk-text-repr-fallback\"><pre>RandomForestRegressor(max_depth=5, random_state=42)</pre><b>In a Jupyter environment, please rerun this cell to show the HTML representation or trust the notebook. <br />On GitHub, the HTML representation is unable to render, please try loading this page with nbviewer.org.</b></div><div class=\"sk-container\" hidden><div class=\"sk-item\"><div class=\"sk-estimator sk-toggleable\"><input class=\"sk-toggleable__control sk-hidden--visually\" id=\"sk-estimator-id-6\" type=\"checkbox\" checked><label for=\"sk-estimator-id-6\" class=\"sk-toggleable__label sk-toggleable__label-arrow\">RandomForestRegressor</label><div class=\"sk-toggleable__content\"><pre>RandomForestRegressor(max_depth=5, random_state=42)</pre></div></div></div></div></div>"
      ],
      "text/plain": [
       "RandomForestRegressor(max_depth=5, random_state=42)"
      ]
     },
     "execution_count": 100,
     "metadata": {},
     "output_type": "execute_result"
    }
   ],
   "source": [
    "from sklearn.ensemble import RandomForestRegressor\n",
    "\n",
    "max_depth=5\n",
    "n_estimators = 100\n",
    "\n",
    "forest_reg = RandomForestRegressor(n_estimators=n_estimators, max_depth=max_depth, random_state=42)\n",
    "forest_reg.fit(X_train_norm, y_train)\n"
   ]
  },
  {
   "attachments": {},
   "cell_type": "markdown",
   "metadata": {},
   "source": [
    "Now we predict."
   ]
  },
  {
   "cell_type": "code",
   "execution_count": 101,
   "metadata": {},
   "outputs": [
    {
     "data": {
      "application/vnd.plotly.v1+json": {
       "config": {
        "plotlyServerURL": "https://plot.ly"
       },
       "data": [
        {
         "hovertemplate": "x=%{x}<br>y=%{y}<extra></extra>",
         "legendgroup": "",
         "marker": {
          "color": "#636efa",
          "symbol": "circle"
         },
         "mode": "markers",
         "name": "",
         "orientation": "v",
         "showlegend": false,
         "type": "scatter",
         "x": [
          0.024605048118957255,
          0.07000228125506197,
          0.0013578240603062438,
          0.01602829950979853,
          0.0314502406724757,
          0.029523578025333726,
          0.07207060412450922,
          0.0008840853261204583,
          0.009373813957909463,
          0.002077968395892561,
          0.0010252820958766436,
          0.044911644603029634,
          0.04623312038230862,
          0.005383800467050306,
          0.005504269576203833,
          0.0016583077398803466,
          0.008313890377501264,
          0.0626531548424841,
          0.00511735959358038,
          0.059660018568408066,
          0.08308959993115689,
          0.025196017585464244,
          0.0011666377694602935,
          0.08857201610118684,
          0.0010679544737747324,
          0.0011880433046973324,
          0.0013287168206267074,
          0.06186726934671664,
          0.02382639583200783,
          0.02681450692303606,
          0.0010969250795156262,
          0.0006055211502911242,
          0.005731114267101148,
          0.0009995936415996343,
          0.05940409516540507,
          0.005504743338982653,
          0.003051617974599584,
          0.0007492295747548805,
          0.0016206918712753538,
          0.0012738319216227575,
          0.027565596138547806,
          0.06854452724288886,
          0.0786882268577479,
          0.0014282958824886117,
          0.07676891314534387,
          0.07263437322429461,
          0.06408986753817379,
          0.00990218246657606,
          0.061689226466797864,
          0.0013402457143251504,
          0.033076541577770284
         ],
         "xaxis": "x",
         "y": [
          0.077572423278604,
          0.0940514469453376,
          0.0019963011314186,
          0.0072953406348617,
          0.0271674707098553,
          0.031725613593455,
          0.0858473552017827,
          0.0002232142857142,
          0.0061740890688259,
          0.0006369426751592,
          0.000977522216414,
          0.0063203109020249,
          0.0842789086184495,
          0.001790835137824,
          0.0012781794332082,
          0,
          0.008095238095238,
          0.156786799826313,
          0.0041746903874352,
          0.0701314900472948,
          0.0378790843279202,
          0.0115702479338843,
          0,
          0.0325954861111111,
          0.0007971977291943,
          0.0005081184336198,
          0.0004588333440287,
          0.0672885572139303,
          0.0185068349106204,
          0.0424945032980212,
          0.0004897138234844,
          0,
          0.0097187611249555,
          0.0003389939282008,
          0.0724101378047605,
          0.002690455961484,
          0.0022833419823559,
          0,
          0.0024560339599757,
          0.0016409648082245,
          0.0135786666666667,
          0.0550853242320819,
          0.0910879173512632,
          0.0009353219457585,
          0.0792714990696546,
          0.107819755871036,
          0.0598415346121768,
          0.0185928097515815,
          0.0904444983141239,
          0.0012144313447389,
          0.027171668667467
         ],
         "yaxis": "y"
        }
       ],
       "layout": {
        "height": 500,
        "legend": {
         "tracegroupgap": 0
        },
        "margin": {
         "t": 60
        },
        "template": {
         "data": {
          "bar": [
           {
            "error_x": {
             "color": "#2a3f5f"
            },
            "error_y": {
             "color": "#2a3f5f"
            },
            "marker": {
             "line": {
              "color": "#E5ECF6",
              "width": 0.5
             },
             "pattern": {
              "fillmode": "overlay",
              "size": 10,
              "solidity": 0.2
             }
            },
            "type": "bar"
           }
          ],
          "barpolar": [
           {
            "marker": {
             "line": {
              "color": "#E5ECF6",
              "width": 0.5
             },
             "pattern": {
              "fillmode": "overlay",
              "size": 10,
              "solidity": 0.2
             }
            },
            "type": "barpolar"
           }
          ],
          "carpet": [
           {
            "aaxis": {
             "endlinecolor": "#2a3f5f",
             "gridcolor": "white",
             "linecolor": "white",
             "minorgridcolor": "white",
             "startlinecolor": "#2a3f5f"
            },
            "baxis": {
             "endlinecolor": "#2a3f5f",
             "gridcolor": "white",
             "linecolor": "white",
             "minorgridcolor": "white",
             "startlinecolor": "#2a3f5f"
            },
            "type": "carpet"
           }
          ],
          "choropleth": [
           {
            "colorbar": {
             "outlinewidth": 0,
             "ticks": ""
            },
            "type": "choropleth"
           }
          ],
          "contour": [
           {
            "colorbar": {
             "outlinewidth": 0,
             "ticks": ""
            },
            "colorscale": [
             [
              0,
              "#0d0887"
             ],
             [
              0.1111111111111111,
              "#46039f"
             ],
             [
              0.2222222222222222,
              "#7201a8"
             ],
             [
              0.3333333333333333,
              "#9c179e"
             ],
             [
              0.4444444444444444,
              "#bd3786"
             ],
             [
              0.5555555555555556,
              "#d8576b"
             ],
             [
              0.6666666666666666,
              "#ed7953"
             ],
             [
              0.7777777777777778,
              "#fb9f3a"
             ],
             [
              0.8888888888888888,
              "#fdca26"
             ],
             [
              1,
              "#f0f921"
             ]
            ],
            "type": "contour"
           }
          ],
          "contourcarpet": [
           {
            "colorbar": {
             "outlinewidth": 0,
             "ticks": ""
            },
            "type": "contourcarpet"
           }
          ],
          "heatmap": [
           {
            "colorbar": {
             "outlinewidth": 0,
             "ticks": ""
            },
            "colorscale": [
             [
              0,
              "#0d0887"
             ],
             [
              0.1111111111111111,
              "#46039f"
             ],
             [
              0.2222222222222222,
              "#7201a8"
             ],
             [
              0.3333333333333333,
              "#9c179e"
             ],
             [
              0.4444444444444444,
              "#bd3786"
             ],
             [
              0.5555555555555556,
              "#d8576b"
             ],
             [
              0.6666666666666666,
              "#ed7953"
             ],
             [
              0.7777777777777778,
              "#fb9f3a"
             ],
             [
              0.8888888888888888,
              "#fdca26"
             ],
             [
              1,
              "#f0f921"
             ]
            ],
            "type": "heatmap"
           }
          ],
          "heatmapgl": [
           {
            "colorbar": {
             "outlinewidth": 0,
             "ticks": ""
            },
            "colorscale": [
             [
              0,
              "#0d0887"
             ],
             [
              0.1111111111111111,
              "#46039f"
             ],
             [
              0.2222222222222222,
              "#7201a8"
             ],
             [
              0.3333333333333333,
              "#9c179e"
             ],
             [
              0.4444444444444444,
              "#bd3786"
             ],
             [
              0.5555555555555556,
              "#d8576b"
             ],
             [
              0.6666666666666666,
              "#ed7953"
             ],
             [
              0.7777777777777778,
              "#fb9f3a"
             ],
             [
              0.8888888888888888,
              "#fdca26"
             ],
             [
              1,
              "#f0f921"
             ]
            ],
            "type": "heatmapgl"
           }
          ],
          "histogram": [
           {
            "marker": {
             "pattern": {
              "fillmode": "overlay",
              "size": 10,
              "solidity": 0.2
             }
            },
            "type": "histogram"
           }
          ],
          "histogram2d": [
           {
            "colorbar": {
             "outlinewidth": 0,
             "ticks": ""
            },
            "colorscale": [
             [
              0,
              "#0d0887"
             ],
             [
              0.1111111111111111,
              "#46039f"
             ],
             [
              0.2222222222222222,
              "#7201a8"
             ],
             [
              0.3333333333333333,
              "#9c179e"
             ],
             [
              0.4444444444444444,
              "#bd3786"
             ],
             [
              0.5555555555555556,
              "#d8576b"
             ],
             [
              0.6666666666666666,
              "#ed7953"
             ],
             [
              0.7777777777777778,
              "#fb9f3a"
             ],
             [
              0.8888888888888888,
              "#fdca26"
             ],
             [
              1,
              "#f0f921"
             ]
            ],
            "type": "histogram2d"
           }
          ],
          "histogram2dcontour": [
           {
            "colorbar": {
             "outlinewidth": 0,
             "ticks": ""
            },
            "colorscale": [
             [
              0,
              "#0d0887"
             ],
             [
              0.1111111111111111,
              "#46039f"
             ],
             [
              0.2222222222222222,
              "#7201a8"
             ],
             [
              0.3333333333333333,
              "#9c179e"
             ],
             [
              0.4444444444444444,
              "#bd3786"
             ],
             [
              0.5555555555555556,
              "#d8576b"
             ],
             [
              0.6666666666666666,
              "#ed7953"
             ],
             [
              0.7777777777777778,
              "#fb9f3a"
             ],
             [
              0.8888888888888888,
              "#fdca26"
             ],
             [
              1,
              "#f0f921"
             ]
            ],
            "type": "histogram2dcontour"
           }
          ],
          "mesh3d": [
           {
            "colorbar": {
             "outlinewidth": 0,
             "ticks": ""
            },
            "type": "mesh3d"
           }
          ],
          "parcoords": [
           {
            "line": {
             "colorbar": {
              "outlinewidth": 0,
              "ticks": ""
             }
            },
            "type": "parcoords"
           }
          ],
          "pie": [
           {
            "automargin": true,
            "type": "pie"
           }
          ],
          "scatter": [
           {
            "fillpattern": {
             "fillmode": "overlay",
             "size": 10,
             "solidity": 0.2
            },
            "type": "scatter"
           }
          ],
          "scatter3d": [
           {
            "line": {
             "colorbar": {
              "outlinewidth": 0,
              "ticks": ""
             }
            },
            "marker": {
             "colorbar": {
              "outlinewidth": 0,
              "ticks": ""
             }
            },
            "type": "scatter3d"
           }
          ],
          "scattercarpet": [
           {
            "marker": {
             "colorbar": {
              "outlinewidth": 0,
              "ticks": ""
             }
            },
            "type": "scattercarpet"
           }
          ],
          "scattergeo": [
           {
            "marker": {
             "colorbar": {
              "outlinewidth": 0,
              "ticks": ""
             }
            },
            "type": "scattergeo"
           }
          ],
          "scattergl": [
           {
            "marker": {
             "colorbar": {
              "outlinewidth": 0,
              "ticks": ""
             }
            },
            "type": "scattergl"
           }
          ],
          "scattermapbox": [
           {
            "marker": {
             "colorbar": {
              "outlinewidth": 0,
              "ticks": ""
             }
            },
            "type": "scattermapbox"
           }
          ],
          "scatterpolar": [
           {
            "marker": {
             "colorbar": {
              "outlinewidth": 0,
              "ticks": ""
             }
            },
            "type": "scatterpolar"
           }
          ],
          "scatterpolargl": [
           {
            "marker": {
             "colorbar": {
              "outlinewidth": 0,
              "ticks": ""
             }
            },
            "type": "scatterpolargl"
           }
          ],
          "scatterternary": [
           {
            "marker": {
             "colorbar": {
              "outlinewidth": 0,
              "ticks": ""
             }
            },
            "type": "scatterternary"
           }
          ],
          "surface": [
           {
            "colorbar": {
             "outlinewidth": 0,
             "ticks": ""
            },
            "colorscale": [
             [
              0,
              "#0d0887"
             ],
             [
              0.1111111111111111,
              "#46039f"
             ],
             [
              0.2222222222222222,
              "#7201a8"
             ],
             [
              0.3333333333333333,
              "#9c179e"
             ],
             [
              0.4444444444444444,
              "#bd3786"
             ],
             [
              0.5555555555555556,
              "#d8576b"
             ],
             [
              0.6666666666666666,
              "#ed7953"
             ],
             [
              0.7777777777777778,
              "#fb9f3a"
             ],
             [
              0.8888888888888888,
              "#fdca26"
             ],
             [
              1,
              "#f0f921"
             ]
            ],
            "type": "surface"
           }
          ],
          "table": [
           {
            "cells": {
             "fill": {
              "color": "#EBF0F8"
             },
             "line": {
              "color": "white"
             }
            },
            "header": {
             "fill": {
              "color": "#C8D4E3"
             },
             "line": {
              "color": "white"
             }
            },
            "type": "table"
           }
          ]
         },
         "layout": {
          "annotationdefaults": {
           "arrowcolor": "#2a3f5f",
           "arrowhead": 0,
           "arrowwidth": 1
          },
          "autotypenumbers": "strict",
          "coloraxis": {
           "colorbar": {
            "outlinewidth": 0,
            "ticks": ""
           }
          },
          "colorscale": {
           "diverging": [
            [
             0,
             "#8e0152"
            ],
            [
             0.1,
             "#c51b7d"
            ],
            [
             0.2,
             "#de77ae"
            ],
            [
             0.3,
             "#f1b6da"
            ],
            [
             0.4,
             "#fde0ef"
            ],
            [
             0.5,
             "#f7f7f7"
            ],
            [
             0.6,
             "#e6f5d0"
            ],
            [
             0.7,
             "#b8e186"
            ],
            [
             0.8,
             "#7fbc41"
            ],
            [
             0.9,
             "#4d9221"
            ],
            [
             1,
             "#276419"
            ]
           ],
           "sequential": [
            [
             0,
             "#0d0887"
            ],
            [
             0.1111111111111111,
             "#46039f"
            ],
            [
             0.2222222222222222,
             "#7201a8"
            ],
            [
             0.3333333333333333,
             "#9c179e"
            ],
            [
             0.4444444444444444,
             "#bd3786"
            ],
            [
             0.5555555555555556,
             "#d8576b"
            ],
            [
             0.6666666666666666,
             "#ed7953"
            ],
            [
             0.7777777777777778,
             "#fb9f3a"
            ],
            [
             0.8888888888888888,
             "#fdca26"
            ],
            [
             1,
             "#f0f921"
            ]
           ],
           "sequentialminus": [
            [
             0,
             "#0d0887"
            ],
            [
             0.1111111111111111,
             "#46039f"
            ],
            [
             0.2222222222222222,
             "#7201a8"
            ],
            [
             0.3333333333333333,
             "#9c179e"
            ],
            [
             0.4444444444444444,
             "#bd3786"
            ],
            [
             0.5555555555555556,
             "#d8576b"
            ],
            [
             0.6666666666666666,
             "#ed7953"
            ],
            [
             0.7777777777777778,
             "#fb9f3a"
            ],
            [
             0.8888888888888888,
             "#fdca26"
            ],
            [
             1,
             "#f0f921"
            ]
           ]
          },
          "colorway": [
           "#636efa",
           "#EF553B",
           "#00cc96",
           "#ab63fa",
           "#FFA15A",
           "#19d3f3",
           "#FF6692",
           "#B6E880",
           "#FF97FF",
           "#FECB52"
          ],
          "font": {
           "color": "#2a3f5f"
          },
          "geo": {
           "bgcolor": "white",
           "lakecolor": "white",
           "landcolor": "#E5ECF6",
           "showlakes": true,
           "showland": true,
           "subunitcolor": "white"
          },
          "hoverlabel": {
           "align": "left"
          },
          "hovermode": "closest",
          "mapbox": {
           "style": "light"
          },
          "paper_bgcolor": "white",
          "plot_bgcolor": "#E5ECF6",
          "polar": {
           "angularaxis": {
            "gridcolor": "white",
            "linecolor": "white",
            "ticks": ""
           },
           "bgcolor": "#E5ECF6",
           "radialaxis": {
            "gridcolor": "white",
            "linecolor": "white",
            "ticks": ""
           }
          },
          "scene": {
           "xaxis": {
            "backgroundcolor": "#E5ECF6",
            "gridcolor": "white",
            "gridwidth": 2,
            "linecolor": "white",
            "showbackground": true,
            "ticks": "",
            "zerolinecolor": "white"
           },
           "yaxis": {
            "backgroundcolor": "#E5ECF6",
            "gridcolor": "white",
            "gridwidth": 2,
            "linecolor": "white",
            "showbackground": true,
            "ticks": "",
            "zerolinecolor": "white"
           },
           "zaxis": {
            "backgroundcolor": "#E5ECF6",
            "gridcolor": "white",
            "gridwidth": 2,
            "linecolor": "white",
            "showbackground": true,
            "ticks": "",
            "zerolinecolor": "white"
           }
          },
          "shapedefaults": {
           "line": {
            "color": "#2a3f5f"
           }
          },
          "ternary": {
           "aaxis": {
            "gridcolor": "white",
            "linecolor": "white",
            "ticks": ""
           },
           "baxis": {
            "gridcolor": "white",
            "linecolor": "white",
            "ticks": ""
           },
           "bgcolor": "#E5ECF6",
           "caxis": {
            "gridcolor": "white",
            "linecolor": "white",
            "ticks": ""
           }
          },
          "title": {
           "x": 0.05
          },
          "xaxis": {
           "automargin": true,
           "gridcolor": "white",
           "linecolor": "white",
           "ticks": "",
           "title": {
            "standoff": 15
           },
           "zerolinecolor": "white",
           "zerolinewidth": 2
          },
          "yaxis": {
           "automargin": true,
           "gridcolor": "white",
           "linecolor": "white",
           "ticks": "",
           "title": {
            "standoff": 15
           },
           "zerolinecolor": "white",
           "zerolinewidth": 2
          }
         }
        },
        "width": 600,
        "xaxis": {
         "anchor": "y",
         "domain": [
          0,
          1
         ],
         "title": {
          "text": "x"
         }
        },
        "yaxis": {
         "anchor": "x",
         "domain": [
          0,
          1
         ],
         "title": {
          "text": "y"
         }
        }
       }
      }
     },
     "metadata": {},
     "output_type": "display_data"
    }
   ],
   "source": [
    "forest_reg.predict(X_test_norm)\n",
    "\n",
    "px.scatter(\n",
    "    x= forest_reg.predict(X_test_norm), #predicted\n",
    "    y= y_test ,#reelles\n",
    "    width=600,\n",
    "    height=500\n",
    ")"
   ]
  },
  {
   "attachments": {},
   "cell_type": "markdown",
   "metadata": {},
   "source": [
    "Let's perform a 10 fold cross validation.\n",
    "And display the resulting scores:"
   ]
  },
  {
   "cell_type": "code",
   "execution_count": 110,
   "metadata": {},
   "outputs": [
    {
     "name": "stdout",
     "output_type": "stream",
     "text": [
      "Forest regression root mean sq error (val set):  0.017684369589003303\n",
      "Forest regression root mean sq error (train set):  0.007462723338911445\n"
     ]
    }
   ],
   "source": [
    "from sklearn.model_selection import cross_validate\n",
    "\n",
    "cv_results = cross_validate(forest_reg, X_train_norm, y_train, cv=10, scoring='neg_root_mean_squared_error', return_train_score=True)\n",
    "\n",
    "print(\"Forest regression root mean sq error (val set): \" , abs(cv_results['test_score']).mean())\n",
    "print(\"Forest regression root mean sq error (train set): \", abs(cv_results['train_score']).mean())"
   ]
  },
  {
   "attachments": {},
   "cell_type": "markdown",
   "metadata": {},
   "source": [
    "## Learning Curves analysis "
   ]
  },
  {
   "attachments": {},
   "cell_type": "markdown",
   "metadata": {},
   "source": [
    "Use the function seen in **Module 1 to plot learning curves with cross validation.** "
   ]
  },
  {
   "cell_type": "code",
   "execution_count": 170,
   "metadata": {},
   "outputs": [
    {
     "data": {
      "image/png": "[encoded data removed]",
      "text/plain": [
       "<Figure size 640x480 with 1 Axes>"
      ]
     },
     "metadata": {},
     "output_type": "display_data"
    }
   ],
   "source": [
    "from sklearn.model_selection import learning_curve, LearningCurveDisplay\n",
    "\n",
    "def plot_learning_curve(estimator, title , X, y, scoring = None, axes=None, ylim=None, cv=5,\n",
    "                        n_jobs=None, train_sizes=np.linspace(.1, 1.0, 5)):\n",
    "# create your method to plot your learning curves using the sklearn method learning_curve()\n",
    "    scaler=StandardScaler()\n",
    "    X_norm = scaler.fit_transform(X)\n",
    "    estimator.fit(X_norm, y)\n",
    "    train_size_abs, train_scores, test_scores = learning_curve(estimator, X_train, y_train, train_sizes=train_sizes, \n",
    "                                                            cv=cv, scoring=scoring, n_jobs=n_jobs)\n",
    "    LearningCurveDisplay(train_sizes=train_size_abs, train_scores = (train_scores), test_scores=(test_scores), score_name=f\"{scoring}\").plot()\n",
    "    plt.title(title)\n",
    "    plt.ylim(ylim)\n",
    "    # plt.plot([min(train_size_abs), max(train_size_abs)], [-y_train.std(), -y_train.std()], color=\"brown\", linestyle='-', linewidth=2, label=\"initial std(y_train)\")\n",
    "    plt.legend(['Training score', 'Validation score (test)'])\n",
    "    plt.show()\n",
    "\n",
    "\n",
    "\n",
    "max_depth=2\n",
    "n_estimators = 100\n",
    "\n",
    "forest_reg = RandomForestRegressor(n_estimators=n_estimators, max_depth=max_depth, random_state=42)\n",
    "forest_reg.fit(X_train_norm, y_train)\n",
    "forest_reg.predict(X_test_norm)\n",
    "\n",
    "\n",
    "plot_learning_curve(forest_reg,  \"Random Forest Reg - RMSE\", X_train_norm, y_train, scoring=\"neg_root_mean_squared_error\")\n",
    "# plt.plot([10, 80], [-y_train.std(), -y_train.std()], color=\"brown\", linestyle='-', linewidth=2, label=\"initial std(y_train)\")\n",
    "# plt.legend()\n",
    "# plt.show()"
   ]
  },
  {
   "cell_type": "code",
   "execution_count": null,
   "metadata": {},
   "outputs": [],
   "source": []
  },
  {
   "cell_type": "code",
   "execution_count": null,
   "metadata": {},
   "outputs": [],
   "source": []
  },
  {
   "attachments": {},
   "cell_type": "markdown",
   "metadata": {},
   "source": [
    "Try to interpret the obtained learning curve."
   ]
  },
  {
   "cell_type": "markdown",
   "metadata": {},
   "source": [
    "<font color = \"brown\">\n",
    "\n",
    "1) pas assez d'échantillons dans le dataset donc grande erreur\n",
    "\n",
    "2) en dessous de N=40 on a une zone d'overfit\n",
    "\n",
    "3) de N=40 à N=80 on dirait un underfit car les courbes semble décroitrent/être stables \n",
    "\n",
    "4) il faut optimiser le modèle d'abord ?!\n",
    "\n",
    "</font>"
   ]
  },
  {
   "attachments": {},
   "cell_type": "markdown",
   "metadata": {},
   "source": [
    "Perform a grid search to try to obtain the best hyperparameters. What is the best score that you obtained?"
   ]
  },
  {
   "cell_type": "code",
   "execution_count": 171,
   "metadata": {},
   "outputs": [],
   "source": [
    "from sklearn.model_selection import GridSearchCV\n",
    "\n",
    "param_grid ={\n",
    "    'max_depth' : np.linspace(1,75,10, dtype=int),\n",
    "    'n_estimators' : np.linspace(5,200,10, dtype=int)\n",
    "    }\n",
    "\n",
    "\n",
    "\n",
    "forest_reg = RandomForestRegressor(random_state=42)\n",
    "\n",
    "\n",
    "forest_reg_gs = GridSearchCV(forest_reg, param_grid=param_grid, n_jobs=-1, cv=10, scoring=\"neg_root_mean_squared_error\")\n",
    "forest_reg_gs.fit(X_train_norm, y_train)\n",
    "\n",
    "\n",
    "best_max_depth = forest_reg_gs.best_params_['max_depth']\n",
    "best_n_estimators = forest_reg_gs.best_params_['n_estimators']\n"
   ]
  },
  {
   "cell_type": "code",
   "execution_count": 172,
   "metadata": {},
   "outputs": [
    {
     "data": {
      "text/plain": [
       "{'max_depth': 9, 'n_estimators': 26}"
      ]
     },
     "execution_count": 172,
     "metadata": {},
     "output_type": "execute_result"
    }
   ],
   "source": [
    "forest_reg_gs.best_params_"
   ]
  },
  {
   "cell_type": "code",
   "execution_count": 174,
   "metadata": {},
   "outputs": [
    {
     "data": {
      "image/png": "[encoded data removed]",
      "text/plain": [
       "<Figure size 640x480 with 1 Axes>"
      ]
     },
     "metadata": {},
     "output_type": "display_data"
    }
   ],
   "source": [
    "max_depth=best_max_depth\n",
    "n_estimators = best_n_estimators\n",
    "\n",
    "forest_reg = RandomForestRegressor(n_estimators=n_estimators, max_depth=max_depth, random_state=42)\n",
    "forest_reg.fit(X_train_norm, y_train)\n",
    "forest_reg.predict(X_test_norm)\n",
    "\n",
    "plot_learning_curve(forest_reg,  \"Random Forest Reg (after grid search) - RMSE\", X_train_norm, y_train, scoring=\"neg_root_mean_squared_error\")"
   ]
  },
  {
   "attachments": {},
   "cell_type": "markdown",
   "metadata": {},
   "source": [
    "## SVM"
   ]
  },
  {
   "attachments": {},
   "cell_type": "markdown",
   "metadata": {},
   "source": [
    "Use the SVM regressor to estimate the death rate. See if you can get a better model than with the Random forest regressor."
   ]
  },
  {
   "cell_type": "code",
   "execution_count": 175,
   "metadata": {},
   "outputs": [
    {
     "data": {
      "image/png": "[encoded data removed]",
      "text/plain": [
       "<Figure size 640x480 with 1 Axes>"
      ]
     },
     "metadata": {},
     "output_type": "display_data"
    }
   ],
   "source": [
    "from sklearn.svm import SVR\n",
    "\n",
    "kernel = 'rbf'\n",
    "gamma = 'scale'\n",
    "C = 1\n",
    "\n",
    "svr = SVR(kernel=kernel, gamma=gamma, C=C)\n",
    "svr.fit(X_train_norm, y_train)\n",
    "svr.predict(X_test_norm)\n",
    "\n",
    "plot_learning_curve(svr,  \"SVR - RMSE\", X_train_norm, y_train, scoring=\"neg_root_mean_squared_error\")"
   ]
  },
  {
   "cell_type": "code",
   "execution_count": 136,
   "metadata": {},
   "outputs": [
    {
     "data": {
      "text/html": [
       "<style>#sk-container-id-8 {color: black;}#sk-container-id-8 pre{padding: 0;}#sk-container-id-8 div.sk-toggleable {background-color: white;}#sk-container-id-8 label.sk-toggleable__label {cursor: pointer;display: block;width: 100%;margin-bottom: 0;padding: 0.3em;box-sizing: border-box;text-align: center;}#sk-container-id-8 label.sk-toggleable__label-arrow:before {content: \"▸\";float: left;margin-right: 0.25em;color: #696969;}#sk-container-id-8 label.sk-toggleable__label-arrow:hover:before {color: black;}#sk-container-id-8 div.sk-estimator:hover label.sk-toggleable__label-arrow:before {color: black;}#sk-container-id-8 div.sk-toggleable__content {max-height: 0;max-width: 0;overflow: hidden;text-align: left;background-color: #f0f8ff;}#sk-container-id-8 div.sk-toggleable__content pre {margin: 0.2em;color: black;border-radius: 0.25em;background-color: #f0f8ff;}#sk-container-id-8 input.sk-toggleable__control:checked~div.sk-toggleable__content {max-height: 200px;max-width: 100%;overflow: auto;}#sk-container-id-8 input.sk-toggleable__control:checked~label.sk-toggleable__label-arrow:before {content: \"▾\";}#sk-container-id-8 div.sk-estimator input.sk-toggleable__control:checked~label.sk-toggleable__label {background-color: #d4ebff;}#sk-container-id-8 div.sk-label input.sk-toggleable__control:checked~label.sk-toggleable__label {background-color: #d4ebff;}#sk-container-id-8 input.sk-hidden--visually {border: 0;clip: rect(1px 1px 1px 1px);clip: rect(1px, 1px, 1px, 1px);height: 1px;margin: -1px;overflow: hidden;padding: 0;position: absolute;width: 1px;}#sk-container-id-8 div.sk-estimator {font-family: monospace;background-color: #f0f8ff;border: 1px dotted black;border-radius: 0.25em;box-sizing: border-box;margin-bottom: 0.5em;}#sk-container-id-8 div.sk-estimator:hover {background-color: #d4ebff;}#sk-container-id-8 div.sk-parallel-item::after {content: \"\";width: 100%;border-bottom: 1px solid gray;flex-grow: 1;}#sk-container-id-8 div.sk-label:hover label.sk-toggleable__label {background-color: #d4ebff;}#sk-container-id-8 div.sk-serial::before {content: \"\";position: absolute;border-left: 1px solid gray;box-sizing: border-box;top: 0;bottom: 0;left: 50%;z-index: 0;}#sk-container-id-8 div.sk-serial {display: flex;flex-direction: column;align-items: center;background-color: white;padding-right: 0.2em;padding-left: 0.2em;position: relative;}#sk-container-id-8 div.sk-item {position: relative;z-index: 1;}#sk-container-id-8 div.sk-parallel {display: flex;align-items: stretch;justify-content: center;background-color: white;position: relative;}#sk-container-id-8 div.sk-item::before, #sk-container-id-8 div.sk-parallel-item::before {content: \"\";position: absolute;border-left: 1px solid gray;box-sizing: border-box;top: 0;bottom: 0;left: 50%;z-index: -1;}#sk-container-id-8 div.sk-parallel-item {display: flex;flex-direction: column;z-index: 1;position: relative;background-color: white;}#sk-container-id-8 div.sk-parallel-item:first-child::after {align-self: flex-end;width: 50%;}#sk-container-id-8 div.sk-parallel-item:last-child::after {align-self: flex-start;width: 50%;}#sk-container-id-8 div.sk-parallel-item:only-child::after {width: 0;}#sk-container-id-8 div.sk-dashed-wrapped {border: 1px dashed gray;margin: 0 0.4em 0.5em 0.4em;box-sizing: border-box;padding-bottom: 0.4em;background-color: white;}#sk-container-id-8 div.sk-label label {font-family: monospace;font-weight: bold;display: inline-block;line-height: 1.2em;}#sk-container-id-8 div.sk-label-container {text-align: center;}#sk-container-id-8 div.sk-container {/* jupyter's `normalize.less` sets `[hidden] { display: none; }` but bootstrap.min.css set `[hidden] { display: none !important; }` so we also need the `!important` here to be able to override the default hidden behavior on the sphinx rendered scikit-learn.org. See: https://github.com/scikit-learn/scikit-learn/issues/21755 */display: inline-block !important;position: relative;}#sk-container-id-8 div.sk-text-repr-fallback {display: none;}</style><div id=\"sk-container-id-8\" class=\"sk-top-container\"><div class=\"sk-text-repr-fallback\"><pre>GridSearchCV(cv=5, estimator=SVR(), n_jobs=-1,\n",
       "             param_grid={&#x27;C&#x27;: array([1.00000000e-03, 1.01011091e+02, 2.02021182e+02, 3.03031273e+02,\n",
       "       4.04041364e+02, 5.05051455e+02, 6.06061545e+02, 7.07071636e+02,\n",
       "       8.08081727e+02, 9.09091818e+02, 1.01010191e+03, 1.11111200e+03,\n",
       "       1.21212209e+03, 1.31313218e+03, 1.41414227e+03, 1.51515236e+03,\n",
       "       1.61616245e+03, 1.71717255e+03, 1.81818264e+0...\n",
       "       1.45082878e+06, 2.31012970e+06, 3.67837977e+06, 5.85702082e+06,\n",
       "       9.32603347e+06, 1.48496826e+07, 2.36448941e+07, 3.76493581e+07,\n",
       "       5.99484250e+07, 9.54548457e+07, 1.51991108e+08, 2.42012826e+08,\n",
       "       3.85352859e+08, 6.13590727e+08, 9.77009957e+08, 1.55567614e+09,\n",
       "       2.47707636e+09, 3.94420606e+09, 6.28029144e+09, 1.00000000e+10]),\n",
       "                         &#x27;kernel&#x27;: [&#x27;rbf&#x27;, &#x27;linear&#x27;]},\n",
       "             scoring=&#x27;neg_root_mean_squared_error&#x27;)</pre><b>In a Jupyter environment, please rerun this cell to show the HTML representation or trust the notebook. <br />On GitHub, the HTML representation is unable to render, please try loading this page with nbviewer.org.</b></div><div class=\"sk-container\" hidden><div class=\"sk-item sk-dashed-wrapped\"><div class=\"sk-label-container\"><div class=\"sk-label sk-toggleable\"><input class=\"sk-toggleable__control sk-hidden--visually\" id=\"sk-estimator-id-10\" type=\"checkbox\" ><label for=\"sk-estimator-id-10\" class=\"sk-toggleable__label sk-toggleable__label-arrow\">GridSearchCV</label><div class=\"sk-toggleable__content\"><pre>GridSearchCV(cv=5, estimator=SVR(), n_jobs=-1,\n",
       "             param_grid={&#x27;C&#x27;: array([1.00000000e-03, 1.01011091e+02, 2.02021182e+02, 3.03031273e+02,\n",
       "       4.04041364e+02, 5.05051455e+02, 6.06061545e+02, 7.07071636e+02,\n",
       "       8.08081727e+02, 9.09091818e+02, 1.01010191e+03, 1.11111200e+03,\n",
       "       1.21212209e+03, 1.31313218e+03, 1.41414227e+03, 1.51515236e+03,\n",
       "       1.61616245e+03, 1.71717255e+03, 1.81818264e+0...\n",
       "       1.45082878e+06, 2.31012970e+06, 3.67837977e+06, 5.85702082e+06,\n",
       "       9.32603347e+06, 1.48496826e+07, 2.36448941e+07, 3.76493581e+07,\n",
       "       5.99484250e+07, 9.54548457e+07, 1.51991108e+08, 2.42012826e+08,\n",
       "       3.85352859e+08, 6.13590727e+08, 9.77009957e+08, 1.55567614e+09,\n",
       "       2.47707636e+09, 3.94420606e+09, 6.28029144e+09, 1.00000000e+10]),\n",
       "                         &#x27;kernel&#x27;: [&#x27;rbf&#x27;, &#x27;linear&#x27;]},\n",
       "             scoring=&#x27;neg_root_mean_squared_error&#x27;)</pre></div></div></div><div class=\"sk-parallel\"><div class=\"sk-parallel-item\"><div class=\"sk-item\"><div class=\"sk-label-container\"><div class=\"sk-label sk-toggleable\"><input class=\"sk-toggleable__control sk-hidden--visually\" id=\"sk-estimator-id-11\" type=\"checkbox\" ><label for=\"sk-estimator-id-11\" class=\"sk-toggleable__label sk-toggleable__label-arrow\">estimator: SVR</label><div class=\"sk-toggleable__content\"><pre>SVR()</pre></div></div></div><div class=\"sk-serial\"><div class=\"sk-item\"><div class=\"sk-estimator sk-toggleable\"><input class=\"sk-toggleable__control sk-hidden--visually\" id=\"sk-estimator-id-12\" type=\"checkbox\" ><label for=\"sk-estimator-id-12\" class=\"sk-toggleable__label sk-toggleable__label-arrow\">SVR</label><div class=\"sk-toggleable__content\"><pre>SVR()</pre></div></div></div></div></div></div></div></div></div></div>"
      ],
      "text/plain": [
       "GridSearchCV(cv=5, estimator=SVR(), n_jobs=-1,\n",
       "             param_grid={'C': array([1.00000000e-03, 1.01011091e+02, 2.02021182e+02, 3.03031273e+02,\n",
       "       4.04041364e+02, 5.05051455e+02, 6.06061545e+02, 7.07071636e+02,\n",
       "       8.08081727e+02, 9.09091818e+02, 1.01010191e+03, 1.11111200e+03,\n",
       "       1.21212209e+03, 1.31313218e+03, 1.41414227e+03, 1.51515236e+03,\n",
       "       1.61616245e+03, 1.71717255e+03, 1.81818264e+0...\n",
       "       1.45082878e+06, 2.31012970e+06, 3.67837977e+06, 5.85702082e+06,\n",
       "       9.32603347e+06, 1.48496826e+07, 2.36448941e+07, 3.76493581e+07,\n",
       "       5.99484250e+07, 9.54548457e+07, 1.51991108e+08, 2.42012826e+08,\n",
       "       3.85352859e+08, 6.13590727e+08, 9.77009957e+08, 1.55567614e+09,\n",
       "       2.47707636e+09, 3.94420606e+09, 6.28029144e+09, 1.00000000e+10]),\n",
       "                         'kernel': ['rbf', 'linear']},\n",
       "             scoring='neg_root_mean_squared_error')"
      ]
     },
     "execution_count": 136,
     "metadata": {},
     "output_type": "execute_result"
    }
   ],
   "source": [
    "from sklearn.model_selection import GridSearchCV\n",
    "\n",
    "param_grid ={\n",
    "    'kernel' : ['rbf','linear'],\n",
    "    'gamma' : np.logspace(-10,10,100),\n",
    "    'C':np.linspace(0.001,10000,100)\n",
    "    }\n",
    "\n",
    "\n",
    "\n",
    "svr = SVR()\n",
    "\n",
    "svr_gs = GridSearchCV(svr, param_grid=param_grid, n_jobs=-1, cv=5, scoring=\"neg_root_mean_squared_error\")\n",
    "svr_gs.fit(X_train_norm, y_train)\n",
    "\n",
    "\n"
   ]
  },
  {
   "cell_type": "code",
   "execution_count": 176,
   "metadata": {},
   "outputs": [
    {
     "data": {
      "text/html": [
       "<style>#sk-container-id-10 {color: black;}#sk-container-id-10 pre{padding: 0;}#sk-container-id-10 div.sk-toggleable {background-color: white;}#sk-container-id-10 label.sk-toggleable__label {cursor: pointer;display: block;width: 100%;margin-bottom: 0;padding: 0.3em;box-sizing: border-box;text-align: center;}#sk-container-id-10 label.sk-toggleable__label-arrow:before {content: \"▸\";float: left;margin-right: 0.25em;color: #696969;}#sk-container-id-10 label.sk-toggleable__label-arrow:hover:before {color: black;}#sk-container-id-10 div.sk-estimator:hover label.sk-toggleable__label-arrow:before {color: black;}#sk-container-id-10 div.sk-toggleable__content {max-height: 0;max-width: 0;overflow: hidden;text-align: left;background-color: #f0f8ff;}#sk-container-id-10 div.sk-toggleable__content pre {margin: 0.2em;color: black;border-radius: 0.25em;background-color: #f0f8ff;}#sk-container-id-10 input.sk-toggleable__control:checked~div.sk-toggleable__content {max-height: 200px;max-width: 100%;overflow: auto;}#sk-container-id-10 input.sk-toggleable__control:checked~label.sk-toggleable__label-arrow:before {content: \"▾\";}#sk-container-id-10 div.sk-estimator input.sk-toggleable__control:checked~label.sk-toggleable__label {background-color: #d4ebff;}#sk-container-id-10 div.sk-label input.sk-toggleable__control:checked~label.sk-toggleable__label {background-color: #d4ebff;}#sk-container-id-10 input.sk-hidden--visually {border: 0;clip: rect(1px 1px 1px 1px);clip: rect(1px, 1px, 1px, 1px);height: 1px;margin: -1px;overflow: hidden;padding: 0;position: absolute;width: 1px;}#sk-container-id-10 div.sk-estimator {font-family: monospace;background-color: #f0f8ff;border: 1px dotted black;border-radius: 0.25em;box-sizing: border-box;margin-bottom: 0.5em;}#sk-container-id-10 div.sk-estimator:hover {background-color: #d4ebff;}#sk-container-id-10 div.sk-parallel-item::after {content: \"\";width: 100%;border-bottom: 1px solid gray;flex-grow: 1;}#sk-container-id-10 div.sk-label:hover label.sk-toggleable__label {background-color: #d4ebff;}#sk-container-id-10 div.sk-serial::before {content: \"\";position: absolute;border-left: 1px solid gray;box-sizing: border-box;top: 0;bottom: 0;left: 50%;z-index: 0;}#sk-container-id-10 div.sk-serial {display: flex;flex-direction: column;align-items: center;background-color: white;padding-right: 0.2em;padding-left: 0.2em;position: relative;}#sk-container-id-10 div.sk-item {position: relative;z-index: 1;}#sk-container-id-10 div.sk-parallel {display: flex;align-items: stretch;justify-content: center;background-color: white;position: relative;}#sk-container-id-10 div.sk-item::before, #sk-container-id-10 div.sk-parallel-item::before {content: \"\";position: absolute;border-left: 1px solid gray;box-sizing: border-box;top: 0;bottom: 0;left: 50%;z-index: -1;}#sk-container-id-10 div.sk-parallel-item {display: flex;flex-direction: column;z-index: 1;position: relative;background-color: white;}#sk-container-id-10 div.sk-parallel-item:first-child::after {align-self: flex-end;width: 50%;}#sk-container-id-10 div.sk-parallel-item:last-child::after {align-self: flex-start;width: 50%;}#sk-container-id-10 div.sk-parallel-item:only-child::after {width: 0;}#sk-container-id-10 div.sk-dashed-wrapped {border: 1px dashed gray;margin: 0 0.4em 0.5em 0.4em;box-sizing: border-box;padding-bottom: 0.4em;background-color: white;}#sk-container-id-10 div.sk-label label {font-family: monospace;font-weight: bold;display: inline-block;line-height: 1.2em;}#sk-container-id-10 div.sk-label-container {text-align: center;}#sk-container-id-10 div.sk-container {/* jupyter's `normalize.less` sets `[hidden] { display: none; }` but bootstrap.min.css set `[hidden] { display: none !important; }` so we also need the `!important` here to be able to override the default hidden behavior on the sphinx rendered scikit-learn.org. See: https://github.com/scikit-learn/scikit-learn/issues/21755 */display: inline-block !important;position: relative;}#sk-container-id-10 div.sk-text-repr-fallback {display: none;}</style><div id=\"sk-container-id-10\" class=\"sk-top-container\"><div class=\"sk-text-repr-fallback\"><pre>SVR(C=0.001, gamma=9.999999999999999e-11)</pre><b>In a Jupyter environment, please rerun this cell to show the HTML representation or trust the notebook. <br />On GitHub, the HTML representation is unable to render, please try loading this page with nbviewer.org.</b></div><div class=\"sk-container\" hidden><div class=\"sk-item\"><div class=\"sk-estimator sk-toggleable\"><input class=\"sk-toggleable__control sk-hidden--visually\" id=\"sk-estimator-id-14\" type=\"checkbox\" checked><label for=\"sk-estimator-id-14\" class=\"sk-toggleable__label sk-toggleable__label-arrow\">SVR</label><div class=\"sk-toggleable__content\"><pre>SVR(C=0.001, gamma=9.999999999999999e-11)</pre></div></div></div></div></div>"
      ],
      "text/plain": [
       "SVR(C=0.001, gamma=9.999999999999999e-11)"
      ]
     },
     "execution_count": 176,
     "metadata": {},
     "output_type": "execute_result"
    }
   ],
   "source": [
    "svr_gs.best_estimator_"
   ]
  },
  {
   "cell_type": "code",
   "execution_count": 177,
   "metadata": {},
   "outputs": [
    {
     "data": {
      "image/png": "[encoded data removed]",
      "text/plain": [
       "<Figure size 640x480 with 1 Axes>"
      ]
     },
     "metadata": {},
     "output_type": "display_data"
    }
   ],
   "source": [
    "best_kernel = svr_gs.best_params_['kernel']\n",
    "best_gamma = svr_gs.best_params_['gamma']\n",
    "best_C = svr_gs.best_params_['C']\n",
    "\n",
    "kernel = best_kernel\n",
    "gamma = best_gamma\n",
    "C = best_C\n",
    "\n",
    "svr = SVR(kernel=kernel, gamma=gamma, C=C)\n",
    "svr.fit(X_train_norm, y_train)\n",
    "svr.predict(X_test_norm)\n",
    "\n",
    "plot_learning_curve(svr,  \"SVR (after grid search) - RMSE\", X_train_norm, y_train, scoring=\"neg_root_mean_squared_error\")"
   ]
  },
  {
   "attachments": {},
   "cell_type": "markdown",
   "metadata": {},
   "source": [
    "## Linear regression"
   ]
  },
  {
   "cell_type": "code",
   "execution_count": 178,
   "metadata": {},
   "outputs": [
    {
     "data": {
      "image/png": "[encoded data removed]",
      "text/plain": [
       "<Figure size 640x480 with 1 Axes>"
      ]
     },
     "metadata": {},
     "output_type": "display_data"
    }
   ],
   "source": [
    "from sklearn.linear_model import LinearRegression\n",
    "\n",
    "lin_reg = LinearRegression()\n",
    "lin_reg.fit(X_train_norm, y_train)\n",
    "lin_reg.predict(X_test_norm)\n",
    "\n",
    "plot_learning_curve(lin_reg,  \"LinearRegression - RMSE\", X_train_norm, y_train, scoring=\"neg_root_mean_squared_error\")"
   ]
  },
  {
   "cell_type": "code",
   "execution_count": null,
   "metadata": {},
   "outputs": [],
   "source": []
  },
  {
   "attachments": {},
   "cell_type": "markdown",
   "metadata": {},
   "source": [
    "# Dimensionality reduction"
   ]
  },
  {
   "attachments": {},
   "cell_type": "markdown",
   "metadata": {},
   "source": [
    "Let's take a look at the whole dataset and see if there are any clusters.\n",
    "\n",
    "In order to do these perform and plot a PCA of 2 components.\n",
    "\n",
    "Dimensionality reduction is a way to reduce the number of features in your dataset without having to lose much information and keep the model’s performance. Check out the Random Forest based method and PCA for dimensionality reduction in the following ressource:\n",
    "\n",
    "https://www.analyticsvidhya.com/blog/2018/08/dimensionality-reduction-techniques-python/"
   ]
  },
  {
   "attachments": {},
   "cell_type": "markdown",
   "metadata": {},
   "source": [
    "## Random Forest feature selection"
   ]
  },
  {
   "cell_type": "code",
   "execution_count": 179,
   "metadata": {},
   "outputs": [
    {
     "data": {
      "text/html": [
       "<div>\n",
       "<style scoped>\n",
       "    .dataframe tbody tr th:only-of-type {\n",
       "        vertical-align: middle;\n",
       "    }\n",
       "\n",
       "    .dataframe tbody tr th {\n",
       "        vertical-align: top;\n",
       "    }\n",
       "\n",
       "    .dataframe thead th {\n",
       "        text-align: right;\n",
       "    }\n",
       "</style>\n",
       "<table border=\"1\" class=\"dataframe\">\n",
       "  <thead>\n",
       "    <tr style=\"text-align: right;\">\n",
       "      <th></th>\n",
       "      <th>Alcoholic Beverages</th>\n",
       "      <th>Animal Products</th>\n",
       "      <th>Animal fats</th>\n",
       "      <th>Aquatic Products, Other</th>\n",
       "      <th>Cereals - Excluding Beer</th>\n",
       "      <th>Eggs</th>\n",
       "      <th>Fish, Seafood</th>\n",
       "      <th>Fruits - Excluding Wine</th>\n",
       "      <th>Meat</th>\n",
       "      <th>Miscellaneous</th>\n",
       "      <th>...</th>\n",
       "      <th>Confirmed</th>\n",
       "      <th>Recovered</th>\n",
       "      <th>Active</th>\n",
       "      <th>Population</th>\n",
       "      <th>Undernourished_0-10</th>\n",
       "      <th>Undernourished_11-20</th>\n",
       "      <th>Undernourished_21-30</th>\n",
       "      <th>Undernourished_31-40</th>\n",
       "      <th>Undernourished_41-50</th>\n",
       "      <th>Undernourished_51-60</th>\n",
       "    </tr>\n",
       "  </thead>\n",
       "  <tbody>\n",
       "    <tr>\n",
       "      <th>103</th>\n",
       "      <td>0.0</td>\n",
       "      <td>15.4227</td>\n",
       "      <td>3.5807</td>\n",
       "      <td>0.0</td>\n",
       "      <td>7.1539</td>\n",
       "      <td>1.1517</td>\n",
       "      <td>1.2329</td>\n",
       "      <td>0.7014</td>\n",
       "      <td>6.9989</td>\n",
       "      <td>0.0074</td>\n",
       "      <td>...</td>\n",
       "      <td>1.114892</td>\n",
       "      <td>0.998734</td>\n",
       "      <td>0.097636</td>\n",
       "      <td>35952000.0</td>\n",
       "      <td>1.0</td>\n",
       "      <td>0.0</td>\n",
       "      <td>0.0</td>\n",
       "      <td>0.0</td>\n",
       "      <td>0.0</td>\n",
       "      <td>0.0</td>\n",
       "    </tr>\n",
       "    <tr>\n",
       "      <th>146</th>\n",
       "      <td>0.0</td>\n",
       "      <td>28.1054</td>\n",
       "      <td>6.2293</td>\n",
       "      <td>0.0</td>\n",
       "      <td>1.1241</td>\n",
       "      <td>0.9300</td>\n",
       "      <td>0.4048</td>\n",
       "      <td>0.3379</td>\n",
       "      <td>12.0906</td>\n",
       "      <td>0.0000</td>\n",
       "      <td>...</td>\n",
       "      <td>4.453984</td>\n",
       "      <td>3.570767</td>\n",
       "      <td>0.811941</td>\n",
       "      <td>8634000.0</td>\n",
       "      <td>1.0</td>\n",
       "      <td>0.0</td>\n",
       "      <td>0.0</td>\n",
       "      <td>0.0</td>\n",
       "      <td>0.0</td>\n",
       "      <td>0.0</td>\n",
       "    </tr>\n",
       "    <tr>\n",
       "      <th>18</th>\n",
       "      <td>0.0</td>\n",
       "      <td>24.6478</td>\n",
       "      <td>2.4453</td>\n",
       "      <td>0.0</td>\n",
       "      <td>3.6588</td>\n",
       "      <td>0.8354</td>\n",
       "      <td>0.3049</td>\n",
       "      <td>0.5976</td>\n",
       "      <td>9.6957</td>\n",
       "      <td>0.0915</td>\n",
       "      <td>...</td>\n",
       "      <td>3.092380</td>\n",
       "      <td>2.026394</td>\n",
       "      <td>0.962633</td>\n",
       "      <td>3281000.0</td>\n",
       "      <td>1.0</td>\n",
       "      <td>0.0</td>\n",
       "      <td>0.0</td>\n",
       "      <td>0.0</td>\n",
       "      <td>0.0</td>\n",
       "      <td>0.0</td>\n",
       "    </tr>\n",
       "    <tr>\n",
       "      <th>159</th>\n",
       "      <td>0.0</td>\n",
       "      <td>25.8633</td>\n",
       "      <td>4.2615</td>\n",
       "      <td>0.0</td>\n",
       "      <td>1.4678</td>\n",
       "      <td>1.0778</td>\n",
       "      <td>0.5176</td>\n",
       "      <td>0.4219</td>\n",
       "      <td>12.5789</td>\n",
       "      <td>0.0780</td>\n",
       "      <td>...</td>\n",
       "      <td>2.791642</td>\n",
       "      <td>0.006027</td>\n",
       "      <td>2.689576</td>\n",
       "      <td>67160000.0</td>\n",
       "      <td>1.0</td>\n",
       "      <td>0.0</td>\n",
       "      <td>0.0</td>\n",
       "      <td>0.0</td>\n",
       "      <td>0.0</td>\n",
       "      <td>0.0</td>\n",
       "    </tr>\n",
       "    <tr>\n",
       "      <th>12</th>\n",
       "      <td>0.0</td>\n",
       "      <td>25.8451</td>\n",
       "      <td>3.9733</td>\n",
       "      <td>0.0</td>\n",
       "      <td>2.1187</td>\n",
       "      <td>1.2130</td>\n",
       "      <td>1.8060</td>\n",
       "      <td>0.4636</td>\n",
       "      <td>13.1382</td>\n",
       "      <td>0.3235</td>\n",
       "      <td>...</td>\n",
       "      <td>0.103136</td>\n",
       "      <td>0.094774</td>\n",
       "      <td>0.005923</td>\n",
       "      <td>287000.0</td>\n",
       "      <td>1.0</td>\n",
       "      <td>0.0</td>\n",
       "      <td>0.0</td>\n",
       "      <td>0.0</td>\n",
       "      <td>0.0</td>\n",
       "      <td>0.0</td>\n",
       "    </tr>\n",
       "    <tr>\n",
       "      <th>...</th>\n",
       "      <td>...</td>\n",
       "      <td>...</td>\n",
       "      <td>...</td>\n",
       "      <td>...</td>\n",
       "      <td>...</td>\n",
       "      <td>...</td>\n",
       "      <td>...</td>\n",
       "      <td>...</td>\n",
       "      <td>...</td>\n",
       "      <td>...</td>\n",
       "      <td>...</td>\n",
       "      <td>...</td>\n",
       "      <td>...</td>\n",
       "      <td>...</td>\n",
       "      <td>...</td>\n",
       "      <td>...</td>\n",
       "      <td>...</td>\n",
       "      <td>...</td>\n",
       "      <td>...</td>\n",
       "      <td>...</td>\n",
       "      <td>...</td>\n",
       "    </tr>\n",
       "    <tr>\n",
       "      <th>77</th>\n",
       "      <td>0.0</td>\n",
       "      <td>12.2622</td>\n",
       "      <td>1.8696</td>\n",
       "      <td>0.0</td>\n",
       "      <td>3.7391</td>\n",
       "      <td>0.5224</td>\n",
       "      <td>0.3189</td>\n",
       "      <td>0.1980</td>\n",
       "      <td>5.8122</td>\n",
       "      <td>0.0385</td>\n",
       "      <td>...</td>\n",
       "      <td>2.457880</td>\n",
       "      <td>2.084971</td>\n",
       "      <td>0.341006</td>\n",
       "      <td>10679000.0</td>\n",
       "      <td>0.0</td>\n",
       "      <td>1.0</td>\n",
       "      <td>0.0</td>\n",
       "      <td>0.0</td>\n",
       "      <td>0.0</td>\n",
       "      <td>0.0</td>\n",
       "    </tr>\n",
       "    <tr>\n",
       "      <th>116</th>\n",
       "      <td>0.0</td>\n",
       "      <td>23.6146</td>\n",
       "      <td>2.3712</td>\n",
       "      <td>0.0</td>\n",
       "      <td>3.7744</td>\n",
       "      <td>1.4422</td>\n",
       "      <td>0.9290</td>\n",
       "      <td>0.7926</td>\n",
       "      <td>9.0171</td>\n",
       "      <td>0.0325</td>\n",
       "      <td>...</td>\n",
       "      <td>2.684150</td>\n",
       "      <td>2.509803</td>\n",
       "      <td>0.143115</td>\n",
       "      <td>4713000.0</td>\n",
       "      <td>1.0</td>\n",
       "      <td>0.0</td>\n",
       "      <td>0.0</td>\n",
       "      <td>0.0</td>\n",
       "      <td>0.0</td>\n",
       "      <td>0.0</td>\n",
       "    </tr>\n",
       "    <tr>\n",
       "      <th>16</th>\n",
       "      <td>0.0</td>\n",
       "      <td>6.1742</td>\n",
       "      <td>0.4816</td>\n",
       "      <td>0.0</td>\n",
       "      <td>4.6952</td>\n",
       "      <td>0.2064</td>\n",
       "      <td>0.8599</td>\n",
       "      <td>0.1978</td>\n",
       "      <td>3.2849</td>\n",
       "      <td>0.0258</td>\n",
       "      <td>...</td>\n",
       "      <td>0.025309</td>\n",
       "      <td>0.024343</td>\n",
       "      <td>0.000606</td>\n",
       "      <td>12209000.0</td>\n",
       "      <td>0.0</td>\n",
       "      <td>1.0</td>\n",
       "      <td>0.0</td>\n",
       "      <td>0.0</td>\n",
       "      <td>0.0</td>\n",
       "      <td>0.0</td>\n",
       "    </tr>\n",
       "    <tr>\n",
       "      <th>100</th>\n",
       "      <td>0.0</td>\n",
       "      <td>23.7741</td>\n",
       "      <td>3.2525</td>\n",
       "      <td>0.0</td>\n",
       "      <td>6.4604</td>\n",
       "      <td>2.2807</td>\n",
       "      <td>0.4661</td>\n",
       "      <td>0.5305</td>\n",
       "      <td>13.2133</td>\n",
       "      <td>0.0050</td>\n",
       "      <td>...</td>\n",
       "      <td>0.982827</td>\n",
       "      <td>0.725988</td>\n",
       "      <td>0.167399</td>\n",
       "      <td>127792000.0</td>\n",
       "      <td>1.0</td>\n",
       "      <td>0.0</td>\n",
       "      <td>0.0</td>\n",
       "      <td>0.0</td>\n",
       "      <td>0.0</td>\n",
       "      <td>0.0</td>\n",
       "    </tr>\n",
       "    <tr>\n",
       "      <th>112</th>\n",
       "      <td>0.0</td>\n",
       "      <td>10.9769</td>\n",
       "      <td>2.6573</td>\n",
       "      <td>0.0</td>\n",
       "      <td>12.4360</td>\n",
       "      <td>0.0580</td>\n",
       "      <td>0.1353</td>\n",
       "      <td>0.2416</td>\n",
       "      <td>3.6332</td>\n",
       "      <td>0.0097</td>\n",
       "      <td>...</td>\n",
       "      <td>0.009599</td>\n",
       "      <td>0.005350</td>\n",
       "      <td>0.003911</td>\n",
       "      <td>24189000.0</td>\n",
       "      <td>0.0</td>\n",
       "      <td>1.0</td>\n",
       "      <td>0.0</td>\n",
       "      <td>0.0</td>\n",
       "      <td>0.0</td>\n",
       "      <td>0.0</td>\n",
       "    </tr>\n",
       "  </tbody>\n",
       "</table>\n",
       "<p>103 rows × 34 columns</p>\n",
       "</div>"
      ],
      "text/plain": [
       "     Alcoholic Beverages  Animal Products  Animal fats  \\\n",
       "103                  0.0          15.4227       3.5807   \n",
       "146                  0.0          28.1054       6.2293   \n",
       "18                   0.0          24.6478       2.4453   \n",
       "159                  0.0          25.8633       4.2615   \n",
       "12                   0.0          25.8451       3.9733   \n",
       "..                   ...              ...          ...   \n",
       "77                   0.0          12.2622       1.8696   \n",
       "116                  0.0          23.6146       2.3712   \n",
       "16                   0.0           6.1742       0.4816   \n",
       "100                  0.0          23.7741       3.2525   \n",
       "112                  0.0          10.9769       2.6573   \n",
       "\n",
       "     Aquatic Products, Other  Cereals - Excluding Beer    Eggs  Fish, Seafood  \\\n",
       "103                      0.0                    7.1539  1.1517         1.2329   \n",
       "146                      0.0                    1.1241  0.9300         0.4048   \n",
       "18                       0.0                    3.6588  0.8354         0.3049   \n",
       "159                      0.0                    1.4678  1.0778         0.5176   \n",
       "12                       0.0                    2.1187  1.2130         1.8060   \n",
       "..                       ...                       ...     ...            ...   \n",
       "77                       0.0                    3.7391  0.5224         0.3189   \n",
       "116                      0.0                    3.7744  1.4422         0.9290   \n",
       "16                       0.0                    4.6952  0.2064         0.8599   \n",
       "100                      0.0                    6.4604  2.2807         0.4661   \n",
       "112                      0.0                   12.4360  0.0580         0.1353   \n",
       "\n",
       "     Fruits - Excluding Wine     Meat  Miscellaneous  ...  Confirmed  \\\n",
       "103                   0.7014   6.9989         0.0074  ...   1.114892   \n",
       "146                   0.3379  12.0906         0.0000  ...   4.453984   \n",
       "18                    0.5976   9.6957         0.0915  ...   3.092380   \n",
       "159                   0.4219  12.5789         0.0780  ...   2.791642   \n",
       "12                    0.4636  13.1382         0.3235  ...   0.103136   \n",
       "..                       ...      ...            ...  ...        ...   \n",
       "77                    0.1980   5.8122         0.0385  ...   2.457880   \n",
       "116                   0.7926   9.0171         0.0325  ...   2.684150   \n",
       "16                    0.1978   3.2849         0.0258  ...   0.025309   \n",
       "100                   0.5305  13.2133         0.0050  ...   0.982827   \n",
       "112                   0.2416   3.6332         0.0097  ...   0.009599   \n",
       "\n",
       "     Recovered    Active   Population  Undernourished_0-10  \\\n",
       "103   0.998734  0.097636   35952000.0                  1.0   \n",
       "146   3.570767  0.811941    8634000.0                  1.0   \n",
       "18    2.026394  0.962633    3281000.0                  1.0   \n",
       "159   0.006027  2.689576   67160000.0                  1.0   \n",
       "12    0.094774  0.005923     287000.0                  1.0   \n",
       "..         ...       ...          ...                  ...   \n",
       "77    2.084971  0.341006   10679000.0                  0.0   \n",
       "116   2.509803  0.143115    4713000.0                  1.0   \n",
       "16    0.024343  0.000606   12209000.0                  0.0   \n",
       "100   0.725988  0.167399  127792000.0                  1.0   \n",
       "112   0.005350  0.003911   24189000.0                  0.0   \n",
       "\n",
       "     Undernourished_11-20  Undernourished_21-30  Undernourished_31-40  \\\n",
       "103                   0.0                   0.0                   0.0   \n",
       "146                   0.0                   0.0                   0.0   \n",
       "18                    0.0                   0.0                   0.0   \n",
       "159                   0.0                   0.0                   0.0   \n",
       "12                    0.0                   0.0                   0.0   \n",
       "..                    ...                   ...                   ...   \n",
       "77                    1.0                   0.0                   0.0   \n",
       "116                   0.0                   0.0                   0.0   \n",
       "16                    1.0                   0.0                   0.0   \n",
       "100                   0.0                   0.0                   0.0   \n",
       "112                   1.0                   0.0                   0.0   \n",
       "\n",
       "     Undernourished_41-50  Undernourished_51-60  \n",
       "103                   0.0                   0.0  \n",
       "146                   0.0                   0.0  \n",
       "18                    0.0                   0.0  \n",
       "159                   0.0                   0.0  \n",
       "12                    0.0                   0.0  \n",
       "..                    ...                   ...  \n",
       "77                    0.0                   0.0  \n",
       "116                   0.0                   0.0  \n",
       "16                    0.0                   0.0  \n",
       "100                   0.0                   0.0  \n",
       "112                   0.0                   0.0  \n",
       "\n",
       "[103 rows x 34 columns]"
      ]
     },
     "execution_count": 179,
     "metadata": {},
     "output_type": "execute_result"
    }
   ],
   "source": [
    "X_train"
   ]
  },
  {
   "cell_type": "code",
   "execution_count": 182,
   "metadata": {},
   "outputs": [
    {
     "data": {
      "text/plain": [
       "103    0.600028\n",
       "146    2.309037\n",
       "18     3.348166\n",
       "159    3.111247\n",
       "12     0.079014\n",
       "         ...   \n",
       "77     1.033539\n",
       "116    1.011803\n",
       "16     0.011675\n",
       "100    2.897480\n",
       "112    0.010982\n",
       "Name: Deaths, Length: 103, dtype: float64"
      ]
     },
     "execution_count": 182,
     "metadata": {},
     "output_type": "execute_result"
    }
   ],
   "source": [
    "y_train"
   ]
  },
  {
   "cell_type": "code",
   "execution_count": 183,
   "metadata": {},
   "outputs": [],
   "source": [
    "from sklearn.inspection import permutation_importance\n",
    "\n",
    "# X_train_norm\n",
    "# forest_reg\n",
    "feature_names = X_train.columns.values\n",
    "\n",
    "forest_reg_importance = permutation_importance(forest_reg, X_train_norm, y_train, n_repeats=10, random_state=0, n_jobs=-1)\n",
    "\n",
    "importance_mean =forest_reg_importance.importances_mean\n",
    "\n",
    "importance_std = forest_reg_importance.importances_std\n",
    "\n",
    "\n",
    "# importances = forest_clf.feature_importances_\n",
    "# std = np.std([tree.feature_importances_ for tree in forest_clf.estimators_], axis=0)\n",
    "\n",
    "# forest_importances = pd.Series(importances, index=feature_names)\n",
    "\n",
    "\n"
   ]
  },
  {
   "attachments": {},
   "cell_type": "markdown",
   "metadata": {},
   "source": [
    "Plot the feature importance graph."
   ]
  },
  {
   "cell_type": "code",
   "execution_count": 191,
   "metadata": {},
   "outputs": [
    {
     "data": {
      "image/png": "[encoded data removed]",
      "text/plain": [
       "<Figure size 640x480 with 1 Axes>"
      ]
     },
     "metadata": {},
     "output_type": "display_data"
    }
   ],
   "source": [
    "df = pd.DataFrame({\n",
    "    \"feature\" : feature_names,\n",
    "    \"mean_importance\" : importance_mean\n",
    "}).sort_values(by='mean_importance', ascending=False)\n",
    "fig, ax = plt.subplots()\n",
    "plt.bar(x=df[\"feature\"], height=df['mean_importance'])\n",
    "# ax.set_xlabel(rot)\n",
    "plt.xticks(rotation = 90) # Rotates X-Axis Ticks by 45-degrees\n",
    "ax.set_title(\"Feature importances using permutation on full model\")\n",
    "ax.set_ylabel(\"Mean accuracy decrease\")\n",
    "fig.tight_layout()\n",
    "plt.show()\n"
   ]
  },
  {
   "cell_type": "code",
   "execution_count": null,
   "metadata": {},
   "outputs": [],
   "source": []
  },
  {
   "attachments": {},
   "cell_type": "markdown",
   "metadata": {},
   "source": [
    "Comment the graph."
   ]
  },
  {
   "attachments": {},
   "cell_type": "markdown",
   "metadata": {},
   "source": [
    "## PCA dimensionality reduction"
   ]
  },
  {
   "attachments": {},
   "cell_type": "markdown",
   "metadata": {},
   "source": [
    "PCA is a technique which helps us in extracting a new set of variables from an existing large set of variables. Apply clustering methods on this new set of variables. Are the clusters obtained different than the clusters obtained on the \"Obesity\" vs \"Deaths\"?\n",
    "\n",
    "Apply the Elbow method to determne the right number of clusters.\n",
    "\n",
    "Use diverse methods to cluster the countries."
   ]
  },
  {
   "cell_type": "markdown",
   "metadata": {},
   "source": [
    "Pour plot PCA : \n",
    "https://plotly.com/python/pca-visualization/\n"
   ]
  },
  {
   "cell_type": "code",
   "execution_count": 206,
   "metadata": {},
   "outputs": [],
   "source": [
    "from sklearn.decomposition import PCA\n",
    "from sklearn.cluster import KMeans\n",
    "from sklearn.cluster import MeanShift\n",
    "from sklearn.cluster import DBSCAN\n",
    "\n",
    "\n",
    "number_cluster = 5\n",
    "kmeans = KMeans(n_clusters=number_cluster, random_state=42, n_init=10)\n",
    "kmeans.fit(fat_quantity_norm)\n",
    "\n",
    "meanshift = MeanShift()\n",
    "meanshift.fit(fat_quantity_norm)\n",
    "\n",
    "dbscan = DBSCAN()\n",
    "dbscan.fit(fat_quantity_norm)\n",
    "\n",
    "pca = PCA()\n",
    "pca.fit(fat_quantity_norm)\n",
    "\n",
    "df_pca = pd.DataFrame({\n",
    "    \"PC1\" : pca.transform(fat_quantity_norm)[:, 0],\n",
    "    \"PC2\" : pca.transform(fat_quantity_norm)[:, 1],\n",
    "    \"PC3\" : pca.transform(fat_quantity_norm)[:, 2],\n",
    "    \"predicted_cluster_kmeans_n5\" : kmeans.predict(fat_quantity_norm).astype(str),\n",
    "    \"predicted_cluster_meanshift\" : meanshift.predict(fat_quantity_norm).astype(str),\n",
    "    'predicted_cluster_dbscan' : dbscan.fit_predict(fat_quantity_norm).astype(str)\n",
    "    })\n",
    "\n",
    "\n",
    "\n",
    "\n",
    "def plot_eigen_values_pca(pca_after_fit):\n",
    "    PC_names = np.arange(pca_after_fit.n_components_) + 1\n",
    "    PC_explained_var = pca_after_fit.explained_variance_ratio_*100\n",
    "    # PC_explained_var = pca_after_fit.explained_variance_\n",
    "    # plt.plot(PC_names, \n",
    "    #      PC_explained_var, \n",
    "    #      'ro-')\n",
    "    plt.bar(x=PC_names, height=PC_explained_var)\n",
    "    plt.title('Scree Plot')\n",
    "    plt.xlabel('Principal Components')\n",
    "    plt.ylabel('Proportion of Variance Explained (%)')\n",
    "    plt.show()\n",
    "\n",
    "\n",
    "\n",
    "\n",
    "\n",
    "#données des individus sur l'ACP : \n",
    "#pca.transform(dataset)\n",
    "\n",
    "\n",
    "# px.scatter(df_pca, \n",
    "#            x='PC1',\n",
    "#            y='PC2', \n",
    "#            color=\"predicted_cluster_kmeans_n5\",\n",
    "#            width=600,\n",
    "#            height=500)"
   ]
  },
  {
   "cell_type": "code",
   "execution_count": 207,
   "metadata": {},
   "outputs": [
    {
     "data": {
      "image/png": "[encoded data removed]",
      "text/plain": [
       "<Figure size 640x480 with 1 Axes>"
      ]
     },
     "metadata": {},
     "output_type": "display_data"
    }
   ],
   "source": [
    "plot_eigen_values_pca(pca)"
   ]
  },
  {
   "cell_type": "code",
   "execution_count": 200,
   "metadata": {},
   "outputs": [
    {
     "data": {
      "text/plain": [
       "array([8.06127745e+00, 2.64667326e+00, 2.21788448e+00, 2.00280823e+00,\n",
       "       1.84529476e+00, 1.68039917e+00, 1.42782053e+00, 1.33908173e+00,\n",
       "       1.29311948e+00, 1.15394106e+00, 1.13148597e+00, 1.01281197e+00,\n",
       "       9.57758205e-01, 9.10596862e-01, 8.45087698e-01, 7.91171579e-01,\n",
       "       7.40765010e-01, 7.03129418e-01, 6.68155423e-01, 6.08171133e-01,\n",
       "       5.79265314e-01, 4.78768096e-01, 4.41367122e-01, 3.77891880e-01,\n",
       "       3.07266734e-01, 2.65060026e-01, 2.33626152e-01, 1.96478625e-01,\n",
       "       1.70027073e-01, 1.37800234e-01, 3.77295961e-03, 3.83856322e-07,\n",
       "       1.67846789e-07, 5.16902149e-11, 5.35932658e-32])"
      ]
     },
     "execution_count": 200,
     "metadata": {},
     "output_type": "execute_result"
    }
   ],
   "source": [
    "pca.explained_variance_"
   ]
  },
  {
   "cell_type": "code",
   "execution_count": null,
   "metadata": {},
   "outputs": [],
   "source": [
    "def plot_var_pca(coeff, labels, dimension1 = 0, dimension2 = 1) :\n",
    "    n=coeff.shape[0]\n",
    "    for i in range(n):\n",
    "        plt.arrow(0, 0, coeff[i,dimension1], coeff[i,dimension2], color = 'black', alpha = 0.25)\n",
    "        if labels is None:\n",
    "            plt.text(x=coeff[i,dimension1]* 1.15, y=coeff[i,dimension2] * 1.15, s=\"Var\"+str(i+1), color = 'black', ha = 'center', va = 'center', fontsize=8)\n",
    "        else:\n",
    "            plt.text(x=coeff[i,dimension1]* 1.15, y=coeff[i,dimension2] * 1.15, s=labels[i], color = 'black', ha = 'center', va = 'center', fontsize=8)\n",
    "    plt.xlim(-1,1)\n",
    "    plt.ylim(-1,1)\n",
    "    plt.xlabel(f\"PC{dimension1+1}\")\n",
    "    plt.ylabel(f\"PC{dimension2+1}\")\n",
    "    plt.show()\n",
    "#données des variables de l'ACP : \n",
    "#np.transpose(pca.components_[0:2, :])"
   ]
  },
  {
   "cell_type": "code",
   "execution_count": null,
   "metadata": {},
   "outputs": [],
   "source": [
    "def biplot_pca(score, coeff, labels=None, cluster_color =\"grey\"):\n",
    "    xs = score[:,0]\n",
    "    ys = score[:,1]\n",
    "    n = coeff.shape[0]\n",
    "    # scalex = 1.0/(xs.max() - xs.min())\n",
    "    # scaley = 1.0/(ys.max() - ys.min())\n",
    "    # plt.scatter(xs * scalex,ys * scaley, c= cluster_color, s=3, cmap='cool')\n",
    "    for i in range(n):\n",
    "        plt.arrow(0, 0, coeff[i,0], coeff[i,1], color = 'black', alpha = 0.25)\n",
    "        if labels is None:\n",
    "            plt.text(x=coeff[i,0]* 1.15, y=coeff[i,1] * 1.15, s=\"Var\"+str(i+1), color = 'black', ha = 'center', va = 'center', fontsize=8)\n",
    "        else:\n",
    "            plt.text(coeff[i,0]* 1.15, coeff[i,1] * 1.15, labels[i], color = 'black', ha = 'center', va = 'center', fontsize=8)\n",
    "    plt.xlim(-1,1)\n",
    "    plt.ylim(-1,1)\n",
    "    plt.xlabel(\"PC{}\".format(1))\n",
    "    plt.ylabel(\"PC{}\".format(2))\n",
    "    plt.grid()\n",
    "\n",
    "x_new = pca.fit_transform(fat_quantity_norm)\n",
    "cluster = kmeans.predict(fat_quantity_norm).astype(int)\n",
    "biplot_pca(x_new[:,0:2], np.transpose(pca.components_[0:2, :]), cluster_color=cluster)"
   ]
  }
 ],
 "metadata": {
  "kernelspec": {
   "display_name": "Python 3",
   "language": "python",
   "name": "python3"
  },
  "language_info": {
   "codemirror_mode": {
    "name": "ipython",
    "version": 3
   },
   "file_extension": ".py",
   "mimetype": "text/x-python",
   "name": "python",
   "nbconvert_exporter": "python",
   "pygments_lexer": "ipython3",
   "version": "3.11.5"
  },
  "toc": {
   "base_numbering": 1,
   "nav_menu": {},
   "number_sections": true,
   "sideBar": true,
   "skip_h1_title": false,
   "title_cell": "Table of Contents",
   "title_sidebar": "Contents",
   "toc_cell": false,
   "toc_position": {},
   "toc_section_display": true,
   "toc_window_display": true
  },
  "varInspector": {
   "cols": {
    "lenName": 16,
    "lenType": 16,
    "lenVar": 40
   },
   "kernels_config": {
    "python": {
     "delete_cmd_postfix": "",
     "delete_cmd_prefix": "del ",
     "library": "var_list.py",
     "varRefreshCmd": "print(var_dic_list())"
    },
    "r": {
     "delete_cmd_postfix": ") ",
     "delete_cmd_prefix": "rm(",
     "library": "var_list.r",
     "varRefreshCmd": "cat(var_dic_list()) "
    }
   },
   "types_to_exclude": [
    "module",
    "function",
    "builtin_function_or_method",
    "instance",
    "_Feature"
   ],
   "window_display": false
  }
 },
 "nbformat": 4,
 "nbformat_minor": 4
}
